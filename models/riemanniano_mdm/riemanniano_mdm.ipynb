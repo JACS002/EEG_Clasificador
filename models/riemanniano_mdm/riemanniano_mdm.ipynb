{
 "cells": [
  {
   "cell_type": "markdown",
   "id": "2e51e8f7",
   "metadata": {},
   "source": [
    "### Bloque — Rutas y logger"
   ]
  },
  {
   "cell_type": "code",
   "execution_count": 13,
   "id": "575c5985",
   "metadata": {},
   "outputs": [
    {
     "name": "stdout",
     "output_type": "stream",
     "text": [
      "[Riemann] data procesados → /root/Proyecto/EEG_Clasificador/data/processed\n",
      "[Riemann] figuras  → /root/Proyecto/EEG_Clasificador/models/riemanniano_mdm/figures\n",
      "[Riemann] tablas   → /root/Proyecto/EEG_Clasificador/models/riemanniano_mdm/tables\n",
      "[Riemann] logs     → /root/Proyecto/EEG_Clasificador/models/riemanniano_mdm/logs\n"
     ]
    }
   ],
   "source": [
    "# %% [Rutas & logger — modelo Riemanniano (MDM/FgMDM)]\n",
    "import sys, logging, warnings\n",
    "from datetime import datetime\n",
    "from pathlib import Path\n",
    "import mne\n",
    "\n",
    "# Este notebook está en: models/riemanniano_mdm/\n",
    "# PROJ -> raíz del repo\n",
    "PROJ = Path('..').resolve().parent          # .../models/riemanniano_mdm -> parent() = models -> parent() = <repo root>\n",
    "DATA_PROC = PROJ / 'data' / 'processed'     # datos preprocesados (S???_MI-epo.fif)\n",
    "\n",
    "# Salidas de este modelo (separadas)\n",
    "RIEM_OUT_ROOT = PROJ / 'models' / 'riemanniano_mdm'\n",
    "RIEM_FIG_DIR  = RIEM_OUT_ROOT / 'figures'\n",
    "RIEM_TAB_DIR  = RIEM_OUT_ROOT / 'tables'\n",
    "RIEM_LOG_DIR  = RIEM_OUT_ROOT / 'logs'\n",
    "for d in (RIEM_FIG_DIR, RIEM_TAB_DIR, RIEM_LOG_DIR):\n",
    "    d.mkdir(parents=True, exist_ok=True)\n",
    "\n",
    "print(f\"[Riemann] data procesados → {DATA_PROC}\")\n",
    "print(f\"[Riemann] figuras  → {RIEM_FIG_DIR}\")\n",
    "print(f\"[Riemann] tablas   → {RIEM_TAB_DIR}\")\n",
    "print(f\"[Riemann] logs     → {RIEM_LOG_DIR}\")\n",
    "\n",
    "def _init_logger_riem(run_name: str):\n",
    "    \"\"\"\n",
    "    Logger propio del modelo riemanniano.\n",
    "    - Escribe a consola y a un TXT con timestamp en models/riemanniano_mdm/logs/.\n",
    "    - Silencia el ruido de MNE.\n",
    "    \"\"\"\n",
    "    ts = datetime.now().strftime(\"%Y%m%d-%H%M%S\")\n",
    "    log_path = RIEM_LOG_DIR / f\"{ts}_{run_name}.txt\"\n",
    "\n",
    "    logger = logging.getLogger(run_name)\n",
    "    logger.setLevel(logging.INFO)\n",
    "    logger.handlers.clear()\n",
    "\n",
    "    fmt = logging.Formatter(\"[%(asctime)s] %(levelname)s: %(message)s\", datefmt=\"%H:%M:%S\")\n",
    "    ch = logging.StreamHandler(stream=sys.stdout); ch.setLevel(logging.INFO); ch.setFormatter(fmt)\n",
    "    fh = logging.FileHandler(log_path, encoding=\"utf-8\"); fh.setLevel(logging.INFO); fh.setFormatter(fmt)\n",
    "    logger.addHandler(ch); logger.addHandler(fh)\n",
    "\n",
    "    mne.set_log_level(\"ERROR\")\n",
    "    warnings.filterwarnings(\"ignore\", category=UserWarning, module=\"mne\")\n",
    "    warnings.filterwarnings(\"ignore\", category=RuntimeWarning, module=\"mne\")\n",
    "    return logger, log_path\n"
   ]
  },
  {
   "cell_type": "markdown",
   "id": "d4bdd423",
   "metadata": {},
   "source": [
    "### Bloque - Helpers riemannianos (filtro-banco → covarianzas SPD → combinación “block”)\n",
    "\n",
    "Filtra por sub-bandas (mu/beta),\n",
    "\n",
    "Opcionalmente hace z-score por época,\n",
    "\n",
    "Calcula covarianzas (estables con shrinkage),\n",
    "\n",
    "Combina las sub-bandas en una covarianza bloque (SPD grande) para MDM/FgMDM."
   ]
  },
  {
   "cell_type": "code",
   "execution_count": 14,
   "id": "b25fa2a2",
   "metadata": {},
   "outputs": [],
   "source": [
    "# %% [Helpers Riemann — FB covariances en bloque (MDM vs FgMDM)]\n",
    "import numpy as np\n",
    "import pandas as pd\n",
    "import matplotlib.pyplot as plt\n",
    "from math import ceil\n",
    "from sklearn.preprocessing import LabelEncoder\n",
    "from sklearn.metrics import ConfusionMatrixDisplay\n",
    "\n",
    "# Bandas por defecto (mu/beta denso)\n",
    "FB_BANDS_DENSE = [(f, f+2) for f in range(8, 30, 2)]\n",
    "FB_BANDS_CLASSIC = [(8,12), (12,16), (16,20), (20,24), (24,28), (28,30)]\n",
    "DEFAULT_FB_BANDS = FB_BANDS_DENSE\n",
    "\n",
    "# pyRiemann\n",
    "try:\n",
    "    from pyriemann.estimation import Covariances\n",
    "    from pyriemann.classification import MDM, FgMDM\n",
    "except ImportError:\n",
    "    raise ImportError(\"pyriemann no está instalado. Instala con: pip install pyriemann\")\n",
    "\n",
    "# Tokens motores (si quisieras recortar todavía más, aun cuando ya usas 8 canales)\n",
    "_RIEM_MOTOR_TOKENS = ['C3', 'CZ', 'C4', 'FC3', 'FC4', 'CP3', 'CPZ', 'CP4']\n",
    "\n",
    "def _riem_find_motor_chs(ch_names, tokens=_RIEM_MOTOR_TOKENS):\n",
    "    up = [c.upper() for c in ch_names]\n",
    "    picks = []\n",
    "    for tok in tokens:\n",
    "        TU = tok.upper()\n",
    "        for i, name in enumerate(up):\n",
    "            if TU in name:\n",
    "                picks.append(i); break\n",
    "    return sorted(set(picks))\n",
    "\n",
    "def _riem_epochwise_zscore(X, eps=1e-8):\n",
    "    # No recomendado por defecto para Riemann; dejar False salvo diagnóstico\n",
    "    mean = X.mean(axis=-1, keepdims=True)\n",
    "    std  = X.std(axis=-1, keepdims=True)\n",
    "    return (X - mean) / (std + eps)\n",
    "\n",
    "def _riem_epochs_to_Xy(epochs):\n",
    "    X = epochs.get_data()  # (n_trials, n_ch, n_times)\n",
    "    inv = {v:k for k,v in epochs.event_id.items()}\n",
    "    y = np.array([inv[e[-1]] for e in epochs.events], dtype=object)\n",
    "    return X, y\n",
    "\n",
    "def _normalize_trace(C):\n",
    "    \"\"\"\n",
    "    Normaliza cada SPD por su traza para estabilizar escala.\n",
    "    Soporta shape (..., n_ch, n_ch) arbitraria.\n",
    "    \"\"\"\n",
    "    C = np.asarray(C, dtype=float)\n",
    "    tr = np.trace(C, axis1=-2, axis2=-1)\n",
    "    tr = np.where(tr == 0, 1.0, tr)\n",
    "    return C / tr[..., None, None]\n",
    "\n",
    "def _riem_fb_covariances(epochs,\n",
    "                         fb_bands=DEFAULT_FB_BANDS,\n",
    "                         motor_only=False,\n",
    "                         zscore_epoch=False,\n",
    "                         crop_window=None,\n",
    "                         cov_estimator='oas',\n",
    "                         model='mdm'):\n",
    "    \"\"\"\n",
    "    Calcula covarianzas multi-banda:\n",
    "      - Para 'mdm' → devuelve cov bloque-diagonal: (n_trials, n_fb*n_ch, n_fb*n_ch)\n",
    "      - Para 'fgmdm' → devuelve pila por banda:    (n_trials, n_fb, n_ch, n_ch)\n",
    "    En ambos casos, se normaliza por traza banda a banda.\n",
    "\n",
    "    Retorna: C, y, classes\n",
    "    \"\"\"\n",
    "    ep = epochs.copy()\n",
    "    if crop_window is not None:\n",
    "        ep.crop(*crop_window)\n",
    "\n",
    "    if motor_only:\n",
    "        picks = _riem_find_motor_chs(ep.ch_names)\n",
    "        if picks:\n",
    "            ep.pick(picks)\n",
    "\n",
    "    X, y = _riem_epochs_to_Xy(ep)  # (n_trials, n_ch, n_times)\n",
    "    n_trials, n_ch, _ = X.shape\n",
    "    n_fb = len(fb_bands)\n",
    "\n",
    "    # 1) covarianzas por banda\n",
    "    covs_per_band = []\n",
    "    for (fmin, fmax) in fb_bands:\n",
    "        ep_b = ep.copy().filter(fmin, fmax, picks='eeg', verbose=False)\n",
    "        Xb = ep_b.get_data()  # (n_trials, n_ch, n_times)\n",
    "        if zscore_epoch:\n",
    "            Xb = _riem_epochwise_zscore(Xb)\n",
    "        Cb = Covariances(estimator=cov_estimator).fit_transform(Xb)  # (n_trials, n_ch, n_ch)\n",
    "        Cb = _normalize_trace(Cb)\n",
    "        covs_per_band.append(Cb)\n",
    "\n",
    "    if model.lower() == 'fgmdm':\n",
    "        # pila 4D: (n_trials, n_fb, n_ch, n_ch)\n",
    "        C = np.stack(covs_per_band, axis=1)\n",
    "    else:\n",
    "        # bloque-diagonal (n_trials, n_fb*n_ch, n_fb*n_ch)\n",
    "        C = np.zeros((n_trials, n_fb * n_ch, n_fb * n_ch), dtype=float)\n",
    "        for b, Cb in enumerate(covs_per_band):\n",
    "            i0 = b * n_ch\n",
    "            i1 = (b + 1) * n_ch\n",
    "            C[:, i0:i1, i0:i1] = Cb\n",
    "\n",
    "    classes = np.unique(y).tolist()\n",
    "    return C, y, classes\n",
    "\n",
    "def _riem_fb_cov_train_test(ep_tr, ep_te,\n",
    "                             fb_bands=DEFAULT_FB_BANDS,\n",
    "                             motor_only=False,\n",
    "                             zscore_epoch=False,\n",
    "                             crop_window=None,\n",
    "                             cov_estimator='oas',\n",
    "                             model='mdm'):\n",
    "    \"\"\"\n",
    "    Helper: saca cov multi-banda para TRAIN y TEST y alinea etiquetas con LabelEncoder.\n",
    "    - Para 'mdm'   → Ctr/Cte 3D (bloque-diagonal).\n",
    "    - Para 'fgmdm' → Ctr/Cte 4D (pila por banda).\n",
    "    \"\"\"\n",
    "    Ctr, y_tr, _ = _riem_fb_covariances(ep_tr, fb_bands, motor_only, zscore_epoch, crop_window, cov_estimator, model)\n",
    "    Cte, y_te, _ = _riem_fb_covariances(ep_te, fb_bands, motor_only, zscore_epoch, crop_window, cov_estimator, model)\n",
    "    le = LabelEncoder().fit(np.concatenate([y_tr, y_te]))\n",
    "    return Ctr, le.transform(y_tr), Cte, le.transform(y_te), list(le.classes_)\n",
    "\n",
    "def _to_block_if_4d(X):\n",
    "    \"\"\"\n",
    "    Si X viene 4D (n_trials, n_bands, n_ch, n_ch), lo convertimos\n",
    "    a bloque-diagonal 3D (n_trials, n_bands*n_ch, n_bands*n_ch).\n",
    "    Si ya es 3D, se devuelve tal cual.\n",
    "    \"\"\"\n",
    "    X = np.asarray(X)\n",
    "    if X.ndim == 4:\n",
    "        n_trials, n_fb, n_ch, _ = X.shape\n",
    "        Xb = np.zeros((n_trials, n_fb * n_ch, n_fb * n_ch), dtype=X.dtype)\n",
    "        for b in range(n_fb):\n",
    "            i0, i1 = b * n_ch, (b + 1) * n_ch\n",
    "            Xb[:, i0:i1, i0:i1] = X[:, b, :, :]\n",
    "        return Xb\n",
    "    return X\n"
   ]
  },
  {
   "cell_type": "markdown",
   "id": "c54eb561",
   "metadata": {},
   "source": [
    "### Bloque — Clasificadores riemannianos (MDM y FgMDM)"
   ]
  },
  {
   "cell_type": "code",
   "execution_count": 15,
   "id": "4e9ead2c",
   "metadata": {},
   "outputs": [],
   "source": [
    "# %% [CLF Riemann — MDM/FgMDM]\n",
    "def _riem_make_clf(model='mdm', metric='riemann'):\n",
    "    \"\"\"\n",
    "    Crea el clasificador riemanniano:\n",
    "      - 'mdm'   → Minimum Distance to Mean (metric='riemann' por defecto)\n",
    "      - 'fgmdm' → Filter-Geodesic MDM (agrega por banda en la geometría)\n",
    "    \"\"\"\n",
    "    model = (model or 'mdm').lower()\n",
    "    if model == 'fgmdm':\n",
    "        return FgMDM(metric=metric)\n",
    "    return MDM(metric=metric)\n"
   ]
  },
  {
   "cell_type": "markdown",
   "id": "10a992e1",
   "metadata": {},
   "source": [
    "### Bloque — INTRA (todos los sujetos) con MDM/FgMDM\n",
    "\n",
    "Repite el k-fold por sujeto usando covarianzas SPD + MDM/FgMDM.\n",
    "\n",
    "Guarda CSV/TXT únicos (con fila GLOBAL) y mosaicos de confusión con timestamp."
   ]
  },
  {
   "cell_type": "code",
   "execution_count": 16,
   "id": "a0570375",
   "metadata": {},
   "outputs": [],
   "source": [
    "# %% [INTRA Riemann — todos los sujetos]\n",
    "from glob import glob\n",
    "from sklearn.model_selection import StratifiedKFold\n",
    "from sklearn.metrics import accuracy_score, f1_score, confusion_matrix\n",
    "\n",
    "def run_intra_all_riem(\n",
    "    fif_dir=DATA_PROC,\n",
    "    k=5,\n",
    "    random_state=42,\n",
    "    crop_window=(0.5, 4.5),\n",
    "    motor_only=True,\n",
    "    zscore_epoch=False,           # <-- por defecto OFF para Riemann\n",
    "    fb_bands=DEFAULT_FB_BANDS,\n",
    "    cov_estimator='oas',\n",
    "    model='mdm',                  # 'mdm' o 'fgmdm'\n",
    "    max_subplots_per_fig=12,\n",
    "    n_cols=4,\n",
    "    save_txt_name=None,\n",
    "    save_csv_name=None\n",
    "):\n",
    "    ts = datetime.now().strftime(\"%Y%m%d-%H%M%S\")\n",
    "    run_tag = f\"riem_intra_all_{model}_{ts}\"\n",
    "    logger, log_path = _init_logger_riem(run_name=run_tag)\n",
    "\n",
    "    # Descubre sujetos\n",
    "    subs = sorted({Path(f).stem.split('_')[0] for f in glob(str(fif_dir / 'S???_MI-epo.fif'))})\n",
    "    if not subs:\n",
    "        print(\"No se encontraron sujetos en\", fif_dir); return None\n",
    "\n",
    "    logger.info(f\"[RUN {run_tag}] INTRA Riemann | model={model} | k={k} | bands={len(fb_bands)} | cov={cov_estimator} | zscore_epoch={zscore_epoch}\")\n",
    "    logger.info(f\"Sujetos: {subs}\")\n",
    "    print(f\"[RIEM-INTRA] sujetos: {subs}\")\n",
    "\n",
    "    rows, cm_items = [], []\n",
    "\n",
    "    for sid in subs:\n",
    "        ep = mne.read_epochs(str(fif_dir / f\"{sid}_MI-epo.fif\"), preload=True, verbose=False)\n",
    "        _, y_str = _riem_epochs_to_Xy(ep)\n",
    "        le = LabelEncoder().fit(y_str)\n",
    "        y = le.transform(y_str)\n",
    "        classes = list(le.classes_)\n",
    "\n",
    "        skf = StratifiedKFold(n_splits=k, shuffle=True, random_state=random_state)\n",
    "        accs, f1s = [], []\n",
    "        cm_sum = np.zeros((len(classes), len(classes)), dtype=int)\n",
    "\n",
    "        for fold, (tr_idx, te_idx) in enumerate(skf.split(np.zeros(len(y)), y), start=1):\n",
    "            ep_tr, ep_te = ep[tr_idx], ep[te_idx]\n",
    "            with mne.utils.use_log_level(\"ERROR\"):\n",
    "                Ctr, y_tr, Cte, y_te, _ = _riem_fb_cov_train_test(\n",
    "                    ep_tr, ep_te, fb_bands,\n",
    "                    motor_only=motor_only, zscore_epoch=zscore_epoch,\n",
    "                    crop_window=crop_window, cov_estimator=cov_estimator,\n",
    "                    model=model\n",
    "                )\n",
    "            clf = _riem_make_clf(model=model)\n",
    "            Ctr = _to_block_if_4d(Ctr)\n",
    "            Cte = _to_block_if_4d(Cte)\n",
    "            clf.fit(Ctr, y_tr)\n",
    "            yhat = clf.predict(Cte)\n",
    "\n",
    "            acc = accuracy_score(y_te, yhat)\n",
    "            f1m = f1_score(y_te, yhat, average='macro')\n",
    "            cm_sum += confusion_matrix(y_te, yhat, labels=np.arange(len(classes)))\n",
    "            accs.append(acc); f1s.append(f1m)\n",
    "            logger.info(f\"[{sid} | fold {fold}] acc={acc:.3f} | f1m={f1m:.3f}\")\n",
    "\n",
    "        acc_mu, acc_sd = float(np.mean(accs)), float(np.std(accs))\n",
    "        f1_mu,  f1_sd  = float(np.mean(f1s)),  float(np.std(f1s))\n",
    "        logger.info(f\"[{sid}] ACC={acc_mu:.3f}±{acc_sd:.3f} | F1m={f1_mu:.3f}±{f1_sd:.3f}\")\n",
    "\n",
    "        rows.append(dict(\n",
    "            subject=sid,\n",
    "            acc_mean=acc_mu,\n",
    "            f1_macro_mean=f1_mu,\n",
    "            k=k,\n",
    "            n_classes=len(classes),\n",
    "            crop=str(crop_window),\n",
    "            motor_only=bool(motor_only),\n",
    "            zscore_epoch=bool(zscore_epoch),\n",
    "            fb_bands=len(fb_bands),\n",
    "            cov_estimator=cov_estimator,\n",
    "            model=model\n",
    "        ))\n",
    "        cm_items.append((sid, cm_sum, classes))\n",
    "\n",
    "    # Consolidado + GLOBAL\n",
    "    df = pd.DataFrame(rows).sort_values(\"subject\")\n",
    "    acc_mu = float(df['acc_mean'].mean()) if not df.empty else 0.0\n",
    "    acc_sd = float(df['acc_mean'].std(ddof=0)) if not df.empty else 0.0\n",
    "    f1_mu  = float(df['f1_macro_mean'].mean()) if not df.empty else 0.0\n",
    "    f1_sd  = float(df['f1_macro_mean'].std(ddof=0)) if not df.empty else 0.0\n",
    "\n",
    "    df_global = pd.DataFrame([{\n",
    "        'subject': 'GLOBAL',\n",
    "        'acc_mean': acc_mu,\n",
    "        'f1_macro_mean': f1_mu,\n",
    "        'k': k,\n",
    "        'n_classes': int(df['n_classes'].mean()) if 'n_classes' in df.columns and not df.empty else 0,\n",
    "        'crop': str(crop_window),\n",
    "        'motor_only': bool(motor_only),\n",
    "        'zscore_epoch': bool(zscore_epoch),\n",
    "        'fb_bands': len(fb_bands),\n",
    "        'cov_estimator': cov_estimator,\n",
    "        'model': model\n",
    "    }])\n",
    "    df_out = pd.concat([df, df_global], ignore_index=True)\n",
    "\n",
    "    out_csv = (RIEM_TAB_DIR / f\"{ts}_{save_csv_name}\") if save_csv_name else (RIEM_TAB_DIR / f\"riem_metrics_intra_all_{model}_{ts}.csv\")\n",
    "    df_out.to_csv(out_csv, index=False)\n",
    "    logger.info(f\"CSV → {out_csv}\"); print(\"CSV →\", out_csv)\n",
    "    try: display(df_out)\n",
    "    except: pass\n",
    "\n",
    "    out_txt = (RIEM_LOG_DIR / f\"{ts}_{save_txt_name}\") if save_txt_name else (RIEM_LOG_DIR / f\"riem_metrics_intra_all_{model}_{ts}.txt\")\n",
    "    with open(out_txt, \"w\", encoding=\"utf-8\") as f:\n",
    "        f.write(f\"INTRA Riemann — {model}\\nGenerado: {datetime.now().strftime('%Y-%m-%d %H:%M:%S')}\\n\")\n",
    "        f.write(f\"Total filas: {len(df_out)}\\n\\n\")\n",
    "        header = df_out.columns.tolist(); f.write(\" | \".join(header) + \"\\n\"); f.write(\"-\"*90 + \"\\n\")\n",
    "        for _, row in df_out.iterrows():\n",
    "            vals = []\n",
    "            for kcol in header:\n",
    "                v = row[kcol]\n",
    "                vals.append(f\"{v:.4f}\" if isinstance(v, float) else str(int(v)) if isinstance(v, (np.integer,)) else str(v))\n",
    "            f.write(\" | \".join(vals) + \"\\n\")\n",
    "    logger.info(f\"TXT → {out_txt}\"); print(\"TXT →\", out_txt)\n",
    "\n",
    "    # Mosaicos de confusión\n",
    "    if cm_items:\n",
    "        n = len(cm_items)\n",
    "        per_fig = max(1, int(max_subplots_per_fig))\n",
    "        n_figs = ceil(n / per_fig)\n",
    "        n_rows_for = lambda count: ceil(count / n_cols)\n",
    "\n",
    "        for fig_idx in range(n_figs):\n",
    "            start, end = fig_idx*per_fig, min((fig_idx+1)*per_fig, n)\n",
    "            chunk = cm_items[start:end]\n",
    "            count = len(chunk); n_rows = n_rows_for(count)\n",
    "\n",
    "            fig, axes = plt.subplots(n_rows, n_cols, figsize=(4.5*n_cols, 3.8*n_rows), dpi=140)\n",
    "            axes = np.atleast_2d(axes).flatten()\n",
    "            for ax_i, (sid, cm_sum, classes) in enumerate(chunk):\n",
    "                ax = axes[ax_i]\n",
    "                disp = ConfusionMatrixDisplay(cm_sum, display_labels=classes)\n",
    "                disp.plot(ax=ax, cmap=\"Blues\", colorbar=False, values_format='d')\n",
    "                ax.set_title(f\"{sid}\"); ax.set_xlabel(\"\"); ax.set_ylabel(\"\")\n",
    "            for j in range(ax_i+1, len(axes)): axes[j].axis(\"off\")\n",
    "\n",
    "            out_png = RIEM_FIG_DIR / f\"riem_intra_all_confusions_{model}_{ts}_p{fig_idx+1}.png\"\n",
    "            fig.suptitle(f\"Riemann-INTRA ({model}) — pág {fig_idx+1}/{n_figs}\", y=0.995, fontsize=14)\n",
    "            fig.tight_layout(rect=[0,0,1,0.97])\n",
    "            fig.savefig(out_png); plt.close(fig)\n",
    "            logger.info(f\"Figura → {out_png}\"); print(\"Figura →\", out_png)\n",
    "\n",
    "    logger.info(f\"Log → {log_path}\"); print(\"Log →\", log_path)\n",
    "    print(f\"[GLOBAL RIEM-INTRA] ACC={acc_mu:.3f}±{acc_sd:.3f} | F1m={f1_mu:.3f}±{f1_sd:.3f}\")\n",
    "    return df_out\n"
   ]
  },
  {
   "cell_type": "markdown",
   "id": "1cbc69ea",
   "metadata": {},
   "source": [
    "### Bloque 4 — LOSO (todos) con MDM/FgMDM + calibración opcional\n",
    "\n",
    "LOSO clásico (sin calibración) = generalización pura inter-sujeto.\n",
    "\n",
    "Con calibración few-shot (calibrate_k_per_class > 0), se toman k épocas/clase del sujeto test para ajustar las medias riemannianas (MDM), lo que típicamente mejora ACC/F1 sin reentrenar toda la cadena (práctica común en el estado del arte)."
   ]
  },
  {
   "cell_type": "code",
   "execution_count": 17,
   "id": "94050fd7",
   "metadata": {},
   "outputs": [],
   "source": [
    "# %% [INTER-SUBJECT Riemann desde JSON — validación por sujetos + calibración opcional]\n",
    "import json\n",
    "import numpy as np\n",
    "import pandas as pd\n",
    "import mne\n",
    "import matplotlib.pyplot as plt\n",
    "from math import ceil\n",
    "from pathlib import Path\n",
    "from datetime import datetime\n",
    "\n",
    "from sklearn.preprocessing import LabelEncoder\n",
    "from sklearn.metrics import (\n",
    "    accuracy_score, f1_score, confusion_matrix, ConfusionMatrixDisplay,\n",
    "    classification_report\n",
    ")\n",
    "\n",
    "def run_inter_subject_riem_from_json(\n",
    "    fif_dir=DATA_PROC,\n",
    "    folds_json_path=None,\n",
    "    crop_window=(0.5, 3.5),\n",
    "    motor_only=True,\n",
    "    zscore_epoch=False,\n",
    "    fb_bands=DEFAULT_FB_BANDS,\n",
    "    cov_estimator='oas',\n",
    "    model='mdm',\n",
    "    calibrate_n=None,               # calibración opcional con sujetos de TEST\n",
    "    val_ratio_subjects=0.16,        # <<< NUEVO: % sujetos de TRAIN que van a VALID (≈13/82≈0.16)\n",
    "    random_state=42,                # <<< NUEVO: reproducibilidad del split por sujeto\n",
    "    max_subplots_per_fig=12,\n",
    "    n_cols=4,\n",
    "    save_csv_name=None,\n",
    "    save_txt_name=None,\n",
    "    print_fold_classification_table=True  # <<< NUEVO: imprime classification_report por fold (TEST)\n",
    "):\n",
    "    \"\"\"\n",
    "    Inter-subject CV Riemann con VALIDACIÓN INTERNA POR SUJETOS (justo vs EEGNet/FBCSP):\n",
    "      - Split de validación a nivel SUJETO dentro del conjunto de train de cada fold.\n",
    "      - Ajuste de banco/espacio/cov/clasificador SOLO con TRAIN-SUBJECTS.\n",
    "      - Métricas en VALID y TEST. Calibración opcional usando 'calibrate_n' sujetos del TEST.\n",
    "      - Salida: CSV/TXT por fold + global, matrices de confusión por fold y global.\n",
    "    \"\"\"\n",
    "    ts = datetime.now().strftime(\"%Y%m%d-%H%M%S\")\n",
    "    run_tag = f\"riem_inter_subject_{model}_{ts}\"\n",
    "    logger, log_path = _init_logger_riem(run_name=run_tag)\n",
    "    logger.info(f\"[RUN {run_tag}] Inter-Subject (Riemann: {model}) con VALID interno por sujetos\")\n",
    "    logger.info(f\"Perillas: crop={crop_window}, motor_only={motor_only}, zscore_epoch={zscore_epoch}, \"\n",
    "                f\"fb_bands={fb_bands}, cov={cov_estimator}, val_ratio_subjects={val_ratio_subjects:.2f}, \"\n",
    "                f\"calibrate_n={calibrate_n}\")\n",
    "\n",
    "    # ---------- JSON de folds ----------\n",
    "    if folds_json_path is None:\n",
    "        folds_json_path = PROJ / 'models' / 'folds' / 'Kfold5.json'\n",
    "    folds_json_path = Path(folds_json_path)\n",
    "    if not folds_json_path.exists():\n",
    "        raise FileNotFoundError(f\"No se encontró folds JSON en {folds_json_path}\")\n",
    "\n",
    "    with open(folds_json_path, \"r\", encoding=\"utf-8\") as f:\n",
    "        payload = json.load(f)\n",
    "    folds = payload.get(\"folds\", [])\n",
    "    subject_ids_json = payload.get(\"subject_ids\", [])\n",
    "    logger.info(f\"Folds cargadas: {len(folds)} | sujetos en JSON: {len(subject_ids_json)}\")\n",
    "\n",
    "    # ---------- Cargar epochs por sujeto ----------\n",
    "    ep_map = {}\n",
    "    for sid in subject_ids_json:\n",
    "        fif_path = Path(fif_dir) / f\"{sid}_MI-epo.fif\"\n",
    "        if fif_path.exists():\n",
    "            try:\n",
    "                ep_map[sid] = mne.read_epochs(str(fif_path), preload=True, verbose=False)\n",
    "            except Exception as e:\n",
    "                logger.warning(f\"Error leyendo {fif_path} para {sid}: {e}\")\n",
    "        else:\n",
    "            logger.warning(f\"Falta archivo FIF para {sid}: {fif_path}\")\n",
    "\n",
    "    # ---------- Acumuladores ----------\n",
    "    rows = []\n",
    "    cm_items = []\n",
    "    cm_global = None\n",
    "    classes_global = None\n",
    "\n",
    "    # ---------- Iterar folds ----------\n",
    "    for f in folds:\n",
    "        fold_i = int(f.get(\"fold\"))\n",
    "        train_sids = [sid for sid in f.get(\"train\", []) if sid in ep_map]\n",
    "        test_sids  = [sid for sid in f.get(\"test\", [])  if sid in ep_map]\n",
    "\n",
    "        logger.info(f\"[Fold {fold_i}] train({len(train_sids)}): {train_sids}\")\n",
    "        logger.info(f\"[Fold {fold_i}] test ({len(test_sids)}): {test_sids}\")\n",
    "\n",
    "        if len(train_sids) == 0 or len(test_sids) == 0:\n",
    "            logger.warning(f\"[Fold {fold_i}] faltan sujetos train/test — saltando fold.\")\n",
    "            continue\n",
    "\n",
    "        # ---------- VALIDACIÓN INTERNA POR SUJETOS ----------\n",
    "        rng = np.random.RandomState(random_state + fold_i)\n",
    "        n_val_subj = max(1, int(round(len(train_sids) * float(val_ratio_subjects))))\n",
    "        val_indices = rng.choice(len(train_sids), size=n_val_subj, replace=False)\n",
    "        val_sids = sorted([train_sids[i] for i in val_indices])\n",
    "        tr_sids  = sorted([sid for sid in train_sids if sid not in set(val_sids)])\n",
    "\n",
    "        logger.info(f\"[Fold {fold_i}] split interno → train_sids={len(tr_sids)}, val_sids={len(val_sids)}\")\n",
    "\n",
    "        # Concatenar epochs por split\n",
    "        ep_tr  = mne.concatenate_epochs([ep_map[sid] for sid in tr_sids],  on_mismatch='ignore')\n",
    "        ep_val = mne.concatenate_epochs([ep_map[sid] for sid in val_sids], on_mismatch='ignore')\n",
    "        ep_te  = mne.concatenate_epochs([ep_map[sid] for sid in test_sids], on_mismatch='ignore')\n",
    "\n",
    "        # Alinear canales con respecto a train\n",
    "        try:\n",
    "            ep_val = ep_val.copy().reorder_channels(ep_tr.ch_names)\n",
    "            ep_te  = ep_te.copy().reorder_channels(ep_tr.ch_names)\n",
    "        except Exception as e:\n",
    "            logger.warning(f\"[Fold {fold_i}] reorder_channels: {e}\")\n",
    "\n",
    "        # Etiquetas\n",
    "        _, y_tr_str  = _riem_epochs_to_Xy(ep_tr)\n",
    "        _, y_val_str = _riem_epochs_to_Xy(ep_val)\n",
    "        _, y_te_str  = _riem_epochs_to_Xy(ep_te)\n",
    "\n",
    "        le = LabelEncoder().fit(np.concatenate([y_tr_str, y_val_str, y_te_str]))\n",
    "        y_tr  = le.transform(y_tr_str)\n",
    "        y_val = le.transform(y_val_str)\n",
    "        y_te  = le.transform(y_te_str)\n",
    "        classes = list(le.classes_)\n",
    "\n",
    "        if classes_global is None:\n",
    "            classes_global = classes\n",
    "            cm_global = np.zeros((len(classes), len(classes)), dtype=int)\n",
    "\n",
    "        # ---------- FEATURES/ESPACIO (ajuste SOLO con TRAIN) ----------\n",
    "        # Fit contra ep_tr; transformar ep_val y ep_te con el MISMO ajuste\n",
    "        with mne.utils.use_log_level(\"ERROR\"):\n",
    "            Ctr, y_tr_fit, Cval, y_val_fit, fb_meta_val = _riem_fb_cov_train_test(\n",
    "                ep_tr, ep_val,\n",
    "                fb_bands=fb_bands,\n",
    "                motor_only=motor_only,\n",
    "                zscore_epoch=zscore_epoch,\n",
    "                crop_window=crop_window,\n",
    "                cov_estimator=cov_estimator,\n",
    "                model=model\n",
    "            )\n",
    "            # Para TEST: transformar con el ajuste de TRAIN (no re-ajustar)\n",
    "            _Ctr_dummy, _ytr_dummy, Cte, y_te_fit, fb_meta_te = _riem_fb_cov_train_test(\n",
    "                ep_tr, ep_te,\n",
    "                fb_bands=fb_bands,\n",
    "                motor_only=motor_only,\n",
    "                zscore_epoch=zscore_epoch,\n",
    "                crop_window=crop_window,\n",
    "                cov_estimator=cov_estimator,\n",
    "                model=model\n",
    "            )\n",
    "\n",
    "        # Convertir a “bloques” si hay bancos (4D->3D apilando)\n",
    "        Ctr   = _to_block_if_4d(Ctr)\n",
    "        Cval  = _to_block_if_4d(Cval)\n",
    "        Cte   = _to_block_if_4d(Cte)\n",
    "\n",
    "        # ---------- ENTRENAR CLASIFICADOR SOLO CON TRAIN ----------\n",
    "        clf = _riem_make_clf(model=model)\n",
    "        clf.fit(Ctr, y_tr_fit)\n",
    "\n",
    "        # ---------- VALID ----------\n",
    "        yhat_val = clf.predict(Cval)\n",
    "        acc_val = accuracy_score(y_val_fit, yhat_val)\n",
    "        f1m_val = f1_score(y_val_fit, yhat_val, average='macro')\n",
    "        logger.info(f\"[Fold {fold_i}] VAL   acc={acc_val:.4f} | f1m={f1m_val:.4f} | n_val={len(y_val_fit)}\")\n",
    "\n",
    "        # ---------- TEST normal o con calibración opcional ----------\n",
    "        if calibrate_n is None or calibrate_n <= 0:\n",
    "            # Sin calibración: usar el mismo clf de TRAIN\n",
    "            yhat_te = clf.predict(Cte)\n",
    "        else:\n",
    "            # Con calibración usando n sujetos del TEST\n",
    "            n_subjs = min(int(calibrate_n), len(test_sids))\n",
    "            calib_sids = test_sids[:n_subjs]\n",
    "            rest_sids  = test_sids[n_subjs:]\n",
    "\n",
    "            ep_calib   = mne.concatenate_epochs([ep_map[sid] for sid in calib_sids], on_mismatch='ignore')\n",
    "            ep_te_rest = mne.concatenate_epochs([ep_map[sid] for sid in rest_sids],  on_mismatch='ignore') if rest_sids else ep_calib\n",
    "\n",
    "            try:\n",
    "                ep_calib   = ep_calib.copy().reorder_channels(ep_tr.ch_names)\n",
    "                ep_te_rest = ep_te_rest.copy().reorder_channels(ep_tr.ch_names)\n",
    "            except Exception as e:\n",
    "                logger.warning(f\"[Fold {fold_i}] reorder (calib/test_rest): {e}\")\n",
    "\n",
    "            _, y_calib_str = _riem_epochs_to_Xy(ep_calib)\n",
    "            y_calib = le.transform(y_calib_str)\n",
    "\n",
    "            with mne.utils.use_log_level(\"ERROR\"):\n",
    "                ep_train_plus_calib = mne.concatenate_epochs([ep_tr, ep_calib], on_mismatch='ignore')\n",
    "                Ctr_comb, y_tr_comb_fit, Cte_rest, y_te_rest_fit, _ = _riem_fb_cov_train_test(\n",
    "                    ep_train_plus_calib, ep_te_rest,\n",
    "                    fb_bands=fb_bands,\n",
    "                    motor_only=motor_only,\n",
    "                    zscore_epoch=zscore_epoch,\n",
    "                    crop_window=crop_window,\n",
    "                    cov_estimator=cov_estimator,\n",
    "                    model=model\n",
    "                )\n",
    "\n",
    "            Ctr_comb = _to_block_if_4d(Ctr_comb)\n",
    "            Cte_rest = _to_block_if_4d(Cte_rest)\n",
    "\n",
    "            y_tr_comb = np.concatenate([y_tr, y_calib])  # por si necesitas mantener referencia\n",
    "            clf = _riem_make_clf(model=model)\n",
    "            clf.fit(Ctr_comb, y_tr_comb_fit)            # ojo: usar el vector alineado con Ctr_comb\n",
    "            yhat_te = clf.predict(Cte_rest)\n",
    "            if rest_sids:\n",
    "                _, y_te_rest_str = _riem_epochs_to_Xy(ep_te_rest)\n",
    "                y_te = le.transform(y_te_rest_str)\n",
    "            else:\n",
    "                y_te = y_tr_comb  # caso extremo: calibras todo el test\n",
    "\n",
    "        # ---------- MÉTRICAS TEST ----------\n",
    "        acc = accuracy_score(y_te, yhat_te)\n",
    "        f1m = f1_score(y_te, yhat_te, average='macro')\n",
    "        cm  = confusion_matrix(y_te, yhat_te, labels=np.arange(len(classes)))\n",
    "        cm_global += cm\n",
    "\n",
    "        logger.info(f\"[Fold {fold_i}] TEST  acc={acc:.4f} | f1m={f1m:.4f} | n_test={len(y_te)}\")\n",
    "        rows.append(dict(\n",
    "            fold=int(fold_i),\n",
    "            train_subjects=\",\".join(tr_sids),\n",
    "            val_subjects=\",\".join(val_sids),\n",
    "            test_subjects=\",\".join(test_sids),\n",
    "            val_acc=float(acc_val),\n",
    "            val_f1_macro=float(f1m_val),\n",
    "            acc=float(acc),\n",
    "            f1_macro=float(f1m),\n",
    "            n_val=int(len(y_val)),\n",
    "            n_test=int(len(y_te))\n",
    "        ))\n",
    "        cm_items.append((f\"fold_{fold_i}\", cm, classes))\n",
    "\n",
    "        # ---------- (Opcional) classification_report por fold (TEST) ----------\n",
    "        if print_fold_classification_table:\n",
    "            try:\n",
    "                rep = classification_report(\n",
    "                    y_te, yhat_te, target_names=classes, digits=4\n",
    "                )\n",
    "                print(f\"\\n[Fold {fold_i}/{len(folds)}] Classification report (TEST)\\n{rep}\")\n",
    "                # también lo pasamos al logger en líneas\n",
    "                logger.info(f\"[Fold {fold_i}] Classification report (TEST):\\n\" + rep)\n",
    "            except Exception as e:\n",
    "                logger.warning(f\"[Fold {fold_i}] classification_report error: {e}\")\n",
    "\n",
    "    # ---------- Consolidados ----------\n",
    "    df_rows = pd.DataFrame(rows).sort_values(\"fold\") if rows else pd.DataFrame()\n",
    "    acc_mu   = float(df_rows['acc'].mean()) if not df_rows.empty else 0.0\n",
    "    f1_mu    = float(df_rows['f1_macro'].mean()) if not df_rows.empty else 0.0\n",
    "    val_mu   = float(df_rows['val_acc'].mean()) if not df_rows.empty else 0.0\n",
    "    valf1_mu = float(df_rows['val_f1_macro'].mean()) if not df_rows.empty else 0.0\n",
    "\n",
    "    if not df_rows.empty:\n",
    "        df_rows = pd.concat([df_rows, pd.DataFrame([{\n",
    "            'fold': 0,\n",
    "            'train_subjects': 'GLOBAL',\n",
    "            'val_subjects': 'GLOBAL',\n",
    "            'test_subjects': 'GLOBAL',\n",
    "            'val_acc': val_mu,\n",
    "            'val_f1_macro': valf1_mu,\n",
    "            'acc': acc_mu,\n",
    "            'f1_macro': f1_mu,\n",
    "            'n_val': int(df_rows['n_val'].sum()),\n",
    "            'n_test': int(df_rows['n_test'].sum())\n",
    "        }])], ignore_index=True)\n",
    "\n",
    "    # ---------- Guardar CSV/TXT ----------\n",
    "    out_csv = (RIEM_TAB_DIR / f\"{ts}_{save_csv_name}\") if save_csv_name \\\n",
    "              else (RIEM_TAB_DIR / f\"riem_inter_subject_{model}_{ts}.csv\")\n",
    "    df_rows.to_csv(out_csv, index=False)\n",
    "    logger.info(f\"CSV consolidado → {out_csv}\")\n",
    "    print(\"CSV consolidado →\", out_csv)\n",
    "\n",
    "    out_txt = (RIEM_LOG_DIR / f\"{ts}_{save_txt_name}\") if save_txt_name \\\n",
    "              else (RIEM_LOG_DIR / f\"riem_inter_subject_{model}_{ts}.txt\")\n",
    "    with open(out_txt, \"w\", encoding=\"utf-8\") as f:\n",
    "        f.write(f\"INTER-SUBJECT Riemann ({model}) — Con VALID interno por sujetos\\n\")\n",
    "        f.write(f\"Generado: {datetime.now().strftime('%Y-%m-%d %H:%M:%S')}\\n\")\n",
    "        f.write(f\"Total filas: {len(df_rows)}\\n\\n\")\n",
    "        header = df_rows.columns.tolist()\n",
    "        f.write(\" | \".join(header) + \"\\n\")\n",
    "        f.write(\"-\" * 140 + \"\\n\")\n",
    "        for _, r in df_rows.iterrows():\n",
    "            vals = []\n",
    "            for kcol in header:\n",
    "                v = r[kcol]\n",
    "                if isinstance(v, float):\n",
    "                    vals.append(f\"{v:.4f}\")\n",
    "                else:\n",
    "                    vals.append(str(v))\n",
    "            f.write(\" | \".join(vals) + \"\\n\")\n",
    "    logger.info(f\"TXT consolidado → {out_txt}\")\n",
    "    print(\"TXT consolidado →\", out_txt)\n",
    "\n",
    "    # ---------- Mosaicos de confusión por fold ----------\n",
    "    if cm_items:\n",
    "        n = len(cm_items)\n",
    "        per_fig = max(1, int(max_subplots_per_fig))\n",
    "        n_figs = ceil(n / per_fig)\n",
    "\n",
    "        def _n_rows_for_count(count):  # helper\n",
    "            return ceil(count / n_cols)\n",
    "\n",
    "        for fig_idx in range(n_figs):\n",
    "            start = fig_idx * per_fig\n",
    "            end   = min((fig_idx + 1) * per_fig, n)\n",
    "            chunk = cm_items[start:end]\n",
    "            count = len(chunk)\n",
    "            n_rows = _n_rows_for_count(count)\n",
    "\n",
    "            fig, axes = plt.subplots(n_rows, n_cols, figsize=(4.5*n_cols, 3.8*n_rows), dpi=140)\n",
    "            axes = np.atleast_2d(axes).flatten()\n",
    "\n",
    "            for ax_i, (label, cm_sum, classes) in enumerate(chunk):\n",
    "                ax = axes[ax_i]\n",
    "                disp = ConfusionMatrixDisplay(cm_sum, display_labels=classes)\n",
    "                disp.plot(ax=ax, cmap=\"Blues\", colorbar=False, values_format='d')\n",
    "                ax.set_title(f\"{label}\")\n",
    "                ax.set_xlabel(\"\"); ax.set_ylabel(\"\")\n",
    "            # ejes vacíos\n",
    "            for j in range(ax_i + 1, len(axes)):\n",
    "                axes[j].axis(\"off\")\n",
    "\n",
    "            out_png = RIEM_FIG_DIR / f\"riem_inter_subject_confusions_{model}_{ts}_p{fig_idx+1}.png\"\n",
    "            fig.suptitle(f\"Inter-Subject Riemann ({model}) — Matrices de confusión (página {fig_idx+1}/{n_figs})\",\n",
    "                         y=0.995, fontsize=14)\n",
    "            fig.tight_layout(rect=[0, 0, 1, 0.97])\n",
    "            fig.savefig(out_png)\n",
    "            plt.close(fig)\n",
    "            logger.info(f\"Figura consolidada → {out_png}\")\n",
    "            print(\"Figura consolidada →\", out_png)\n",
    "\n",
    "    # ---------- Matriz GLOBAL ----------\n",
    "    if cm_global is not None and classes_global is not None:\n",
    "        fig, ax = plt.subplots(figsize=(6.5, 5.2), dpi=140)\n",
    "        disp = ConfusionMatrixDisplay(cm_global, display_labels=classes_global)\n",
    "        disp.plot(ax=ax, cmap=\"Blues\", colorbar=True, values_format='d')\n",
    "        ax.set_title(f\"Inter-Subject Riemann ({model}) — Matriz de confusión GLOBAL\")\n",
    "        fig.tight_layout()\n",
    "        out_png_glob = RIEM_FIG_DIR / f\"riem_inter_subject_global_confusion_{model}_{ts}.png\"\n",
    "        fig.savefig(out_png_glob)\n",
    "        plt.close(fig)\n",
    "        logger.info(f\"Matriz GLOBAL → {out_png_glob}\")\n",
    "        print(\"Matriz GLOBAL →\", out_png_glob)\n",
    "\n",
    "    logger.info(f\"[GLOBAL] VAL_acc={val_mu:.3f} | VAL_f1m={valf1_mu:.3f} | TEST_acc={acc_mu:.3f} | TEST_f1m={f1_mu:.3f}\")\n",
    "    print(f\"[GLOBAL] VAL_acc={val_mu:.3f} | VAL_f1m={valf1_mu:.3f} | TEST_acc={acc_mu:.3f} | TEST_f1m={f1_mu:.3f}\")\n",
    "    logger.info(f\"Log global → {log_path}\")\n",
    "    print(f\"Log global → {log_path}\")\n",
    "\n",
    "    return df_rows.reset_index(drop=True)\n"
   ]
  },
  {
   "cell_type": "markdown",
   "id": "8a74cbbf",
   "metadata": {},
   "source": [
    "### Bloque — Ejemplos\n",
    "\n",
    "Corre INTRA y LOSO con MDM (o FgMDM)."
   ]
  },
  {
   "cell_type": "code",
   "execution_count": 18,
   "id": "5ac7f10d",
   "metadata": {},
   "outputs": [
    {
     "name": "stdout",
     "output_type": "stream",
     "text": [
      "[06:39:57] INFO: [RUN riem_inter_subject_fgmdm_20251013-063957] Inter-Subject (Riemann: fgmdm) con VALID interno por sujetos\n"
     ]
    },
    {
     "name": "stderr",
     "output_type": "stream",
     "text": [
      "INFO:riem_inter_subject_fgmdm_20251013-063957:[RUN riem_inter_subject_fgmdm_20251013-063957] Inter-Subject (Riemann: fgmdm) con VALID interno por sujetos\n"
     ]
    },
    {
     "name": "stdout",
     "output_type": "stream",
     "text": [
      "[06:39:57] INFO: Perillas: crop=(0.5, 3.5), motor_only=True, zscore_epoch=False, fb_bands=[(8, 10), (10, 12), (12, 14), (14, 16), (16, 18), (18, 20), (20, 22), (22, 24), (24, 26), (26, 28), (28, 30)], cov=oas, val_ratio_subjects=0.16, calibrate_n=5\n"
     ]
    },
    {
     "name": "stderr",
     "output_type": "stream",
     "text": [
      "INFO:riem_inter_subject_fgmdm_20251013-063957:Perillas: crop=(0.5, 3.5), motor_only=True, zscore_epoch=False, fb_bands=[(8, 10), (10, 12), (12, 14), (14, 16), (16, 18), (18, 20), (20, 22), (22, 24), (24, 26), (26, 28), (28, 30)], cov=oas, val_ratio_subjects=0.16, calibrate_n=5\n"
     ]
    },
    {
     "name": "stdout",
     "output_type": "stream",
     "text": [
      "[06:39:57] INFO: Folds cargadas: 5 | sujetos en JSON: 103\n"
     ]
    },
    {
     "name": "stderr",
     "output_type": "stream",
     "text": [
      "INFO:riem_inter_subject_fgmdm_20251013-063957:Folds cargadas: 5 | sujetos en JSON: 103\n"
     ]
    },
    {
     "name": "stdout",
     "output_type": "stream",
     "text": [
      "[06:39:58] INFO: [Fold 1] train(82): ['S001', 'S002', 'S004', 'S005', 'S006', 'S007', 'S009', 'S010', 'S011', 'S012', 'S014', 'S015', 'S016', 'S017', 'S019', 'S020', 'S021', 'S022', 'S024', 'S025', 'S026', 'S027', 'S029', 'S030', 'S031', 'S032', 'S034', 'S035', 'S036', 'S037', 'S040', 'S041', 'S042', 'S043', 'S045', 'S046', 'S047', 'S048', 'S050', 'S051', 'S052', 'S053', 'S055', 'S056', 'S057', 'S058', 'S060', 'S061', 'S062', 'S063', 'S065', 'S066', 'S067', 'S068', 'S070', 'S071', 'S072', 'S073', 'S075', 'S076', 'S077', 'S078', 'S080', 'S081', 'S082', 'S083', 'S085', 'S086', 'S087', 'S090', 'S093', 'S094', 'S095', 'S096', 'S098', 'S099', 'S101', 'S102', 'S105', 'S106', 'S107', 'S108']\n"
     ]
    },
    {
     "name": "stderr",
     "output_type": "stream",
     "text": [
      "INFO:riem_inter_subject_fgmdm_20251013-063957:[Fold 1] train(82): ['S001', 'S002', 'S004', 'S005', 'S006', 'S007', 'S009', 'S010', 'S011', 'S012', 'S014', 'S015', 'S016', 'S017', 'S019', 'S020', 'S021', 'S022', 'S024', 'S025', 'S026', 'S027', 'S029', 'S030', 'S031', 'S032', 'S034', 'S035', 'S036', 'S037', 'S040', 'S041', 'S042', 'S043', 'S045', 'S046', 'S047', 'S048', 'S050', 'S051', 'S052', 'S053', 'S055', 'S056', 'S057', 'S058', 'S060', 'S061', 'S062', 'S063', 'S065', 'S066', 'S067', 'S068', 'S070', 'S071', 'S072', 'S073', 'S075', 'S076', 'S077', 'S078', 'S080', 'S081', 'S082', 'S083', 'S085', 'S086', 'S087', 'S090', 'S093', 'S094', 'S095', 'S096', 'S098', 'S099', 'S101', 'S102', 'S105', 'S106', 'S107', 'S108']\n"
     ]
    },
    {
     "name": "stdout",
     "output_type": "stream",
     "text": [
      "[06:39:58] INFO: [Fold 1] test (21): ['S003', 'S008', 'S013', 'S018', 'S023', 'S028', 'S033', 'S039', 'S044', 'S049', 'S054', 'S059', 'S064', 'S069', 'S074', 'S079', 'S084', 'S091', 'S097', 'S103', 'S109']\n"
     ]
    },
    {
     "name": "stderr",
     "output_type": "stream",
     "text": [
      "INFO:riem_inter_subject_fgmdm_20251013-063957:[Fold 1] test (21): ['S003', 'S008', 'S013', 'S018', 'S023', 'S028', 'S033', 'S039', 'S044', 'S049', 'S054', 'S059', 'S064', 'S069', 'S074', 'S079', 'S084', 'S091', 'S097', 'S103', 'S109']\n"
     ]
    },
    {
     "name": "stdout",
     "output_type": "stream",
     "text": [
      "[06:39:58] INFO: [Fold 1] split interno → train_sids=69, val_sids=13\n"
     ]
    },
    {
     "name": "stderr",
     "output_type": "stream",
     "text": [
      "INFO:riem_inter_subject_fgmdm_20251013-063957:[Fold 1] split interno → train_sids=69, val_sids=13\n"
     ]
    },
    {
     "name": "stdout",
     "output_type": "stream",
     "text": [
      "[06:43:27] INFO: [Fold 1] VAL   acc=0.4188 | f1m=0.4145 | n_val=1120\n"
     ]
    },
    {
     "name": "stderr",
     "output_type": "stream",
     "text": [
      "INFO:riem_inter_subject_fgmdm_20251013-063957:[Fold 1] VAL   acc=0.4188 | f1m=0.4145 | n_val=1120\n"
     ]
    },
    {
     "name": "stdout",
     "output_type": "stream",
     "text": [
      "[06:45:57] INFO: [Fold 1] TEST  acc=0.3242 | f1m=0.3191 | n_test=1314\n"
     ]
    },
    {
     "name": "stderr",
     "output_type": "stream",
     "text": [
      "INFO:riem_inter_subject_fgmdm_20251013-063957:[Fold 1] TEST  acc=0.3242 | f1m=0.3191 | n_test=1314\n"
     ]
    },
    {
     "name": "stdout",
     "output_type": "stream",
     "text": [
      "\n",
      "[Fold 1/5] Classification report (TEST)\n",
      "              precision    recall  f1-score   support\n",
      "\n",
      "   Both Feet     0.3454    0.4581    0.3938       334\n",
      "  Both Fists     0.2955    0.2766    0.2857       329\n",
      "        Left     0.3108    0.2393    0.2704       326\n",
      "       Right     0.3333    0.3200    0.3265       325\n",
      "\n",
      "    accuracy                         0.3242      1314\n",
      "   macro avg     0.3212    0.3235    0.3191      1314\n",
      "weighted avg     0.3213    0.3242    0.3195      1314\n",
      "\n",
      "[06:45:57] INFO: [Fold 1] Classification report (TEST):\n",
      "              precision    recall  f1-score   support\n",
      "\n",
      "   Both Feet     0.3454    0.4581    0.3938       334\n",
      "  Both Fists     0.2955    0.2766    0.2857       329\n",
      "        Left     0.3108    0.2393    0.2704       326\n",
      "       Right     0.3333    0.3200    0.3265       325\n",
      "\n",
      "    accuracy                         0.3242      1314\n",
      "   macro avg     0.3212    0.3235    0.3191      1314\n",
      "weighted avg     0.3213    0.3242    0.3195      1314\n",
      "\n"
     ]
    },
    {
     "name": "stderr",
     "output_type": "stream",
     "text": [
      "INFO:riem_inter_subject_fgmdm_20251013-063957:[Fold 1] Classification report (TEST):\n",
      "              precision    recall  f1-score   support\n",
      "\n",
      "   Both Feet     0.3454    0.4581    0.3938       334\n",
      "  Both Fists     0.2955    0.2766    0.2857       329\n",
      "        Left     0.3108    0.2393    0.2704       326\n",
      "       Right     0.3333    0.3200    0.3265       325\n",
      "\n",
      "    accuracy                         0.3242      1314\n",
      "   macro avg     0.3212    0.3235    0.3191      1314\n",
      "weighted avg     0.3213    0.3242    0.3195      1314\n",
      "\n"
     ]
    },
    {
     "name": "stdout",
     "output_type": "stream",
     "text": [
      "[06:45:57] INFO: [Fold 2] train(82): ['S001', 'S003', 'S004', 'S005', 'S006', 'S008', 'S009', 'S010', 'S011', 'S013', 'S014', 'S015', 'S016', 'S018', 'S019', 'S020', 'S021', 'S023', 'S024', 'S025', 'S026', 'S028', 'S029', 'S030', 'S031', 'S033', 'S034', 'S035', 'S036', 'S039', 'S040', 'S041', 'S042', 'S044', 'S045', 'S046', 'S047', 'S049', 'S050', 'S051', 'S052', 'S054', 'S055', 'S056', 'S057', 'S059', 'S060', 'S061', 'S062', 'S064', 'S065', 'S066', 'S067', 'S069', 'S070', 'S071', 'S072', 'S074', 'S075', 'S076', 'S077', 'S079', 'S080', 'S081', 'S082', 'S084', 'S085', 'S086', 'S087', 'S091', 'S093', 'S094', 'S095', 'S097', 'S098', 'S099', 'S101', 'S103', 'S105', 'S106', 'S107', 'S109']\n"
     ]
    },
    {
     "name": "stderr",
     "output_type": "stream",
     "text": [
      "INFO:riem_inter_subject_fgmdm_20251013-063957:[Fold 2] train(82): ['S001', 'S003', 'S004', 'S005', 'S006', 'S008', 'S009', 'S010', 'S011', 'S013', 'S014', 'S015', 'S016', 'S018', 'S019', 'S020', 'S021', 'S023', 'S024', 'S025', 'S026', 'S028', 'S029', 'S030', 'S031', 'S033', 'S034', 'S035', 'S036', 'S039', 'S040', 'S041', 'S042', 'S044', 'S045', 'S046', 'S047', 'S049', 'S050', 'S051', 'S052', 'S054', 'S055', 'S056', 'S057', 'S059', 'S060', 'S061', 'S062', 'S064', 'S065', 'S066', 'S067', 'S069', 'S070', 'S071', 'S072', 'S074', 'S075', 'S076', 'S077', 'S079', 'S080', 'S081', 'S082', 'S084', 'S085', 'S086', 'S087', 'S091', 'S093', 'S094', 'S095', 'S097', 'S098', 'S099', 'S101', 'S103', 'S105', 'S106', 'S107', 'S109']\n"
     ]
    },
    {
     "name": "stdout",
     "output_type": "stream",
     "text": [
      "[06:45:57] INFO: [Fold 2] test (21): ['S002', 'S007', 'S012', 'S017', 'S022', 'S027', 'S032', 'S037', 'S043', 'S048', 'S053', 'S058', 'S063', 'S068', 'S073', 'S078', 'S083', 'S090', 'S096', 'S102', 'S108']\n"
     ]
    },
    {
     "name": "stderr",
     "output_type": "stream",
     "text": [
      "INFO:riem_inter_subject_fgmdm_20251013-063957:[Fold 2] test (21): ['S002', 'S007', 'S012', 'S017', 'S022', 'S027', 'S032', 'S037', 'S043', 'S048', 'S053', 'S058', 'S063', 'S068', 'S073', 'S078', 'S083', 'S090', 'S096', 'S102', 'S108']\n"
     ]
    },
    {
     "name": "stdout",
     "output_type": "stream",
     "text": [
      "[06:45:57] INFO: [Fold 2] split interno → train_sids=69, val_sids=13\n"
     ]
    },
    {
     "name": "stderr",
     "output_type": "stream",
     "text": [
      "INFO:riem_inter_subject_fgmdm_20251013-063957:[Fold 2] split interno → train_sids=69, val_sids=13\n"
     ]
    },
    {
     "name": "stdout",
     "output_type": "stream",
     "text": [
      "[06:49:25] INFO: [Fold 2] VAL   acc=0.3861 | f1m=0.3825 | n_val=1067\n"
     ]
    },
    {
     "name": "stderr",
     "output_type": "stream",
     "text": [
      "INFO:riem_inter_subject_fgmdm_20251013-063957:[Fold 2] VAL   acc=0.3861 | f1m=0.3825 | n_val=1067\n"
     ]
    },
    {
     "name": "stdout",
     "output_type": "stream",
     "text": [
      "[06:51:56] INFO: [Fold 2] TEST  acc=0.3387 | f1m=0.3359 | n_test=1361\n"
     ]
    },
    {
     "name": "stderr",
     "output_type": "stream",
     "text": [
      "INFO:riem_inter_subject_fgmdm_20251013-063957:[Fold 2] TEST  acc=0.3387 | f1m=0.3359 | n_test=1361\n"
     ]
    },
    {
     "name": "stdout",
     "output_type": "stream",
     "text": [
      "\n",
      "[Fold 2/5] Classification report (TEST)\n",
      "              precision    recall  f1-score   support\n",
      "\n",
      "   Both Feet     0.3478    0.4186    0.3799       344\n",
      "  Both Fists     0.3018    0.2463    0.2712       337\n",
      "        Left     0.3464    0.3392    0.3428       339\n",
      "       Right     0.3500    0.3490    0.3495       341\n",
      "\n",
      "    accuracy                         0.3387      1361\n",
      "   macro avg     0.3365    0.3383    0.3359      1361\n",
      "weighted avg     0.3366    0.3387    0.3361      1361\n",
      "\n",
      "[06:51:56] INFO: [Fold 2] Classification report (TEST):\n",
      "              precision    recall  f1-score   support\n",
      "\n",
      "   Both Feet     0.3478    0.4186    0.3799       344\n",
      "  Both Fists     0.3018    0.2463    0.2712       337\n",
      "        Left     0.3464    0.3392    0.3428       339\n",
      "       Right     0.3500    0.3490    0.3495       341\n",
      "\n",
      "    accuracy                         0.3387      1361\n",
      "   macro avg     0.3365    0.3383    0.3359      1361\n",
      "weighted avg     0.3366    0.3387    0.3361      1361\n",
      "\n"
     ]
    },
    {
     "name": "stderr",
     "output_type": "stream",
     "text": [
      "INFO:riem_inter_subject_fgmdm_20251013-063957:[Fold 2] Classification report (TEST):\n",
      "              precision    recall  f1-score   support\n",
      "\n",
      "   Both Feet     0.3478    0.4186    0.3799       344\n",
      "  Both Fists     0.3018    0.2463    0.2712       337\n",
      "        Left     0.3464    0.3392    0.3428       339\n",
      "       Right     0.3500    0.3490    0.3495       341\n",
      "\n",
      "    accuracy                         0.3387      1361\n",
      "   macro avg     0.3365    0.3383    0.3359      1361\n",
      "weighted avg     0.3366    0.3387    0.3361      1361\n",
      "\n"
     ]
    },
    {
     "name": "stdout",
     "output_type": "stream",
     "text": [
      "[06:51:56] INFO: [Fold 3] train(82): ['S002', 'S003', 'S004', 'S005', 'S007', 'S008', 'S009', 'S010', 'S012', 'S013', 'S014', 'S015', 'S017', 'S018', 'S019', 'S020', 'S022', 'S023', 'S024', 'S025', 'S027', 'S028', 'S029', 'S030', 'S032', 'S033', 'S034', 'S035', 'S037', 'S039', 'S040', 'S041', 'S043', 'S044', 'S045', 'S046', 'S048', 'S049', 'S050', 'S051', 'S053', 'S054', 'S055', 'S056', 'S058', 'S059', 'S060', 'S061', 'S063', 'S064', 'S065', 'S066', 'S068', 'S069', 'S070', 'S071', 'S073', 'S074', 'S075', 'S076', 'S078', 'S079', 'S080', 'S081', 'S083', 'S084', 'S085', 'S086', 'S090', 'S091', 'S093', 'S094', 'S096', 'S097', 'S098', 'S099', 'S102', 'S103', 'S105', 'S106', 'S108', 'S109']\n"
     ]
    },
    {
     "name": "stderr",
     "output_type": "stream",
     "text": [
      "INFO:riem_inter_subject_fgmdm_20251013-063957:[Fold 3] train(82): ['S002', 'S003', 'S004', 'S005', 'S007', 'S008', 'S009', 'S010', 'S012', 'S013', 'S014', 'S015', 'S017', 'S018', 'S019', 'S020', 'S022', 'S023', 'S024', 'S025', 'S027', 'S028', 'S029', 'S030', 'S032', 'S033', 'S034', 'S035', 'S037', 'S039', 'S040', 'S041', 'S043', 'S044', 'S045', 'S046', 'S048', 'S049', 'S050', 'S051', 'S053', 'S054', 'S055', 'S056', 'S058', 'S059', 'S060', 'S061', 'S063', 'S064', 'S065', 'S066', 'S068', 'S069', 'S070', 'S071', 'S073', 'S074', 'S075', 'S076', 'S078', 'S079', 'S080', 'S081', 'S083', 'S084', 'S085', 'S086', 'S090', 'S091', 'S093', 'S094', 'S096', 'S097', 'S098', 'S099', 'S102', 'S103', 'S105', 'S106', 'S108', 'S109']\n"
     ]
    },
    {
     "name": "stdout",
     "output_type": "stream",
     "text": [
      "[06:51:56] INFO: [Fold 3] test (21): ['S001', 'S006', 'S011', 'S016', 'S021', 'S026', 'S031', 'S036', 'S042', 'S047', 'S052', 'S057', 'S062', 'S067', 'S072', 'S077', 'S082', 'S087', 'S095', 'S101', 'S107']\n"
     ]
    },
    {
     "name": "stderr",
     "output_type": "stream",
     "text": [
      "INFO:riem_inter_subject_fgmdm_20251013-063957:[Fold 3] test (21): ['S001', 'S006', 'S011', 'S016', 'S021', 'S026', 'S031', 'S036', 'S042', 'S047', 'S052', 'S057', 'S062', 'S067', 'S072', 'S077', 'S082', 'S087', 'S095', 'S101', 'S107']\n"
     ]
    },
    {
     "name": "stdout",
     "output_type": "stream",
     "text": [
      "[06:51:56] INFO: [Fold 3] split interno → train_sids=69, val_sids=13\n"
     ]
    },
    {
     "name": "stderr",
     "output_type": "stream",
     "text": [
      "INFO:riem_inter_subject_fgmdm_20251013-063957:[Fold 3] split interno → train_sids=69, val_sids=13\n"
     ]
    },
    {
     "name": "stdout",
     "output_type": "stream",
     "text": [
      "[06:55:21] INFO: [Fold 3] VAL   acc=0.3465 | f1m=0.3472 | n_val=1111\n"
     ]
    },
    {
     "name": "stderr",
     "output_type": "stream",
     "text": [
      "INFO:riem_inter_subject_fgmdm_20251013-063957:[Fold 3] VAL   acc=0.3465 | f1m=0.3472 | n_val=1111\n"
     ]
    },
    {
     "name": "stdout",
     "output_type": "stream",
     "text": [
      "[06:57:52] INFO: [Fold 3] TEST  acc=0.3594 | f1m=0.3580 | n_test=1369\n"
     ]
    },
    {
     "name": "stderr",
     "output_type": "stream",
     "text": [
      "INFO:riem_inter_subject_fgmdm_20251013-063957:[Fold 3] TEST  acc=0.3594 | f1m=0.3580 | n_test=1369\n"
     ]
    },
    {
     "name": "stdout",
     "output_type": "stream",
     "text": [
      "\n",
      "[Fold 3/5] Classification report (TEST)\n",
      "              precision    recall  f1-score   support\n",
      "\n",
      "   Both Feet     0.4305    0.3801    0.4037       342\n",
      "  Both Fists     0.3141    0.4298    0.3630       342\n",
      "        Left     0.3592    0.3613    0.3602       346\n",
      "       Right     0.3586    0.2655    0.3051       339\n",
      "\n",
      "    accuracy                         0.3594      1369\n",
      "   macro avg     0.3656    0.3592    0.3580      1369\n",
      "weighted avg     0.3656    0.3594    0.3581      1369\n",
      "\n",
      "[06:57:52] INFO: [Fold 3] Classification report (TEST):\n",
      "              precision    recall  f1-score   support\n",
      "\n",
      "   Both Feet     0.4305    0.3801    0.4037       342\n",
      "  Both Fists     0.3141    0.4298    0.3630       342\n",
      "        Left     0.3592    0.3613    0.3602       346\n",
      "       Right     0.3586    0.2655    0.3051       339\n",
      "\n",
      "    accuracy                         0.3594      1369\n",
      "   macro avg     0.3656    0.3592    0.3580      1369\n",
      "weighted avg     0.3656    0.3594    0.3581      1369\n",
      "\n"
     ]
    },
    {
     "name": "stderr",
     "output_type": "stream",
     "text": [
      "INFO:riem_inter_subject_fgmdm_20251013-063957:[Fold 3] Classification report (TEST):\n",
      "              precision    recall  f1-score   support\n",
      "\n",
      "   Both Feet     0.4305    0.3801    0.4037       342\n",
      "  Both Fists     0.3141    0.4298    0.3630       342\n",
      "        Left     0.3592    0.3613    0.3602       346\n",
      "       Right     0.3586    0.2655    0.3051       339\n",
      "\n",
      "    accuracy                         0.3594      1369\n",
      "   macro avg     0.3656    0.3592    0.3580      1369\n",
      "weighted avg     0.3656    0.3594    0.3581      1369\n",
      "\n"
     ]
    },
    {
     "name": "stdout",
     "output_type": "stream",
     "text": [
      "[06:57:52] INFO: [Fold 4] train(83): ['S001', 'S002', 'S003', 'S004', 'S006', 'S007', 'S008', 'S009', 'S011', 'S012', 'S013', 'S014', 'S016', 'S017', 'S018', 'S019', 'S021', 'S022', 'S023', 'S024', 'S026', 'S027', 'S028', 'S029', 'S031', 'S032', 'S033', 'S034', 'S036', 'S037', 'S039', 'S040', 'S042', 'S043', 'S044', 'S045', 'S047', 'S048', 'S049', 'S050', 'S052', 'S053', 'S054', 'S055', 'S057', 'S058', 'S059', 'S060', 'S062', 'S063', 'S064', 'S065', 'S067', 'S068', 'S069', 'S070', 'S072', 'S073', 'S074', 'S075', 'S077', 'S078', 'S079', 'S080', 'S082', 'S083', 'S084', 'S085', 'S087', 'S090', 'S091', 'S093', 'S095', 'S096', 'S097', 'S098', 'S101', 'S102', 'S103', 'S105', 'S107', 'S108', 'S109']\n"
     ]
    },
    {
     "name": "stderr",
     "output_type": "stream",
     "text": [
      "INFO:riem_inter_subject_fgmdm_20251013-063957:[Fold 4] train(83): ['S001', 'S002', 'S003', 'S004', 'S006', 'S007', 'S008', 'S009', 'S011', 'S012', 'S013', 'S014', 'S016', 'S017', 'S018', 'S019', 'S021', 'S022', 'S023', 'S024', 'S026', 'S027', 'S028', 'S029', 'S031', 'S032', 'S033', 'S034', 'S036', 'S037', 'S039', 'S040', 'S042', 'S043', 'S044', 'S045', 'S047', 'S048', 'S049', 'S050', 'S052', 'S053', 'S054', 'S055', 'S057', 'S058', 'S059', 'S060', 'S062', 'S063', 'S064', 'S065', 'S067', 'S068', 'S069', 'S070', 'S072', 'S073', 'S074', 'S075', 'S077', 'S078', 'S079', 'S080', 'S082', 'S083', 'S084', 'S085', 'S087', 'S090', 'S091', 'S093', 'S095', 'S096', 'S097', 'S098', 'S101', 'S102', 'S103', 'S105', 'S107', 'S108', 'S109']\n"
     ]
    },
    {
     "name": "stdout",
     "output_type": "stream",
     "text": [
      "[06:57:52] INFO: [Fold 4] test (20): ['S005', 'S010', 'S015', 'S020', 'S025', 'S030', 'S035', 'S041', 'S046', 'S051', 'S056', 'S061', 'S066', 'S071', 'S076', 'S081', 'S086', 'S094', 'S099', 'S106']\n"
     ]
    },
    {
     "name": "stderr",
     "output_type": "stream",
     "text": [
      "INFO:riem_inter_subject_fgmdm_20251013-063957:[Fold 4] test (20): ['S005', 'S010', 'S015', 'S020', 'S025', 'S030', 'S035', 'S041', 'S046', 'S051', 'S056', 'S061', 'S066', 'S071', 'S076', 'S081', 'S086', 'S094', 'S099', 'S106']\n"
     ]
    },
    {
     "name": "stdout",
     "output_type": "stream",
     "text": [
      "[06:57:52] INFO: [Fold 4] split interno → train_sids=70, val_sids=13\n"
     ]
    },
    {
     "name": "stderr",
     "output_type": "stream",
     "text": [
      "INFO:riem_inter_subject_fgmdm_20251013-063957:[Fold 4] split interno → train_sids=70, val_sids=13\n"
     ]
    },
    {
     "name": "stdout",
     "output_type": "stream",
     "text": [
      "[07:01:21] INFO: [Fold 4] VAL   acc=0.3678 | f1m=0.3678 | n_val=1101\n"
     ]
    },
    {
     "name": "stderr",
     "output_type": "stream",
     "text": [
      "INFO:riem_inter_subject_fgmdm_20251013-063957:[Fold 4] VAL   acc=0.3678 | f1m=0.3678 | n_val=1101\n"
     ]
    },
    {
     "name": "stdout",
     "output_type": "stream",
     "text": [
      "[07:03:46] INFO: [Fold 4] TEST  acc=0.3599 | f1m=0.3614 | n_test=1317\n"
     ]
    },
    {
     "name": "stderr",
     "output_type": "stream",
     "text": [
      "INFO:riem_inter_subject_fgmdm_20251013-063957:[Fold 4] TEST  acc=0.3599 | f1m=0.3614 | n_test=1317\n"
     ]
    },
    {
     "name": "stdout",
     "output_type": "stream",
     "text": [
      "\n",
      "[Fold 4/5] Classification report (TEST)\n",
      "              precision    recall  f1-score   support\n",
      "\n",
      "   Both Feet     0.4753    0.3232    0.3848       328\n",
      "  Both Fists     0.3042    0.3686    0.3333       331\n",
      "        Left     0.3746    0.4006    0.3872       332\n",
      "       Right     0.3343    0.3466    0.3404       326\n",
      "\n",
      "    accuracy                         0.3599      1317\n",
      "   macro avg     0.3721    0.3597    0.3614      1317\n",
      "weighted avg     0.3720    0.3599    0.3615      1317\n",
      "\n",
      "[07:03:46] INFO: [Fold 4] Classification report (TEST):\n",
      "              precision    recall  f1-score   support\n",
      "\n",
      "   Both Feet     0.4753    0.3232    0.3848       328\n",
      "  Both Fists     0.3042    0.3686    0.3333       331\n",
      "        Left     0.3746    0.4006    0.3872       332\n",
      "       Right     0.3343    0.3466    0.3404       326\n",
      "\n",
      "    accuracy                         0.3599      1317\n",
      "   macro avg     0.3721    0.3597    0.3614      1317\n",
      "weighted avg     0.3720    0.3599    0.3615      1317\n",
      "\n"
     ]
    },
    {
     "name": "stderr",
     "output_type": "stream",
     "text": [
      "INFO:riem_inter_subject_fgmdm_20251013-063957:[Fold 4] Classification report (TEST):\n",
      "              precision    recall  f1-score   support\n",
      "\n",
      "   Both Feet     0.4753    0.3232    0.3848       328\n",
      "  Both Fists     0.3042    0.3686    0.3333       331\n",
      "        Left     0.3746    0.4006    0.3872       332\n",
      "       Right     0.3343    0.3466    0.3404       326\n",
      "\n",
      "    accuracy                         0.3599      1317\n",
      "   macro avg     0.3721    0.3597    0.3614      1317\n",
      "weighted avg     0.3720    0.3599    0.3615      1317\n",
      "\n"
     ]
    },
    {
     "name": "stdout",
     "output_type": "stream",
     "text": [
      "[07:03:46] INFO: [Fold 5] train(83): ['S001', 'S002', 'S003', 'S005', 'S006', 'S007', 'S008', 'S010', 'S011', 'S012', 'S013', 'S015', 'S016', 'S017', 'S018', 'S020', 'S021', 'S022', 'S023', 'S025', 'S026', 'S027', 'S028', 'S030', 'S031', 'S032', 'S033', 'S035', 'S036', 'S037', 'S039', 'S041', 'S042', 'S043', 'S044', 'S046', 'S047', 'S048', 'S049', 'S051', 'S052', 'S053', 'S054', 'S056', 'S057', 'S058', 'S059', 'S061', 'S062', 'S063', 'S064', 'S066', 'S067', 'S068', 'S069', 'S071', 'S072', 'S073', 'S074', 'S076', 'S077', 'S078', 'S079', 'S081', 'S082', 'S083', 'S084', 'S086', 'S087', 'S090', 'S091', 'S094', 'S095', 'S096', 'S097', 'S099', 'S101', 'S102', 'S103', 'S106', 'S107', 'S108', 'S109']\n"
     ]
    },
    {
     "name": "stderr",
     "output_type": "stream",
     "text": [
      "INFO:riem_inter_subject_fgmdm_20251013-063957:[Fold 5] train(83): ['S001', 'S002', 'S003', 'S005', 'S006', 'S007', 'S008', 'S010', 'S011', 'S012', 'S013', 'S015', 'S016', 'S017', 'S018', 'S020', 'S021', 'S022', 'S023', 'S025', 'S026', 'S027', 'S028', 'S030', 'S031', 'S032', 'S033', 'S035', 'S036', 'S037', 'S039', 'S041', 'S042', 'S043', 'S044', 'S046', 'S047', 'S048', 'S049', 'S051', 'S052', 'S053', 'S054', 'S056', 'S057', 'S058', 'S059', 'S061', 'S062', 'S063', 'S064', 'S066', 'S067', 'S068', 'S069', 'S071', 'S072', 'S073', 'S074', 'S076', 'S077', 'S078', 'S079', 'S081', 'S082', 'S083', 'S084', 'S086', 'S087', 'S090', 'S091', 'S094', 'S095', 'S096', 'S097', 'S099', 'S101', 'S102', 'S103', 'S106', 'S107', 'S108', 'S109']\n"
     ]
    },
    {
     "name": "stdout",
     "output_type": "stream",
     "text": [
      "[07:03:46] INFO: [Fold 5] test (20): ['S004', 'S009', 'S014', 'S019', 'S024', 'S029', 'S034', 'S040', 'S045', 'S050', 'S055', 'S060', 'S065', 'S070', 'S075', 'S080', 'S085', 'S093', 'S098', 'S105']\n"
     ]
    },
    {
     "name": "stderr",
     "output_type": "stream",
     "text": [
      "INFO:riem_inter_subject_fgmdm_20251013-063957:[Fold 5] test (20): ['S004', 'S009', 'S014', 'S019', 'S024', 'S029', 'S034', 'S040', 'S045', 'S050', 'S055', 'S060', 'S065', 'S070', 'S075', 'S080', 'S085', 'S093', 'S098', 'S105']\n"
     ]
    },
    {
     "name": "stdout",
     "output_type": "stream",
     "text": [
      "[07:03:46] INFO: [Fold 5] split interno → train_sids=70, val_sids=13\n"
     ]
    },
    {
     "name": "stderr",
     "output_type": "stream",
     "text": [
      "INFO:riem_inter_subject_fgmdm_20251013-063957:[Fold 5] split interno → train_sids=70, val_sids=13\n"
     ]
    },
    {
     "name": "stdout",
     "output_type": "stream",
     "text": [
      "[07:07:10] INFO: [Fold 5] VAL   acc=0.3255 | f1m=0.3236 | n_val=1106\n"
     ]
    },
    {
     "name": "stderr",
     "output_type": "stream",
     "text": [
      "INFO:riem_inter_subject_fgmdm_20251013-063957:[Fold 5] VAL   acc=0.3255 | f1m=0.3236 | n_val=1106\n"
     ]
    },
    {
     "name": "stdout",
     "output_type": "stream",
     "text": [
      "[07:09:36] INFO: [Fold 5] TEST  acc=0.4014 | f1m=0.3951 | n_test=1273\n"
     ]
    },
    {
     "name": "stderr",
     "output_type": "stream",
     "text": [
      "INFO:riem_inter_subject_fgmdm_20251013-063957:[Fold 5] TEST  acc=0.4014 | f1m=0.3951 | n_test=1273\n"
     ]
    },
    {
     "name": "stdout",
     "output_type": "stream",
     "text": [
      "\n",
      "[Fold 5/5] Classification report (TEST)\n",
      "              precision    recall  f1-score   support\n",
      "\n",
      "   Both Feet     0.3723    0.5893    0.4563       319\n",
      "  Both Fists     0.4256    0.3249    0.3685       317\n",
      "        Left     0.3984    0.3125    0.3503       320\n",
      "       Right     0.4364    0.3785    0.4054       317\n",
      "\n",
      "    accuracy                         0.4014      1273\n",
      "   macro avg     0.4082    0.4013    0.3951      1273\n",
      "weighted avg     0.4081    0.4014    0.3951      1273\n",
      "\n",
      "[07:09:36] INFO: [Fold 5] Classification report (TEST):\n",
      "              precision    recall  f1-score   support\n",
      "\n",
      "   Both Feet     0.3723    0.5893    0.4563       319\n",
      "  Both Fists     0.4256    0.3249    0.3685       317\n",
      "        Left     0.3984    0.3125    0.3503       320\n",
      "       Right     0.4364    0.3785    0.4054       317\n",
      "\n",
      "    accuracy                         0.4014      1273\n",
      "   macro avg     0.4082    0.4013    0.3951      1273\n",
      "weighted avg     0.4081    0.4014    0.3951      1273\n",
      "\n"
     ]
    },
    {
     "name": "stderr",
     "output_type": "stream",
     "text": [
      "INFO:riem_inter_subject_fgmdm_20251013-063957:[Fold 5] Classification report (TEST):\n",
      "              precision    recall  f1-score   support\n",
      "\n",
      "   Both Feet     0.3723    0.5893    0.4563       319\n",
      "  Both Fists     0.4256    0.3249    0.3685       317\n",
      "        Left     0.3984    0.3125    0.3503       320\n",
      "       Right     0.4364    0.3785    0.4054       317\n",
      "\n",
      "    accuracy                         0.4014      1273\n",
      "   macro avg     0.4082    0.4013    0.3951      1273\n",
      "weighted avg     0.4081    0.4014    0.3951      1273\n",
      "\n"
     ]
    },
    {
     "name": "stdout",
     "output_type": "stream",
     "text": [
      "[07:09:36] INFO: CSV consolidado → /root/Proyecto/EEG_Clasificador/models/riemanniano_mdm/tables/20251013-063957_riem_inter_fgmdm_calib.csv\n"
     ]
    },
    {
     "name": "stderr",
     "output_type": "stream",
     "text": [
      "INFO:riem_inter_subject_fgmdm_20251013-063957:CSV consolidado → /root/Proyecto/EEG_Clasificador/models/riemanniano_mdm/tables/20251013-063957_riem_inter_fgmdm_calib.csv\n"
     ]
    },
    {
     "name": "stdout",
     "output_type": "stream",
     "text": [
      "CSV consolidado → /root/Proyecto/EEG_Clasificador/models/riemanniano_mdm/tables/20251013-063957_riem_inter_fgmdm_calib.csv\n",
      "[07:09:36] INFO: TXT consolidado → /root/Proyecto/EEG_Clasificador/models/riemanniano_mdm/logs/20251013-063957_riem_inter_fgmdm_calib.txt\n"
     ]
    },
    {
     "name": "stderr",
     "output_type": "stream",
     "text": [
      "INFO:riem_inter_subject_fgmdm_20251013-063957:TXT consolidado → /root/Proyecto/EEG_Clasificador/models/riemanniano_mdm/logs/20251013-063957_riem_inter_fgmdm_calib.txt\n"
     ]
    },
    {
     "name": "stdout",
     "output_type": "stream",
     "text": [
      "TXT consolidado → /root/Proyecto/EEG_Clasificador/models/riemanniano_mdm/logs/20251013-063957_riem_inter_fgmdm_calib.txt\n",
      "[07:09:36] INFO: Figura consolidada → /root/Proyecto/EEG_Clasificador/models/riemanniano_mdm/figures/riem_inter_subject_confusions_fgmdm_20251013-063957_p1.png\n"
     ]
    },
    {
     "name": "stderr",
     "output_type": "stream",
     "text": [
      "INFO:riem_inter_subject_fgmdm_20251013-063957:Figura consolidada → /root/Proyecto/EEG_Clasificador/models/riemanniano_mdm/figures/riem_inter_subject_confusions_fgmdm_20251013-063957_p1.png\n"
     ]
    },
    {
     "name": "stdout",
     "output_type": "stream",
     "text": [
      "Figura consolidada → /root/Proyecto/EEG_Clasificador/models/riemanniano_mdm/figures/riem_inter_subject_confusions_fgmdm_20251013-063957_p1.png\n",
      "[07:09:36] INFO: Matriz GLOBAL → /root/Proyecto/EEG_Clasificador/models/riemanniano_mdm/figures/riem_inter_subject_global_confusion_fgmdm_20251013-063957.png\n"
     ]
    },
    {
     "name": "stderr",
     "output_type": "stream",
     "text": [
      "INFO:riem_inter_subject_fgmdm_20251013-063957:Matriz GLOBAL → /root/Proyecto/EEG_Clasificador/models/riemanniano_mdm/figures/riem_inter_subject_global_confusion_fgmdm_20251013-063957.png\n"
     ]
    },
    {
     "name": "stdout",
     "output_type": "stream",
     "text": [
      "Matriz GLOBAL → /root/Proyecto/EEG_Clasificador/models/riemanniano_mdm/figures/riem_inter_subject_global_confusion_fgmdm_20251013-063957.png\n",
      "[07:09:36] INFO: [GLOBAL] VAL_acc=0.369 | VAL_f1m=0.367 | TEST_acc=0.357 | TEST_f1m=0.354\n"
     ]
    },
    {
     "name": "stderr",
     "output_type": "stream",
     "text": [
      "INFO:riem_inter_subject_fgmdm_20251013-063957:[GLOBAL] VAL_acc=0.369 | VAL_f1m=0.367 | TEST_acc=0.357 | TEST_f1m=0.354\n"
     ]
    },
    {
     "name": "stdout",
     "output_type": "stream",
     "text": [
      "[GLOBAL] VAL_acc=0.369 | VAL_f1m=0.367 | TEST_acc=0.357 | TEST_f1m=0.354\n",
      "[07:09:36] INFO: Log global → /root/Proyecto/EEG_Clasificador/models/riemanniano_mdm/logs/20251013-063957_riem_inter_subject_fgmdm_20251013-063957.txt\n"
     ]
    },
    {
     "name": "stderr",
     "output_type": "stream",
     "text": [
      "INFO:riem_inter_subject_fgmdm_20251013-063957:Log global → /root/Proyecto/EEG_Clasificador/models/riemanniano_mdm/logs/20251013-063957_riem_inter_subject_fgmdm_20251013-063957.txt\n"
     ]
    },
    {
     "name": "stdout",
     "output_type": "stream",
     "text": [
      "Log global → /root/Proyecto/EEG_Clasificador/models/riemanniano_mdm/logs/20251013-063957_riem_inter_subject_fgmdm_20251013-063957.txt\n"
     ]
    }
   ],
   "source": [
    "# %% [Ejemplos — Riemann]\n",
    "# INTRA — FgMDM (aprovecha mejor la estructura multi-banda), mismas bandas y setup\n",
    "# df_intra_fgmdm = run_intra_all_riem(\n",
    "#     fif_dir=DATA_PROC,\n",
    "#     k=5,\n",
    "#     random_state=42,\n",
    "#     crop_window=(0.5, 4.5),\n",
    "#     motor_only=True,\n",
    "#     zscore_epoch=False,\n",
    "#     fb_bands=DEFAULT_FB_BANDS,\n",
    "#     cov_estimator='oas',\n",
    "#     model='fgmdm',             # << FgMDM\n",
    "#     save_csv_name=\"riem_intra_fgmdm_optim.csv\",\n",
    "#     save_txt_name=\"riem_intra_fgmdm_optim.txt\"\n",
    "# )\n",
    "\n",
    "\n",
    "# LOSO — MDM, sin calibración\n",
    "df_inter_fgmdm = run_inter_subject_riem_from_json(\n",
    "    fif_dir=DATA_PROC,\n",
    "    folds_json_path=PROJ / 'models' / 'folds' / 'Kfold5.json',  # path a tu JSON de folds\n",
    "    crop_window=(0.5, 3.5),\n",
    "    motor_only=True,\n",
    "    zscore_epoch=False,\n",
    "    fb_bands=DEFAULT_FB_BANDS,\n",
    "    cov_estimator='oas',\n",
    "    model='fgmdm',                # << FgMDM\n",
    "    calibrate_n=5,                # calibración: 5 epochs por sujeto de test\n",
    "    max_subplots_per_fig=12,\n",
    "    n_cols=4,\n",
    "    save_csv_name=\"riem_inter_fgmdm_calib.csv\",\n",
    "    save_txt_name=\"riem_inter_fgmdm_calib.txt\"\n",
    ")\n"
   ]
  }
 ],
 "metadata": {
  "kernelspec": {
   "display_name": "Python 3 (ipykernel)",
   "language": "python",
   "name": "python3"
  },
  "language_info": {
   "codemirror_mode": {
    "name": "ipython",
    "version": 3
   },
   "file_extension": ".py",
   "mimetype": "text/x-python",
   "name": "python",
   "nbconvert_exporter": "python",
   "pygments_lexer": "ipython3",
   "version": "3.11.12"
  }
 },
 "nbformat": 4,
 "nbformat_minor": 5
}
