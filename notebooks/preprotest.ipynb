{
 "cells": [
  {
   "cell_type": "code",
   "execution_count": 9,
   "id": "8c6054c7",
   "metadata": {},
   "outputs": [
    {
     "name": "stdout",
     "output_type": "stream",
     "text": [
      "RAW  → /root/Proyecto/EEG_Clasificador/data/raw\n",
      "PROC → /root/Proyecto/EEG_Clasificador/data/processed\n",
      "FIGS → /root/Proyecto/EEG_Clasificador/data/processed/qc_figs\n"
     ]
    }
   ],
   "source": [
    "import os, re, json, warnings\n",
    "from pathlib import Path\n",
    "from collections import defaultdict\n",
    "import numpy as np\n",
    "import pandas as pd\n",
    "import matplotlib.pyplot as plt\n",
    "import mne\n",
    "from mne.preprocessing import ICA\n",
    "\n",
    "warnings.filterwarnings(\"ignore\", category=UserWarning)\n",
    "mne.set_log_level(\"WARNING\")\n",
    "\n",
    "# ----- Rutas (misma firma que tenías)\n",
    "REPO = Path(\"..\").resolve()\n",
    "DATA_RAW  = REPO / \"data\" / \"raw\"\n",
    "DATA_PROC = REPO / \"data\" / \"processed\"\n",
    "FIG_DIR   = DATA_PROC / \"qc_figs\"\n",
    "for d in (DATA_PROC, FIG_DIR): d.mkdir(parents=True, exist_ok=True)\n",
    "\n",
    "print(\"RAW  →\", DATA_RAW)\n",
    "print(\"PROC →\", DATA_PROC)\n",
    "print(\"FIGS →\", FIG_DIR)\n",
    "\n",
    "# ----- Exclusiones (por número)\n",
    "EXCLUDE_SUBJECTS = {38, 88, 89, 92, 100, 104}\n",
    "\n",
    "# ----- Objetivo 4 clases (sólo MI)\n",
    "TARGET_CLASSES = ['left', 'right', 'both_hands', 'both_feet']\n",
    "\n",
    "# ----- Canales motores (8)\n",
    "MOTOR_8 = ['C3','CZ','C4','FC3','FC4','CP3','CPZ','CP4']\n",
    "\n",
    "# Event ID GLOBAL, fijo para TODOS los runs\n",
    "EVENT_ID_GLOBAL = {\n",
    "    'left': 1,\n",
    "    'right': 2,\n",
    "    'both_hands': 3,\n",
    "    'both_feet': 4,\n",
    "}\n",
    "\n",
    "\n",
    "# ----- Config global\n",
    "CFG = dict(\n",
    "    sfreq_target = 160.0,\n",
    "    tmin_epoch   = 0.0,\n",
    "    tmax_epoch   = 4.5,       # guardamos 0–4.5; los modelos luego pueden .crop(0.5,3.0) etc.\n",
    "    bandpass     = (4., 38.), # opcional; pon None para desactivar\n",
    "    notch        = 60,      # 50/60 si lo necesitas\n",
    "    notch_method='iir',       # 'fir' (default) o 'iir'\n",
    "    iir_params=dict(ftype='butter', order=4),  # solo si usas 'iir'\n",
    "    reref        = None, # o None\n",
    "    ica_enable   = True,     # ICA opcional (rápida)\n",
    "    ica_ncomp    = 0.99,\n",
    "    ica_random   = 97,\n",
    "    motor_only   = True,      # sólo 8 canales motores\n",
    "    keep_all_chs = False\n",
    ")\n",
    "\n",
    "def _sid_to_int(sid: str) -> int:\n",
    "    try: return int(sid[1:4])\n",
    "    except: return -1\n"
   ]
  },
  {
   "cell_type": "code",
   "execution_count": 10,
   "id": "7ec276d2",
   "metadata": {},
   "outputs": [],
   "source": [
    "def list_subjects(raw_dir: Path = DATA_RAW):\n",
    "    \"\"\"\n",
    "    Devuelve ['S001', ...] soportando:\n",
    "      - raw/physionet_MI/S001/S001R*.edf\n",
    "      - raw/physionet_MI/S001R*.edf\n",
    "    Aplica EXCLUDE_SUBJECTS.\n",
    "    \"\"\"\n",
    "    subs = set()\n",
    "\n",
    "    # Subcarpetas S???\n",
    "    for p in raw_dir.glob(\"S???\"):\n",
    "        if p.is_dir() and re.fullmatch(r\"S\\d{3}\", p.name):\n",
    "            if any(p.glob(f\"{p.name}R*.edf\")):\n",
    "                subs.add(p.name)\n",
    "\n",
    "    # Plano\n",
    "    for f in raw_dir.glob(\"S???R*.edf\"):\n",
    "        m = re.match(r\"(S\\d{3})R\\d{2}\\.edf$\", f.name)\n",
    "        if m: subs.add(m.group(1))\n",
    "\n",
    "    subs = sorted(s for s in subs if _sid_to_int(s) not in EXCLUDE_SUBJECTS)\n",
    "    print(f\"[Sujets] encontrados={len(subs)} | excluidos={sorted(EXCLUDE_SUBJECTS)}\")\n",
    "    return subs\n",
    "\n",
    "\n",
    "def find_edf_runs_for_subject(sid: str, raw_dir: Path = DATA_RAW):\n",
    "    \"\"\"\n",
    "    Lista rutas EDF del sujeto, priorizando subcarpeta raw/.../S001/S001R*.edf.\n",
    "    \"\"\"\n",
    "    subdir = raw_dir / sid\n",
    "    edfs = sorted(subdir.glob(f\"{sid}R*.edf\")) if subdir.exists() else []\n",
    "    if not edfs:\n",
    "        edfs = sorted(raw_dir.glob(f\"{sid}R*.edf\"))\n",
    "    edfs = [p for p in edfs if re.match(rf\"{sid}R\\d{{2}}\\.edf$\", p.name)]\n",
    "    return edfs\n",
    "\n",
    "\n",
    "def _run_number_from_name(path: Path) -> int:\n",
    "    # S001R04.edf -> 4\n",
    "    m = re.match(r\"S\\d{3}R(\\d{2})\\.edf$\", path.name)\n",
    "    return int(m.group(1)) if m else -1\n"
   ]
  },
  {
   "cell_type": "code",
   "execution_count": 11,
   "id": "14cd45bc",
   "metadata": {},
   "outputs": [],
   "source": [
    "# --- Constantes de runs (imagery) ---\n",
    "LR_RUNS   = {4, 8, 12}       # Left/Right imagery\n",
    "BHBF_RUNS = {6, 10, 14}      # Both Hands / Both Feet imagery\n",
    "MI_RUNS   = LR_RUNS | BHBF_RUNS\n",
    "\n",
    "def is_mi_run(run_id: int) -> bool:\n",
    "    return run_id in MI_RUNS\n",
    "\n",
    "def map_event_to_label(run_id: int, desc_norm: str):\n",
    "    \"\"\"desc_norm: 'T0'|'T1'|'T2' (mayúsculas). Devuelve 'left'/'right'/'both_hands'/'both_feet' o None.\"\"\"\n",
    "    if desc_norm not in ('T1', 'T2'):\n",
    "        return None  # ignoramos T0 (rest)\n",
    "    if run_id in LR_RUNS:\n",
    "        return 'left' if desc_norm == 'T1' else 'right'\n",
    "    if run_id in BHBF_RUNS:\n",
    "        return 'both_hands' if desc_norm == 'T1' else 'both_feet'\n",
    "    return None\n"
   ]
  },
  {
   "cell_type": "code",
   "execution_count": 12,
   "id": "3cbbf310",
   "metadata": {},
   "outputs": [],
   "source": [
    "# -------- Utils de canales motores (8 principales) --------\n",
    "import re\n",
    "\n",
    "def _normalize_ch_name(name: str):\n",
    "    \"\"\"Normaliza nombres de canal (remueve ., minúsculas, etc.)\"\"\"\n",
    "    return re.sub(r'[^A-Za-z0-9]', '', name).upper()\n",
    "\n",
    "def _pick_motor_indices(info: mne.Info, motor_names=MOTOR_8):\n",
    "    \"\"\"\n",
    "    Devuelve índices de canales motores incluso si tienen sufijos como '.' o '..'.\n",
    "    \"\"\"\n",
    "    up = [_normalize_ch_name(c) for c in info.ch_names]\n",
    "    target = [_normalize_ch_name(t) for t in motor_names]\n",
    "    picks = [i for i, c in enumerate(up) if c in target]\n",
    "    return sorted(set(picks))\n",
    "\n",
    "\n",
    "# -------- Filtros básicos con orden recomendado --------\n",
    "def apply_basic_filters(raw: mne.io.BaseRaw, cfg=CFG):\n",
    "    \"\"\"\n",
    "    Orden recomendado:\n",
    "      1) Notch (50/60 Hz y armónicos)\n",
    "      2) Band-pass (p.ej. 4-40 Hz)\n",
    "      3) CAR (average reference)    <-- AQUÍ aplicamos el CAR\n",
    "      4) Resample (si hace falta)\n",
    "      5) Selección de 8 canales MI (opcional)\n",
    "\n",
    "    Notas:\n",
    "      - El notch usa FIR por defecto. Si en el cfg defines:\n",
    "            cfg['notch_method'] = 'iir'\n",
    "            cfg['iir_params'] = dict(ftype='butter', order=4)\n",
    "        entonces el notch será IIR.\n",
    "      - Deja cfg['reref']=None para no aplicar CAR.\n",
    "    \"\"\"\n",
    "    # 1) Notch\n",
    "    if cfg.get('notch') is not None:\n",
    "        notch_method = cfg.get('notch_method', 'fir')  # 'fir' (default) o 'iir'\n",
    "        if notch_method == 'iir':\n",
    "            iir_params = cfg.get('iir_params', dict(ftype='butter', order=4))\n",
    "            raw.notch_filter(cfg['notch'], picks='eeg', method='iir',\n",
    "                             iir_params=iir_params, verbose=False)\n",
    "        else:\n",
    "            raw.notch_filter(cfg['notch'], picks='eeg', method='fir',\n",
    "                             fir_design='firwin', verbose=False)\n",
    "\n",
    "    # 2) Band-pass\n",
    "    if cfg.get('bandpass') is not None:\n",
    "        fmin, fmax = cfg['bandpass']\n",
    "        raw.filter(fmin, fmax, picks='eeg',\n",
    "                   l_trans_bandwidth='auto', h_trans_bandwidth='auto',\n",
    "                   method='fir', fir_design='firwin', verbose=False)\n",
    "\n",
    "    # 3) CAR (después del filtrado)\n",
    "    if cfg.get('reref', None) == 'average':\n",
    "        raw.set_eeg_reference('average', projection=False, verbose=False)\n",
    "\n",
    "    # 4) Resample (si difiere)\n",
    "    if 'sfreq_target' in cfg and abs(raw.info['sfreq'] - cfg['sfreq_target']) > 1e-6:\n",
    "        raw.resample(cfg['sfreq_target'], npad=\"auto\", verbose=False)\n",
    "\n",
    "    # 5) Selección de 8 canales motores (si procede)\n",
    "    if cfg.get('motor_only', True) and not cfg.get('keep_all_chs', False):\n",
    "        picks = _pick_motor_indices(raw.info, MOTOR_8)\n",
    "        if picks:\n",
    "            raw.pick(picks=picks)\n",
    "    \n",
    "    rename_map = {ch: re.sub(r'[^A-Za-z0-9]', '', ch).upper() for ch in raw.ch_names}\n",
    "    raw.rename_channels(rename_map)\n",
    "\n",
    "    return raw\n",
    "\n",
    "\n",
    "# -------- ICA opcional (después de fijar referencia) --------\n",
    "def maybe_run_ica(raw: mne.io.BaseRaw, cfg=CFG):\n",
    "    \"\"\"\n",
    "    ICA opcional. Se recomienda correr tras filtrar y con referencia fija.\n",
    "    Por simplicidad, entrenamos la ICA con una copia high-pass 1 Hz (establece mejor los componentes),\n",
    "    y aplicamos la solución al raw original filtrado.\n",
    "    \"\"\"\n",
    "    if not cfg.get('ica_enable', False):\n",
    "        return raw, None\n",
    "\n",
    "    ica = ICA(n_components=cfg.get('ica_ncomp', 20),\n",
    "              random_state=cfg.get('ica_random', 97),\n",
    "              method='fastica', max_iter=300)\n",
    "\n",
    "    # Entrena ICA con HP 1 Hz (evita drift). No toques el raw original.\n",
    "    raw_for_ica = raw.copy().filter(l_freq=1., h_freq=None, picks='eeg', verbose=False)\n",
    "    ica.fit(raw_for_ica, verbose=False)\n",
    "\n",
    "    # Aplica ICA (si no marcas comp. a excluir, aplica todo tal cual)\n",
    "    raw_out = raw.copy()\n",
    "    ica.apply(raw_out, verbose=False)\n",
    "    return raw_out, ica\n"
   ]
  },
  {
   "cell_type": "code",
   "execution_count": 13,
   "id": "fa0169ed",
   "metadata": {},
   "outputs": [],
   "source": [
    "def make_epochs_from_run(path_edf: Path, cfg=CFG):\n",
    "    run_id = _run_number_from_name(path_edf)  # extrae 1..14 desde '...R04.edf'\n",
    "    if run_id < 0 or not is_mi_run(run_id):\n",
    "        return None\n",
    "\n",
    "    raw = mne.io.read_raw_edf(str(path_edf), preload=True, verbose=False)\n",
    "    raw = apply_basic_filters(raw, cfg)\n",
    "    raw, _ = maybe_run_ica(raw, cfg)\n",
    "\n",
    "    ann = raw.annotations\n",
    "    if ann is None or len(ann) == 0:\n",
    "        return None\n",
    "\n",
    "    # ---------------- mapeo T1/T2 -> etiqueta usando el run_id ----------------\n",
    "    events = []\n",
    "    for onset, desc in zip(ann.onset, ann.description):\n",
    "        lab = map_event_to_label(run_id, str(desc).strip().upper())\n",
    "        if lab is not None:\n",
    "            events.append((onset, lab))\n",
    "\n",
    "    if not events:\n",
    "        return None\n",
    "\n",
    "    # ---------------- (clave) SIEMPRE codifica con el EVENT_ID_GLOBAL ---------\n",
    "    sf = raw.info['sfreq']\n",
    "    mne_events = np.array(\n",
    "        [[int(onset_sec * sf), 0, EVENT_ID_GLOBAL[lab]] for onset_sec, lab in events],\n",
    "        dtype=int\n",
    "    )\n",
    "\n",
    "    # ---------------- (clave) Pasa el EVENT_ID_GLOBAL completo ----------------\n",
    "    epochs = mne.Epochs(\n",
    "        raw, mne_events, event_id=EVENT_ID_GLOBAL,\n",
    "        tmin=cfg['tmin_epoch'], tmax=cfg['tmax_epoch'],\n",
    "        baseline=None, picks='eeg', preload=True, verbose=False,\n",
    "        on_missing='ignore',  # ignora que en este run falten clases\n",
    "        event_repeated='drop'\n",
    "    )\n",
    "    return epochs\n",
    "\n",
    "\n",
    "\n",
    "\n",
    "\n",
    "def preprocess_subject(sid: str, cfg=CFG, raw_dir: Path = DATA_RAW, out_dir: Path = DATA_PROC):\n",
    "    if _sid_to_int(sid) in EXCLUDE_SUBJECTS:\n",
    "        print(f\"[SKIP] {sid} excluido por lista.\")\n",
    "        return None\n",
    "\n",
    "    edfs = find_edf_runs_for_subject(sid, raw_dir=raw_dir)\n",
    "    edfs_mi = [p for p in edfs if is_mi_run(_run_number_from_name(p))]\n",
    "    if not edfs_mi:\n",
    "        print(f\"[WARN] {sid} sin runs MI.\")\n",
    "        return None\n",
    "\n",
    "    ep_list = []\n",
    "    for p in edfs_mi:\n",
    "        ep = make_epochs_from_run(p, cfg=cfg)\n",
    "        if ep is not None and len(ep):\n",
    "            ep_list.append(ep)\n",
    "\n",
    "    if not ep_list:\n",
    "        print(f\"[WARN] {sid} sin epochs construidos.\")\n",
    "        return None\n",
    "\n",
    "    # Alinear canales por si difieren entre runs\n",
    "    chs = ep_list[0].ch_names\n",
    "    for e in ep_list[1:]:\n",
    "        if e.ch_names != chs:\n",
    "            e.reorder_channels(chs)\n",
    "    epochs = mne.concatenate_epochs(ep_list, on_mismatch='ignore')\n",
    "\n",
    "    out_fif = out_dir / f\"{sid}_MI-epo.fif\"\n",
    "    epochs.save(str(out_fif), overwrite=True)\n",
    "    print(f\"[OK] {sid} → {out_fif} | n_epochs={len(epochs)} | ch={len(epochs.ch_names)}\")\n",
    "    return out_fif\n"
   ]
  },
  {
   "cell_type": "code",
   "execution_count": 14,
   "id": "744c31d3",
   "metadata": {},
   "outputs": [],
   "source": [
    "def qc_quick(epochs: mne.Epochs, sid: str, fig_dir: Path = FIG_DIR):\n",
    "    fig_dir.mkdir(parents=True, exist_ok=True)\n",
    "    # PSD promedio\n",
    "    try:\n",
    "        fig = epochs.plot_psd(fmax=60, average=True, show=False)\n",
    "        out = fig_dir / f\"{sid}_PSD.png\"\n",
    "        fig.savefig(out, dpi=130); plt.close(fig)\n",
    "        print(f\"[QC] PSD → {out}\")\n",
    "    except Exception as e:\n",
    "        print(f\"[QC] PSD error {sid}: {e}\")\n",
    "\n",
    "    # Conteo de clases\n",
    "    inv = {v:k for k,v in epochs.event_id.items()}\n",
    "    labels = [inv[e[-1]] for e in epochs.events]\n",
    "    ser = pd.Series(labels).value_counts().reindex(TARGET_CLASSES, fill_value=0)\n",
    "    ser.to_csv(fig_dir / f\"{sid}_counts.csv\")\n"
   ]
  },
  {
   "cell_type": "code",
   "execution_count": 15,
   "id": "abe03308",
   "metadata": {},
   "outputs": [
    {
     "name": "stdout",
     "output_type": "stream",
     "text": [
      "[DEBUG] S001: 14 EDFs\n",
      "  - S001R04.edf (R04) [LR] -> {'right': 7, 'left': 8}\n",
      "  - S001R06.edf (R06) [BH/BF] -> {'both_feet': 8, 'both_hands': 7}\n",
      "  - S001R08.edf (R08) [LR] -> {'left': 8, 'right': 7}\n",
      "  - S001R10.edf (R10) [BH/BF] -> {'both_hands': 7, 'both_feet': 8}\n",
      "  - S001R12.edf (R12) [LR] -> {'right': 8, 'left': 7}\n",
      "  - S001R14.edf (R14) [BH/BF] -> {'both_feet': 8, 'both_hands': 7}\n"
     ]
    }
   ],
   "source": [
    "def debug_list_runs_and_events(subject_dir: Path):\n",
    "    edfs = sorted(subject_dir.glob(\"S???R??.edf\"))\n",
    "    print(f\"[DEBUG] {subject_dir.name}: {len(edfs)} EDFs\")\n",
    "    for p in edfs:\n",
    "        run_id = _run_number_from_name(p)\n",
    "        tag = \"LR\" if run_id in LR_RUNS else \"BH/BF\" if run_id in BHBF_RUNS else \"OTHER\"\n",
    "        try:\n",
    "            raw = mne.io.read_raw_edf(str(p), preload=False, verbose=False)\n",
    "            ann = raw.annotations\n",
    "            if ann is None: \n",
    "                print(f\"  - {p.name} (R{run_id:02d}) [{tag}] -> sin anotaciones\")\n",
    "                continue\n",
    "            labs = []\n",
    "            for desc in ann.description:\n",
    "                lab = map_event_to_label(run_id, str(desc).strip().upper())\n",
    "                if lab is not None:\n",
    "                    labs.append(lab)\n",
    "            from collections import Counter\n",
    "            c = Counter(labs)\n",
    "            if is_mi_run(run_id):\n",
    "                print(f\"  - {p.name} (R{run_id:02d}) [{tag}] -> {dict(c)}\")\n",
    "        except Exception as e:\n",
    "            print(f\"  - {p.name} ERROR: {e}\")\n",
    "\n",
    "# Ejemplo de uso para un sujeto:\n",
    "debug_list_runs_and_events(DATA_RAW / \"S001\")\n"
   ]
  },
  {
   "cell_type": "code",
   "execution_count": 16,
   "id": "0d9c2c90",
   "metadata": {},
   "outputs": [
    {
     "name": "stdout",
     "output_type": "stream",
     "text": [
      "[Sujets] encontrados=103 | excluidos=[38, 88, 89, 92, 100, 104]\n"
     ]
    },
    {
     "name": "stderr",
     "output_type": "stream",
     "text": [
      "<ipython-input-13-83caa3bf9fe7>:71: RuntimeWarning: Concatenation of Annotations within Epochs is not supported yet. All annotations will be dropped.\n",
      "  epochs = mne.concatenate_epochs(ep_list, on_mismatch='ignore')\n"
     ]
    },
    {
     "name": "stdout",
     "output_type": "stream",
     "text": [
      "[OK] S001 → /root/Proyecto/EEG_Clasificador/data/processed/S001_MI-epo.fif | n_epochs=90 | ch=8\n",
      "[QC] PSD → /root/Proyecto/EEG_Clasificador/data/processed/qc_figs/S001_PSD.png\n"
     ]
    },
    {
     "name": "stderr",
     "output_type": "stream",
     "text": [
      "<ipython-input-13-83caa3bf9fe7>:71: RuntimeWarning: Concatenation of Annotations within Epochs is not supported yet. All annotations will be dropped.\n",
      "  epochs = mne.concatenate_epochs(ep_list, on_mismatch='ignore')\n"
     ]
    },
    {
     "name": "stdout",
     "output_type": "stream",
     "text": [
      "[OK] S002 → /root/Proyecto/EEG_Clasificador/data/processed/S002_MI-epo.fif | n_epochs=84 | ch=8\n",
      "[QC] PSD → /root/Proyecto/EEG_Clasificador/data/processed/qc_figs/S002_PSD.png\n"
     ]
    },
    {
     "name": "stderr",
     "output_type": "stream",
     "text": [
      "<ipython-input-13-83caa3bf9fe7>:71: RuntimeWarning: Concatenation of Annotations within Epochs is not supported yet. All annotations will be dropped.\n",
      "  epochs = mne.concatenate_epochs(ep_list, on_mismatch='ignore')\n"
     ]
    },
    {
     "name": "stdout",
     "output_type": "stream",
     "text": [
      "[OK] S003 → /root/Proyecto/EEG_Clasificador/data/processed/S003_MI-epo.fif | n_epochs=90 | ch=8\n",
      "[QC] PSD → /root/Proyecto/EEG_Clasificador/data/processed/qc_figs/S003_PSD.png\n"
     ]
    },
    {
     "name": "stderr",
     "output_type": "stream",
     "text": [
      "<ipython-input-13-83caa3bf9fe7>:71: RuntimeWarning: Concatenation of Annotations within Epochs is not supported yet. All annotations will be dropped.\n",
      "  epochs = mne.concatenate_epochs(ep_list, on_mismatch='ignore')\n"
     ]
    },
    {
     "name": "stdout",
     "output_type": "stream",
     "text": [
      "[OK] S004 → /root/Proyecto/EEG_Clasificador/data/processed/S004_MI-epo.fif | n_epochs=84 | ch=8\n",
      "[QC] PSD → /root/Proyecto/EEG_Clasificador/data/processed/qc_figs/S004_PSD.png\n"
     ]
    },
    {
     "name": "stderr",
     "output_type": "stream",
     "text": [
      "<ipython-input-13-83caa3bf9fe7>:71: RuntimeWarning: Concatenation of Annotations within Epochs is not supported yet. All annotations will be dropped.\n",
      "  epochs = mne.concatenate_epochs(ep_list, on_mismatch='ignore')\n"
     ]
    },
    {
     "name": "stdout",
     "output_type": "stream",
     "text": [
      "[OK] S005 → /root/Proyecto/EEG_Clasificador/data/processed/S005_MI-epo.fif | n_epochs=84 | ch=8\n",
      "[QC] PSD → /root/Proyecto/EEG_Clasificador/data/processed/qc_figs/S005_PSD.png\n"
     ]
    },
    {
     "name": "stderr",
     "output_type": "stream",
     "text": [
      "<ipython-input-13-83caa3bf9fe7>:71: RuntimeWarning: Concatenation of Annotations within Epochs is not supported yet. All annotations will be dropped.\n",
      "  epochs = mne.concatenate_epochs(ep_list, on_mismatch='ignore')\n"
     ]
    },
    {
     "name": "stdout",
     "output_type": "stream",
     "text": [
      "[OK] S006 → /root/Proyecto/EEG_Clasificador/data/processed/S006_MI-epo.fif | n_epochs=84 | ch=8\n",
      "[QC] PSD → /root/Proyecto/EEG_Clasificador/data/processed/qc_figs/S006_PSD.png\n"
     ]
    },
    {
     "name": "stderr",
     "output_type": "stream",
     "text": [
      "<ipython-input-13-83caa3bf9fe7>:71: RuntimeWarning: Concatenation of Annotations within Epochs is not supported yet. All annotations will be dropped.\n",
      "  epochs = mne.concatenate_epochs(ep_list, on_mismatch='ignore')\n"
     ]
    },
    {
     "name": "stdout",
     "output_type": "stream",
     "text": [
      "[OK] S007 → /root/Proyecto/EEG_Clasificador/data/processed/S007_MI-epo.fif | n_epochs=90 | ch=8\n",
      "[QC] PSD → /root/Proyecto/EEG_Clasificador/data/processed/qc_figs/S007_PSD.png\n"
     ]
    },
    {
     "name": "stderr",
     "output_type": "stream",
     "text": [
      "<ipython-input-13-83caa3bf9fe7>:71: RuntimeWarning: Concatenation of Annotations within Epochs is not supported yet. All annotations will be dropped.\n",
      "  epochs = mne.concatenate_epochs(ep_list, on_mismatch='ignore')\n"
     ]
    },
    {
     "name": "stdout",
     "output_type": "stream",
     "text": [
      "[OK] S008 → /root/Proyecto/EEG_Clasificador/data/processed/S008_MI-epo.fif | n_epochs=84 | ch=8\n",
      "[QC] PSD → /root/Proyecto/EEG_Clasificador/data/processed/qc_figs/S008_PSD.png\n"
     ]
    },
    {
     "name": "stderr",
     "output_type": "stream",
     "text": [
      "<ipython-input-13-83caa3bf9fe7>:71: RuntimeWarning: Concatenation of Annotations within Epochs is not supported yet. All annotations will be dropped.\n",
      "  epochs = mne.concatenate_epochs(ep_list, on_mismatch='ignore')\n"
     ]
    },
    {
     "name": "stdout",
     "output_type": "stream",
     "text": [
      "[OK] S009 → /root/Proyecto/EEG_Clasificador/data/processed/S009_MI-epo.fif | n_epochs=84 | ch=8\n",
      "[QC] PSD → /root/Proyecto/EEG_Clasificador/data/processed/qc_figs/S009_PSD.png\n"
     ]
    },
    {
     "name": "stderr",
     "output_type": "stream",
     "text": [
      "<ipython-input-13-83caa3bf9fe7>:71: RuntimeWarning: Concatenation of Annotations within Epochs is not supported yet. All annotations will be dropped.\n",
      "  epochs = mne.concatenate_epochs(ep_list, on_mismatch='ignore')\n"
     ]
    },
    {
     "name": "stdout",
     "output_type": "stream",
     "text": [
      "[OK] S010 → /root/Proyecto/EEG_Clasificador/data/processed/S010_MI-epo.fif | n_epochs=84 | ch=8\n",
      "[QC] PSD → /root/Proyecto/EEG_Clasificador/data/processed/qc_figs/S010_PSD.png\n"
     ]
    },
    {
     "name": "stderr",
     "output_type": "stream",
     "text": [
      "<ipython-input-13-83caa3bf9fe7>:71: RuntimeWarning: Concatenation of Annotations within Epochs is not supported yet. All annotations will be dropped.\n",
      "  epochs = mne.concatenate_epochs(ep_list, on_mismatch='ignore')\n"
     ]
    },
    {
     "name": "stdout",
     "output_type": "stream",
     "text": [
      "[OK] S011 → /root/Proyecto/EEG_Clasificador/data/processed/S011_MI-epo.fif | n_epochs=84 | ch=8\n",
      "[QC] PSD → /root/Proyecto/EEG_Clasificador/data/processed/qc_figs/S011_PSD.png\n"
     ]
    },
    {
     "name": "stderr",
     "output_type": "stream",
     "text": [
      "<ipython-input-13-83caa3bf9fe7>:71: RuntimeWarning: Concatenation of Annotations within Epochs is not supported yet. All annotations will be dropped.\n",
      "  epochs = mne.concatenate_epochs(ep_list, on_mismatch='ignore')\n"
     ]
    },
    {
     "name": "stdout",
     "output_type": "stream",
     "text": [
      "[OK] S012 → /root/Proyecto/EEG_Clasificador/data/processed/S012_MI-epo.fif | n_epochs=84 | ch=8\n",
      "[QC] PSD → /root/Proyecto/EEG_Clasificador/data/processed/qc_figs/S012_PSD.png\n"
     ]
    },
    {
     "name": "stderr",
     "output_type": "stream",
     "text": [
      "<ipython-input-13-83caa3bf9fe7>:71: RuntimeWarning: Concatenation of Annotations within Epochs is not supported yet. All annotations will be dropped.\n",
      "  epochs = mne.concatenate_epochs(ep_list, on_mismatch='ignore')\n"
     ]
    },
    {
     "name": "stdout",
     "output_type": "stream",
     "text": [
      "[OK] S013 → /root/Proyecto/EEG_Clasificador/data/processed/S013_MI-epo.fif | n_epochs=84 | ch=8\n",
      "[QC] PSD → /root/Proyecto/EEG_Clasificador/data/processed/qc_figs/S013_PSD.png\n"
     ]
    },
    {
     "name": "stderr",
     "output_type": "stream",
     "text": [
      "<ipython-input-13-83caa3bf9fe7>:71: RuntimeWarning: Concatenation of Annotations within Epochs is not supported yet. All annotations will be dropped.\n",
      "  epochs = mne.concatenate_epochs(ep_list, on_mismatch='ignore')\n"
     ]
    },
    {
     "name": "stdout",
     "output_type": "stream",
     "text": [
      "[OK] S014 → /root/Proyecto/EEG_Clasificador/data/processed/S014_MI-epo.fif | n_epochs=84 | ch=8\n",
      "[QC] PSD → /root/Proyecto/EEG_Clasificador/data/processed/qc_figs/S014_PSD.png\n"
     ]
    },
    {
     "name": "stderr",
     "output_type": "stream",
     "text": [
      "<ipython-input-13-83caa3bf9fe7>:71: RuntimeWarning: Concatenation of Annotations within Epochs is not supported yet. All annotations will be dropped.\n",
      "  epochs = mne.concatenate_epochs(ep_list, on_mismatch='ignore')\n"
     ]
    },
    {
     "name": "stdout",
     "output_type": "stream",
     "text": [
      "[OK] S015 → /root/Proyecto/EEG_Clasificador/data/processed/S015_MI-epo.fif | n_epochs=84 | ch=8\n",
      "[QC] PSD → /root/Proyecto/EEG_Clasificador/data/processed/qc_figs/S015_PSD.png\n"
     ]
    },
    {
     "name": "stderr",
     "output_type": "stream",
     "text": [
      "<ipython-input-13-83caa3bf9fe7>:71: RuntimeWarning: Concatenation of Annotations within Epochs is not supported yet. All annotations will be dropped.\n",
      "  epochs = mne.concatenate_epochs(ep_list, on_mismatch='ignore')\n"
     ]
    },
    {
     "name": "stdout",
     "output_type": "stream",
     "text": [
      "[OK] S016 → /root/Proyecto/EEG_Clasificador/data/processed/S016_MI-epo.fif | n_epochs=84 | ch=8\n",
      "[QC] PSD → /root/Proyecto/EEG_Clasificador/data/processed/qc_figs/S016_PSD.png\n"
     ]
    },
    {
     "name": "stderr",
     "output_type": "stream",
     "text": [
      "<ipython-input-13-83caa3bf9fe7>:71: RuntimeWarning: Concatenation of Annotations within Epochs is not supported yet. All annotations will be dropped.\n",
      "  epochs = mne.concatenate_epochs(ep_list, on_mismatch='ignore')\n"
     ]
    },
    {
     "name": "stdout",
     "output_type": "stream",
     "text": [
      "[OK] S017 → /root/Proyecto/EEG_Clasificador/data/processed/S017_MI-epo.fif | n_epochs=84 | ch=8\n",
      "[QC] PSD → /root/Proyecto/EEG_Clasificador/data/processed/qc_figs/S017_PSD.png\n"
     ]
    },
    {
     "name": "stderr",
     "output_type": "stream",
     "text": [
      "<ipython-input-13-83caa3bf9fe7>:71: RuntimeWarning: Concatenation of Annotations within Epochs is not supported yet. All annotations will be dropped.\n",
      "  epochs = mne.concatenate_epochs(ep_list, on_mismatch='ignore')\n"
     ]
    },
    {
     "name": "stdout",
     "output_type": "stream",
     "text": [
      "[OK] S018 → /root/Proyecto/EEG_Clasificador/data/processed/S018_MI-epo.fif | n_epochs=84 | ch=8\n",
      "[QC] PSD → /root/Proyecto/EEG_Clasificador/data/processed/qc_figs/S018_PSD.png\n"
     ]
    },
    {
     "name": "stderr",
     "output_type": "stream",
     "text": [
      "<ipython-input-13-83caa3bf9fe7>:71: RuntimeWarning: Concatenation of Annotations within Epochs is not supported yet. All annotations will be dropped.\n",
      "  epochs = mne.concatenate_epochs(ep_list, on_mismatch='ignore')\n"
     ]
    },
    {
     "name": "stdout",
     "output_type": "stream",
     "text": [
      "[OK] S019 → /root/Proyecto/EEG_Clasificador/data/processed/S019_MI-epo.fif | n_epochs=84 | ch=8\n",
      "[QC] PSD → /root/Proyecto/EEG_Clasificador/data/processed/qc_figs/S019_PSD.png\n"
     ]
    },
    {
     "name": "stderr",
     "output_type": "stream",
     "text": [
      "<ipython-input-13-83caa3bf9fe7>:71: RuntimeWarning: Concatenation of Annotations within Epochs is not supported yet. All annotations will be dropped.\n",
      "  epochs = mne.concatenate_epochs(ep_list, on_mismatch='ignore')\n"
     ]
    },
    {
     "name": "stdout",
     "output_type": "stream",
     "text": [
      "[OK] S020 → /root/Proyecto/EEG_Clasificador/data/processed/S020_MI-epo.fif | n_epochs=84 | ch=8\n",
      "[QC] PSD → /root/Proyecto/EEG_Clasificador/data/processed/qc_figs/S020_PSD.png\n"
     ]
    },
    {
     "name": "stderr",
     "output_type": "stream",
     "text": [
      "<ipython-input-13-83caa3bf9fe7>:71: RuntimeWarning: Concatenation of Annotations within Epochs is not supported yet. All annotations will be dropped.\n",
      "  epochs = mne.concatenate_epochs(ep_list, on_mismatch='ignore')\n"
     ]
    },
    {
     "name": "stdout",
     "output_type": "stream",
     "text": [
      "[OK] S021 → /root/Proyecto/EEG_Clasificador/data/processed/S021_MI-epo.fif | n_epochs=90 | ch=8\n",
      "[QC] PSD → /root/Proyecto/EEG_Clasificador/data/processed/qc_figs/S021_PSD.png\n"
     ]
    },
    {
     "name": "stderr",
     "output_type": "stream",
     "text": [
      "<ipython-input-13-83caa3bf9fe7>:71: RuntimeWarning: Concatenation of Annotations within Epochs is not supported yet. All annotations will be dropped.\n",
      "  epochs = mne.concatenate_epochs(ep_list, on_mismatch='ignore')\n"
     ]
    },
    {
     "name": "stdout",
     "output_type": "stream",
     "text": [
      "[OK] S022 → /root/Proyecto/EEG_Clasificador/data/processed/S022_MI-epo.fif | n_epochs=90 | ch=8\n",
      "[QC] PSD → /root/Proyecto/EEG_Clasificador/data/processed/qc_figs/S022_PSD.png\n"
     ]
    },
    {
     "name": "stderr",
     "output_type": "stream",
     "text": [
      "<ipython-input-13-83caa3bf9fe7>:71: RuntimeWarning: Concatenation of Annotations within Epochs is not supported yet. All annotations will be dropped.\n",
      "  epochs = mne.concatenate_epochs(ep_list, on_mismatch='ignore')\n"
     ]
    },
    {
     "name": "stdout",
     "output_type": "stream",
     "text": [
      "[OK] S023 → /root/Proyecto/EEG_Clasificador/data/processed/S023_MI-epo.fif | n_epochs=84 | ch=8\n",
      "[QC] PSD → /root/Proyecto/EEG_Clasificador/data/processed/qc_figs/S023_PSD.png\n"
     ]
    },
    {
     "name": "stderr",
     "output_type": "stream",
     "text": [
      "<ipython-input-13-83caa3bf9fe7>:71: RuntimeWarning: Concatenation of Annotations within Epochs is not supported yet. All annotations will be dropped.\n",
      "  epochs = mne.concatenate_epochs(ep_list, on_mismatch='ignore')\n"
     ]
    },
    {
     "name": "stdout",
     "output_type": "stream",
     "text": [
      "[OK] S024 → /root/Proyecto/EEG_Clasificador/data/processed/S024_MI-epo.fif | n_epochs=84 | ch=8\n",
      "[QC] PSD → /root/Proyecto/EEG_Clasificador/data/processed/qc_figs/S024_PSD.png\n"
     ]
    },
    {
     "name": "stderr",
     "output_type": "stream",
     "text": [
      "<ipython-input-13-83caa3bf9fe7>:71: RuntimeWarning: Concatenation of Annotations within Epochs is not supported yet. All annotations will be dropped.\n",
      "  epochs = mne.concatenate_epochs(ep_list, on_mismatch='ignore')\n"
     ]
    },
    {
     "name": "stdout",
     "output_type": "stream",
     "text": [
      "[OK] S025 → /root/Proyecto/EEG_Clasificador/data/processed/S025_MI-epo.fif | n_epochs=84 | ch=8\n",
      "[QC] PSD → /root/Proyecto/EEG_Clasificador/data/processed/qc_figs/S025_PSD.png\n"
     ]
    },
    {
     "name": "stderr",
     "output_type": "stream",
     "text": [
      "<ipython-input-13-83caa3bf9fe7>:71: RuntimeWarning: Concatenation of Annotations within Epochs is not supported yet. All annotations will be dropped.\n",
      "  epochs = mne.concatenate_epochs(ep_list, on_mismatch='ignore')\n"
     ]
    },
    {
     "name": "stdout",
     "output_type": "stream",
     "text": [
      "[OK] S026 → /root/Proyecto/EEG_Clasificador/data/processed/S026_MI-epo.fif | n_epochs=84 | ch=8\n",
      "[QC] PSD → /root/Proyecto/EEG_Clasificador/data/processed/qc_figs/S026_PSD.png\n"
     ]
    },
    {
     "name": "stderr",
     "output_type": "stream",
     "text": [
      "<ipython-input-13-83caa3bf9fe7>:71: RuntimeWarning: Concatenation of Annotations within Epochs is not supported yet. All annotations will be dropped.\n",
      "  epochs = mne.concatenate_epochs(ep_list, on_mismatch='ignore')\n"
     ]
    },
    {
     "name": "stdout",
     "output_type": "stream",
     "text": [
      "[OK] S027 → /root/Proyecto/EEG_Clasificador/data/processed/S027_MI-epo.fif | n_epochs=84 | ch=8\n",
      "[QC] PSD → /root/Proyecto/EEG_Clasificador/data/processed/qc_figs/S027_PSD.png\n"
     ]
    },
    {
     "name": "stderr",
     "output_type": "stream",
     "text": [
      "<ipython-input-13-83caa3bf9fe7>:71: RuntimeWarning: Concatenation of Annotations within Epochs is not supported yet. All annotations will be dropped.\n",
      "  epochs = mne.concatenate_epochs(ep_list, on_mismatch='ignore')\n"
     ]
    },
    {
     "name": "stdout",
     "output_type": "stream",
     "text": [
      "[OK] S028 → /root/Proyecto/EEG_Clasificador/data/processed/S028_MI-epo.fif | n_epochs=84 | ch=8\n",
      "[QC] PSD → /root/Proyecto/EEG_Clasificador/data/processed/qc_figs/S028_PSD.png\n"
     ]
    },
    {
     "name": "stderr",
     "output_type": "stream",
     "text": [
      "<ipython-input-13-83caa3bf9fe7>:71: RuntimeWarning: Concatenation of Annotations within Epochs is not supported yet. All annotations will be dropped.\n",
      "  epochs = mne.concatenate_epochs(ep_list, on_mismatch='ignore')\n"
     ]
    },
    {
     "name": "stdout",
     "output_type": "stream",
     "text": [
      "[OK] S029 → /root/Proyecto/EEG_Clasificador/data/processed/S029_MI-epo.fif | n_epochs=90 | ch=8\n",
      "[QC] PSD → /root/Proyecto/EEG_Clasificador/data/processed/qc_figs/S029_PSD.png\n"
     ]
    },
    {
     "name": "stderr",
     "output_type": "stream",
     "text": [
      "<ipython-input-13-83caa3bf9fe7>:71: RuntimeWarning: Concatenation of Annotations within Epochs is not supported yet. All annotations will be dropped.\n",
      "  epochs = mne.concatenate_epochs(ep_list, on_mismatch='ignore')\n"
     ]
    },
    {
     "name": "stdout",
     "output_type": "stream",
     "text": [
      "[OK] S030 → /root/Proyecto/EEG_Clasificador/data/processed/S030_MI-epo.fif | n_epochs=90 | ch=8\n",
      "[QC] PSD → /root/Proyecto/EEG_Clasificador/data/processed/qc_figs/S030_PSD.png\n"
     ]
    },
    {
     "name": "stderr",
     "output_type": "stream",
     "text": [
      "<ipython-input-13-83caa3bf9fe7>:71: RuntimeWarning: Concatenation of Annotations within Epochs is not supported yet. All annotations will be dropped.\n",
      "  epochs = mne.concatenate_epochs(ep_list, on_mismatch='ignore')\n"
     ]
    },
    {
     "name": "stdout",
     "output_type": "stream",
     "text": [
      "[OK] S031 → /root/Proyecto/EEG_Clasificador/data/processed/S031_MI-epo.fif | n_epochs=84 | ch=8\n",
      "[QC] PSD → /root/Proyecto/EEG_Clasificador/data/processed/qc_figs/S031_PSD.png\n"
     ]
    },
    {
     "name": "stderr",
     "output_type": "stream",
     "text": [
      "<ipython-input-13-83caa3bf9fe7>:71: RuntimeWarning: Concatenation of Annotations within Epochs is not supported yet. All annotations will be dropped.\n",
      "  epochs = mne.concatenate_epochs(ep_list, on_mismatch='ignore')\n"
     ]
    },
    {
     "name": "stdout",
     "output_type": "stream",
     "text": [
      "[OK] S032 → /root/Proyecto/EEG_Clasificador/data/processed/S032_MI-epo.fif | n_epochs=90 | ch=8\n",
      "[QC] PSD → /root/Proyecto/EEG_Clasificador/data/processed/qc_figs/S032_PSD.png\n"
     ]
    },
    {
     "name": "stderr",
     "output_type": "stream",
     "text": [
      "<ipython-input-13-83caa3bf9fe7>:71: RuntimeWarning: Concatenation of Annotations within Epochs is not supported yet. All annotations will be dropped.\n",
      "  epochs = mne.concatenate_epochs(ep_list, on_mismatch='ignore')\n"
     ]
    },
    {
     "name": "stdout",
     "output_type": "stream",
     "text": [
      "[OK] S033 → /root/Proyecto/EEG_Clasificador/data/processed/S033_MI-epo.fif | n_epochs=84 | ch=8\n",
      "[QC] PSD → /root/Proyecto/EEG_Clasificador/data/processed/qc_figs/S033_PSD.png\n"
     ]
    },
    {
     "name": "stderr",
     "output_type": "stream",
     "text": [
      "<ipython-input-13-83caa3bf9fe7>:71: RuntimeWarning: Concatenation of Annotations within Epochs is not supported yet. All annotations will be dropped.\n",
      "  epochs = mne.concatenate_epochs(ep_list, on_mismatch='ignore')\n"
     ]
    },
    {
     "name": "stdout",
     "output_type": "stream",
     "text": [
      "[OK] S034 → /root/Proyecto/EEG_Clasificador/data/processed/S034_MI-epo.fif | n_epochs=85 | ch=8\n",
      "[QC] PSD → /root/Proyecto/EEG_Clasificador/data/processed/qc_figs/S034_PSD.png\n"
     ]
    },
    {
     "name": "stderr",
     "output_type": "stream",
     "text": [
      "<ipython-input-13-83caa3bf9fe7>:71: RuntimeWarning: Concatenation of Annotations within Epochs is not supported yet. All annotations will be dropped.\n",
      "  epochs = mne.concatenate_epochs(ep_list, on_mismatch='ignore')\n"
     ]
    },
    {
     "name": "stdout",
     "output_type": "stream",
     "text": [
      "[OK] S035 → /root/Proyecto/EEG_Clasificador/data/processed/S035_MI-epo.fif | n_epochs=90 | ch=8\n",
      "[QC] PSD → /root/Proyecto/EEG_Clasificador/data/processed/qc_figs/S035_PSD.png\n"
     ]
    },
    {
     "name": "stderr",
     "output_type": "stream",
     "text": [
      "<ipython-input-13-83caa3bf9fe7>:71: RuntimeWarning: Concatenation of Annotations within Epochs is not supported yet. All annotations will be dropped.\n",
      "  epochs = mne.concatenate_epochs(ep_list, on_mismatch='ignore')\n"
     ]
    },
    {
     "name": "stdout",
     "output_type": "stream",
     "text": [
      "[OK] S036 → /root/Proyecto/EEG_Clasificador/data/processed/S036_MI-epo.fif | n_epochs=84 | ch=8\n",
      "[QC] PSD → /root/Proyecto/EEG_Clasificador/data/processed/qc_figs/S036_PSD.png\n"
     ]
    },
    {
     "name": "stderr",
     "output_type": "stream",
     "text": [
      "<ipython-input-13-83caa3bf9fe7>:71: RuntimeWarning: Concatenation of Annotations within Epochs is not supported yet. All annotations will be dropped.\n",
      "  epochs = mne.concatenate_epochs(ep_list, on_mismatch='ignore')\n"
     ]
    },
    {
     "name": "stdout",
     "output_type": "stream",
     "text": [
      "[OK] S037 → /root/Proyecto/EEG_Clasificador/data/processed/S037_MI-epo.fif | n_epochs=85 | ch=8\n",
      "[QC] PSD → /root/Proyecto/EEG_Clasificador/data/processed/qc_figs/S037_PSD.png\n"
     ]
    },
    {
     "name": "stderr",
     "output_type": "stream",
     "text": [
      "<ipython-input-13-83caa3bf9fe7>:71: RuntimeWarning: Concatenation of Annotations within Epochs is not supported yet. All annotations will be dropped.\n",
      "  epochs = mne.concatenate_epochs(ep_list, on_mismatch='ignore')\n"
     ]
    },
    {
     "name": "stdout",
     "output_type": "stream",
     "text": [
      "[OK] S039 → /root/Proyecto/EEG_Clasificador/data/processed/S039_MI-epo.fif | n_epochs=84 | ch=8\n",
      "[QC] PSD → /root/Proyecto/EEG_Clasificador/data/processed/qc_figs/S039_PSD.png\n"
     ]
    },
    {
     "name": "stderr",
     "output_type": "stream",
     "text": [
      "<ipython-input-13-83caa3bf9fe7>:71: RuntimeWarning: Concatenation of Annotations within Epochs is not supported yet. All annotations will be dropped.\n",
      "  epochs = mne.concatenate_epochs(ep_list, on_mismatch='ignore')\n"
     ]
    },
    {
     "name": "stdout",
     "output_type": "stream",
     "text": [
      "[OK] S040 → /root/Proyecto/EEG_Clasificador/data/processed/S040_MI-epo.fif | n_epochs=84 | ch=8\n",
      "[QC] PSD → /root/Proyecto/EEG_Clasificador/data/processed/qc_figs/S040_PSD.png\n"
     ]
    },
    {
     "name": "stderr",
     "output_type": "stream",
     "text": [
      "<ipython-input-13-83caa3bf9fe7>:71: RuntimeWarning: Concatenation of Annotations within Epochs is not supported yet. All annotations will be dropped.\n",
      "  epochs = mne.concatenate_epochs(ep_list, on_mismatch='ignore')\n"
     ]
    },
    {
     "name": "stdout",
     "output_type": "stream",
     "text": [
      "[OK] S041 → /root/Proyecto/EEG_Clasificador/data/processed/S041_MI-epo.fif | n_epochs=88 | ch=8\n",
      "[QC] PSD → /root/Proyecto/EEG_Clasificador/data/processed/qc_figs/S041_PSD.png\n"
     ]
    },
    {
     "name": "stderr",
     "output_type": "stream",
     "text": [
      "<ipython-input-13-83caa3bf9fe7>:71: RuntimeWarning: Concatenation of Annotations within Epochs is not supported yet. All annotations will be dropped.\n",
      "  epochs = mne.concatenate_epochs(ep_list, on_mismatch='ignore')\n"
     ]
    },
    {
     "name": "stdout",
     "output_type": "stream",
     "text": [
      "[OK] S042 → /root/Proyecto/EEG_Clasificador/data/processed/S042_MI-epo.fif | n_epochs=84 | ch=8\n",
      "[QC] PSD → /root/Proyecto/EEG_Clasificador/data/processed/qc_figs/S042_PSD.png\n"
     ]
    },
    {
     "name": "stderr",
     "output_type": "stream",
     "text": [
      "<ipython-input-13-83caa3bf9fe7>:71: RuntimeWarning: Concatenation of Annotations within Epochs is not supported yet. All annotations will be dropped.\n",
      "  epochs = mne.concatenate_epochs(ep_list, on_mismatch='ignore')\n"
     ]
    },
    {
     "name": "stdout",
     "output_type": "stream",
     "text": [
      "[OK] S043 → /root/Proyecto/EEG_Clasificador/data/processed/S043_MI-epo.fif | n_epochs=84 | ch=8\n",
      "[QC] PSD → /root/Proyecto/EEG_Clasificador/data/processed/qc_figs/S043_PSD.png\n"
     ]
    },
    {
     "name": "stderr",
     "output_type": "stream",
     "text": [
      "<ipython-input-13-83caa3bf9fe7>:71: RuntimeWarning: Concatenation of Annotations within Epochs is not supported yet. All annotations will be dropped.\n",
      "  epochs = mne.concatenate_epochs(ep_list, on_mismatch='ignore')\n"
     ]
    },
    {
     "name": "stdout",
     "output_type": "stream",
     "text": [
      "[OK] S044 → /root/Proyecto/EEG_Clasificador/data/processed/S044_MI-epo.fif | n_epochs=84 | ch=8\n",
      "[QC] PSD → /root/Proyecto/EEG_Clasificador/data/processed/qc_figs/S044_PSD.png\n"
     ]
    },
    {
     "name": "stderr",
     "output_type": "stream",
     "text": [
      "<ipython-input-13-83caa3bf9fe7>:71: RuntimeWarning: Concatenation of Annotations within Epochs is not supported yet. All annotations will be dropped.\n",
      "  epochs = mne.concatenate_epochs(ep_list, on_mismatch='ignore')\n"
     ]
    },
    {
     "name": "stdout",
     "output_type": "stream",
     "text": [
      "[OK] S045 → /root/Proyecto/EEG_Clasificador/data/processed/S045_MI-epo.fif | n_epochs=84 | ch=8\n",
      "[QC] PSD → /root/Proyecto/EEG_Clasificador/data/processed/qc_figs/S045_PSD.png\n"
     ]
    },
    {
     "name": "stderr",
     "output_type": "stream",
     "text": [
      "<ipython-input-13-83caa3bf9fe7>:71: RuntimeWarning: Concatenation of Annotations within Epochs is not supported yet. All annotations will be dropped.\n",
      "  epochs = mne.concatenate_epochs(ep_list, on_mismatch='ignore')\n"
     ]
    },
    {
     "name": "stdout",
     "output_type": "stream",
     "text": [
      "[OK] S046 → /root/Proyecto/EEG_Clasificador/data/processed/S046_MI-epo.fif | n_epochs=90 | ch=8\n",
      "[QC] PSD → /root/Proyecto/EEG_Clasificador/data/processed/qc_figs/S046_PSD.png\n"
     ]
    },
    {
     "name": "stderr",
     "output_type": "stream",
     "text": [
      "<ipython-input-13-83caa3bf9fe7>:71: RuntimeWarning: Concatenation of Annotations within Epochs is not supported yet. All annotations will be dropped.\n",
      "  epochs = mne.concatenate_epochs(ep_list, on_mismatch='ignore')\n"
     ]
    },
    {
     "name": "stdout",
     "output_type": "stream",
     "text": [
      "[OK] S047 → /root/Proyecto/EEG_Clasificador/data/processed/S047_MI-epo.fif | n_epochs=84 | ch=8\n",
      "[QC] PSD → /root/Proyecto/EEG_Clasificador/data/processed/qc_figs/S047_PSD.png\n"
     ]
    },
    {
     "name": "stderr",
     "output_type": "stream",
     "text": [
      "<ipython-input-13-83caa3bf9fe7>:71: RuntimeWarning: Concatenation of Annotations within Epochs is not supported yet. All annotations will be dropped.\n",
      "  epochs = mne.concatenate_epochs(ep_list, on_mismatch='ignore')\n"
     ]
    },
    {
     "name": "stdout",
     "output_type": "stream",
     "text": [
      "[OK] S048 → /root/Proyecto/EEG_Clasificador/data/processed/S048_MI-epo.fif | n_epochs=84 | ch=8\n",
      "[QC] PSD → /root/Proyecto/EEG_Clasificador/data/processed/qc_figs/S048_PSD.png\n"
     ]
    },
    {
     "name": "stderr",
     "output_type": "stream",
     "text": [
      "<ipython-input-13-83caa3bf9fe7>:71: RuntimeWarning: Concatenation of Annotations within Epochs is not supported yet. All annotations will be dropped.\n",
      "  epochs = mne.concatenate_epochs(ep_list, on_mismatch='ignore')\n"
     ]
    },
    {
     "name": "stdout",
     "output_type": "stream",
     "text": [
      "[OK] S049 → /root/Proyecto/EEG_Clasificador/data/processed/S049_MI-epo.fif | n_epochs=84 | ch=8\n",
      "[QC] PSD → /root/Proyecto/EEG_Clasificador/data/processed/qc_figs/S049_PSD.png\n"
     ]
    },
    {
     "name": "stderr",
     "output_type": "stream",
     "text": [
      "<ipython-input-13-83caa3bf9fe7>:71: RuntimeWarning: Concatenation of Annotations within Epochs is not supported yet. All annotations will be dropped.\n",
      "  epochs = mne.concatenate_epochs(ep_list, on_mismatch='ignore')\n"
     ]
    },
    {
     "name": "stdout",
     "output_type": "stream",
     "text": [
      "[OK] S050 → /root/Proyecto/EEG_Clasificador/data/processed/S050_MI-epo.fif | n_epochs=84 | ch=8\n",
      "[QC] PSD → /root/Proyecto/EEG_Clasificador/data/processed/qc_figs/S050_PSD.png\n"
     ]
    },
    {
     "name": "stderr",
     "output_type": "stream",
     "text": [
      "<ipython-input-13-83caa3bf9fe7>:71: RuntimeWarning: Concatenation of Annotations within Epochs is not supported yet. All annotations will be dropped.\n",
      "  epochs = mne.concatenate_epochs(ep_list, on_mismatch='ignore')\n"
     ]
    },
    {
     "name": "stdout",
     "output_type": "stream",
     "text": [
      "[OK] S051 → /root/Proyecto/EEG_Clasificador/data/processed/S051_MI-epo.fif | n_epochs=90 | ch=8\n",
      "[QC] PSD → /root/Proyecto/EEG_Clasificador/data/processed/qc_figs/S051_PSD.png\n"
     ]
    },
    {
     "name": "stderr",
     "output_type": "stream",
     "text": [
      "<ipython-input-13-83caa3bf9fe7>:71: RuntimeWarning: Concatenation of Annotations within Epochs is not supported yet. All annotations will be dropped.\n",
      "  epochs = mne.concatenate_epochs(ep_list, on_mismatch='ignore')\n"
     ]
    },
    {
     "name": "stdout",
     "output_type": "stream",
     "text": [
      "[OK] S052 → /root/Proyecto/EEG_Clasificador/data/processed/S052_MI-epo.fif | n_epochs=84 | ch=8\n",
      "[QC] PSD → /root/Proyecto/EEG_Clasificador/data/processed/qc_figs/S052_PSD.png\n"
     ]
    },
    {
     "name": "stderr",
     "output_type": "stream",
     "text": [
      "<ipython-input-13-83caa3bf9fe7>:71: RuntimeWarning: Concatenation of Annotations within Epochs is not supported yet. All annotations will be dropped.\n",
      "  epochs = mne.concatenate_epochs(ep_list, on_mismatch='ignore')\n"
     ]
    },
    {
     "name": "stdout",
     "output_type": "stream",
     "text": [
      "[OK] S053 → /root/Proyecto/EEG_Clasificador/data/processed/S053_MI-epo.fif | n_epochs=84 | ch=8\n",
      "[QC] PSD → /root/Proyecto/EEG_Clasificador/data/processed/qc_figs/S053_PSD.png\n"
     ]
    },
    {
     "name": "stderr",
     "output_type": "stream",
     "text": [
      "<ipython-input-13-83caa3bf9fe7>:71: RuntimeWarning: Concatenation of Annotations within Epochs is not supported yet. All annotations will be dropped.\n",
      "  epochs = mne.concatenate_epochs(ep_list, on_mismatch='ignore')\n"
     ]
    },
    {
     "name": "stdout",
     "output_type": "stream",
     "text": [
      "[OK] S054 → /root/Proyecto/EEG_Clasificador/data/processed/S054_MI-epo.fif | n_epochs=84 | ch=8\n",
      "[QC] PSD → /root/Proyecto/EEG_Clasificador/data/processed/qc_figs/S054_PSD.png\n"
     ]
    },
    {
     "name": "stderr",
     "output_type": "stream",
     "text": [
      "<ipython-input-13-83caa3bf9fe7>:71: RuntimeWarning: Concatenation of Annotations within Epochs is not supported yet. All annotations will be dropped.\n",
      "  epochs = mne.concatenate_epochs(ep_list, on_mismatch='ignore')\n"
     ]
    },
    {
     "name": "stdout",
     "output_type": "stream",
     "text": [
      "[OK] S055 → /root/Proyecto/EEG_Clasificador/data/processed/S055_MI-epo.fif | n_epochs=84 | ch=8\n",
      "[QC] PSD → /root/Proyecto/EEG_Clasificador/data/processed/qc_figs/S055_PSD.png\n"
     ]
    },
    {
     "name": "stderr",
     "output_type": "stream",
     "text": [
      "<ipython-input-13-83caa3bf9fe7>:71: RuntimeWarning: Concatenation of Annotations within Epochs is not supported yet. All annotations will be dropped.\n",
      "  epochs = mne.concatenate_epochs(ep_list, on_mismatch='ignore')\n"
     ]
    },
    {
     "name": "stdout",
     "output_type": "stream",
     "text": [
      "[OK] S056 → /root/Proyecto/EEG_Clasificador/data/processed/S056_MI-epo.fif | n_epochs=84 | ch=8\n",
      "[QC] PSD → /root/Proyecto/EEG_Clasificador/data/processed/qc_figs/S056_PSD.png\n"
     ]
    },
    {
     "name": "stderr",
     "output_type": "stream",
     "text": [
      "<ipython-input-13-83caa3bf9fe7>:71: RuntimeWarning: Concatenation of Annotations within Epochs is not supported yet. All annotations will be dropped.\n",
      "  epochs = mne.concatenate_epochs(ep_list, on_mismatch='ignore')\n"
     ]
    },
    {
     "name": "stdout",
     "output_type": "stream",
     "text": [
      "[OK] S057 → /root/Proyecto/EEG_Clasificador/data/processed/S057_MI-epo.fif | n_epochs=90 | ch=8\n",
      "[QC] PSD → /root/Proyecto/EEG_Clasificador/data/processed/qc_figs/S057_PSD.png\n"
     ]
    },
    {
     "name": "stderr",
     "output_type": "stream",
     "text": [
      "<ipython-input-13-83caa3bf9fe7>:71: RuntimeWarning: Concatenation of Annotations within Epochs is not supported yet. All annotations will be dropped.\n",
      "  epochs = mne.concatenate_epochs(ep_list, on_mismatch='ignore')\n"
     ]
    },
    {
     "name": "stdout",
     "output_type": "stream",
     "text": [
      "[OK] S058 → /root/Proyecto/EEG_Clasificador/data/processed/S058_MI-epo.fif | n_epochs=84 | ch=8\n",
      "[QC] PSD → /root/Proyecto/EEG_Clasificador/data/processed/qc_figs/S058_PSD.png\n"
     ]
    },
    {
     "name": "stderr",
     "output_type": "stream",
     "text": [
      "<ipython-input-13-83caa3bf9fe7>:71: RuntimeWarning: Concatenation of Annotations within Epochs is not supported yet. All annotations will be dropped.\n",
      "  epochs = mne.concatenate_epochs(ep_list, on_mismatch='ignore')\n"
     ]
    },
    {
     "name": "stdout",
     "output_type": "stream",
     "text": [
      "[OK] S059 → /root/Proyecto/EEG_Clasificador/data/processed/S059_MI-epo.fif | n_epochs=84 | ch=8\n",
      "[QC] PSD → /root/Proyecto/EEG_Clasificador/data/processed/qc_figs/S059_PSD.png\n"
     ]
    },
    {
     "name": "stderr",
     "output_type": "stream",
     "text": [
      "<ipython-input-13-83caa3bf9fe7>:71: RuntimeWarning: Concatenation of Annotations within Epochs is not supported yet. All annotations will be dropped.\n",
      "  epochs = mne.concatenate_epochs(ep_list, on_mismatch='ignore')\n"
     ]
    },
    {
     "name": "stdout",
     "output_type": "stream",
     "text": [
      "[OK] S060 → /root/Proyecto/EEG_Clasificador/data/processed/S060_MI-epo.fif | n_epochs=84 | ch=8\n",
      "[QC] PSD → /root/Proyecto/EEG_Clasificador/data/processed/qc_figs/S060_PSD.png\n"
     ]
    },
    {
     "name": "stderr",
     "output_type": "stream",
     "text": [
      "<ipython-input-13-83caa3bf9fe7>:71: RuntimeWarning: Concatenation of Annotations within Epochs is not supported yet. All annotations will be dropped.\n",
      "  epochs = mne.concatenate_epochs(ep_list, on_mismatch='ignore')\n"
     ]
    },
    {
     "name": "stdout",
     "output_type": "stream",
     "text": [
      "[OK] S061 → /root/Proyecto/EEG_Clasificador/data/processed/S061_MI-epo.fif | n_epochs=90 | ch=8\n",
      "[QC] PSD → /root/Proyecto/EEG_Clasificador/data/processed/qc_figs/S061_PSD.png\n"
     ]
    },
    {
     "name": "stderr",
     "output_type": "stream",
     "text": [
      "<ipython-input-13-83caa3bf9fe7>:71: RuntimeWarning: Concatenation of Annotations within Epochs is not supported yet. All annotations will be dropped.\n",
      "  epochs = mne.concatenate_epochs(ep_list, on_mismatch='ignore')\n"
     ]
    },
    {
     "name": "stdout",
     "output_type": "stream",
     "text": [
      "[OK] S062 → /root/Proyecto/EEG_Clasificador/data/processed/S062_MI-epo.fif | n_epochs=84 | ch=8\n",
      "[QC] PSD → /root/Proyecto/EEG_Clasificador/data/processed/qc_figs/S062_PSD.png\n"
     ]
    },
    {
     "name": "stderr",
     "output_type": "stream",
     "text": [
      "<ipython-input-13-83caa3bf9fe7>:71: RuntimeWarning: Concatenation of Annotations within Epochs is not supported yet. All annotations will be dropped.\n",
      "  epochs = mne.concatenate_epochs(ep_list, on_mismatch='ignore')\n"
     ]
    },
    {
     "name": "stdout",
     "output_type": "stream",
     "text": [
      "[OK] S063 → /root/Proyecto/EEG_Clasificador/data/processed/S063_MI-epo.fif | n_epochs=84 | ch=8\n",
      "[QC] PSD → /root/Proyecto/EEG_Clasificador/data/processed/qc_figs/S063_PSD.png\n"
     ]
    },
    {
     "name": "stderr",
     "output_type": "stream",
     "text": [
      "<ipython-input-13-83caa3bf9fe7>:71: RuntimeWarning: Concatenation of Annotations within Epochs is not supported yet. All annotations will be dropped.\n",
      "  epochs = mne.concatenate_epochs(ep_list, on_mismatch='ignore')\n"
     ]
    },
    {
     "name": "stdout",
     "output_type": "stream",
     "text": [
      "[OK] S064 → /root/Proyecto/EEG_Clasificador/data/processed/S064_MI-epo.fif | n_epochs=87 | ch=8\n",
      "[QC] PSD → /root/Proyecto/EEG_Clasificador/data/processed/qc_figs/S064_PSD.png\n"
     ]
    },
    {
     "name": "stderr",
     "output_type": "stream",
     "text": [
      "<ipython-input-13-83caa3bf9fe7>:71: RuntimeWarning: Concatenation of Annotations within Epochs is not supported yet. All annotations will be dropped.\n",
      "  epochs = mne.concatenate_epochs(ep_list, on_mismatch='ignore')\n"
     ]
    },
    {
     "name": "stdout",
     "output_type": "stream",
     "text": [
      "[OK] S065 → /root/Proyecto/EEG_Clasificador/data/processed/S065_MI-epo.fif | n_epochs=90 | ch=8\n",
      "[QC] PSD → /root/Proyecto/EEG_Clasificador/data/processed/qc_figs/S065_PSD.png\n"
     ]
    },
    {
     "name": "stderr",
     "output_type": "stream",
     "text": [
      "<ipython-input-13-83caa3bf9fe7>:71: RuntimeWarning: Concatenation of Annotations within Epochs is not supported yet. All annotations will be dropped.\n",
      "  epochs = mne.concatenate_epochs(ep_list, on_mismatch='ignore')\n"
     ]
    },
    {
     "name": "stdout",
     "output_type": "stream",
     "text": [
      "[OK] S066 → /root/Proyecto/EEG_Clasificador/data/processed/S066_MI-epo.fif | n_epochs=90 | ch=8\n",
      "[QC] PSD → /root/Proyecto/EEG_Clasificador/data/processed/qc_figs/S066_PSD.png\n"
     ]
    },
    {
     "name": "stderr",
     "output_type": "stream",
     "text": [
      "<ipython-input-13-83caa3bf9fe7>:71: RuntimeWarning: Concatenation of Annotations within Epochs is not supported yet. All annotations will be dropped.\n",
      "  epochs = mne.concatenate_epochs(ep_list, on_mismatch='ignore')\n"
     ]
    },
    {
     "name": "stdout",
     "output_type": "stream",
     "text": [
      "[OK] S067 → /root/Proyecto/EEG_Clasificador/data/processed/S067_MI-epo.fif | n_epochs=84 | ch=8\n",
      "[QC] PSD → /root/Proyecto/EEG_Clasificador/data/processed/qc_figs/S067_PSD.png\n"
     ]
    },
    {
     "name": "stderr",
     "output_type": "stream",
     "text": [
      "<ipython-input-13-83caa3bf9fe7>:71: RuntimeWarning: Concatenation of Annotations within Epochs is not supported yet. All annotations will be dropped.\n",
      "  epochs = mne.concatenate_epochs(ep_list, on_mismatch='ignore')\n"
     ]
    },
    {
     "name": "stdout",
     "output_type": "stream",
     "text": [
      "[OK] S068 → /root/Proyecto/EEG_Clasificador/data/processed/S068_MI-epo.fif | n_epochs=84 | ch=8\n",
      "[QC] PSD → /root/Proyecto/EEG_Clasificador/data/processed/qc_figs/S068_PSD.png\n"
     ]
    },
    {
     "name": "stderr",
     "output_type": "stream",
     "text": [
      "<ipython-input-13-83caa3bf9fe7>:71: RuntimeWarning: Concatenation of Annotations within Epochs is not supported yet. All annotations will be dropped.\n",
      "  epochs = mne.concatenate_epochs(ep_list, on_mismatch='ignore')\n"
     ]
    },
    {
     "name": "stdout",
     "output_type": "stream",
     "text": [
      "[OK] S069 → /root/Proyecto/EEG_Clasificador/data/processed/S069_MI-epo.fif | n_epochs=84 | ch=8\n",
      "[QC] PSD → /root/Proyecto/EEG_Clasificador/data/processed/qc_figs/S069_PSD.png\n"
     ]
    },
    {
     "name": "stderr",
     "output_type": "stream",
     "text": [
      "<ipython-input-13-83caa3bf9fe7>:71: RuntimeWarning: Concatenation of Annotations within Epochs is not supported yet. All annotations will be dropped.\n",
      "  epochs = mne.concatenate_epochs(ep_list, on_mismatch='ignore')\n"
     ]
    },
    {
     "name": "stdout",
     "output_type": "stream",
     "text": [
      "[OK] S070 → /root/Proyecto/EEG_Clasificador/data/processed/S070_MI-epo.fif | n_epochs=84 | ch=8\n",
      "[QC] PSD → /root/Proyecto/EEG_Clasificador/data/processed/qc_figs/S070_PSD.png\n"
     ]
    },
    {
     "name": "stderr",
     "output_type": "stream",
     "text": [
      "<ipython-input-13-83caa3bf9fe7>:71: RuntimeWarning: Concatenation of Annotations within Epochs is not supported yet. All annotations will be dropped.\n",
      "  epochs = mne.concatenate_epochs(ep_list, on_mismatch='ignore')\n"
     ]
    },
    {
     "name": "stdout",
     "output_type": "stream",
     "text": [
      "[OK] S071 → /root/Proyecto/EEG_Clasificador/data/processed/S071_MI-epo.fif | n_epochs=90 | ch=8\n",
      "[QC] PSD → /root/Proyecto/EEG_Clasificador/data/processed/qc_figs/S071_PSD.png\n"
     ]
    },
    {
     "name": "stderr",
     "output_type": "stream",
     "text": [
      "<ipython-input-13-83caa3bf9fe7>:71: RuntimeWarning: Concatenation of Annotations within Epochs is not supported yet. All annotations will be dropped.\n",
      "  epochs = mne.concatenate_epochs(ep_list, on_mismatch='ignore')\n"
     ]
    },
    {
     "name": "stdout",
     "output_type": "stream",
     "text": [
      "[OK] S072 → /root/Proyecto/EEG_Clasificador/data/processed/S072_MI-epo.fif | n_epochs=85 | ch=8\n",
      "[QC] PSD → /root/Proyecto/EEG_Clasificador/data/processed/qc_figs/S072_PSD.png\n"
     ]
    },
    {
     "name": "stderr",
     "output_type": "stream",
     "text": [
      "<ipython-input-13-83caa3bf9fe7>:71: RuntimeWarning: Concatenation of Annotations within Epochs is not supported yet. All annotations will be dropped.\n",
      "  epochs = mne.concatenate_epochs(ep_list, on_mismatch='ignore')\n"
     ]
    },
    {
     "name": "stdout",
     "output_type": "stream",
     "text": [
      "[OK] S073 → /root/Proyecto/EEG_Clasificador/data/processed/S073_MI-epo.fif | n_epochs=84 | ch=8\n",
      "[QC] PSD → /root/Proyecto/EEG_Clasificador/data/processed/qc_figs/S073_PSD.png\n"
     ]
    },
    {
     "name": "stderr",
     "output_type": "stream",
     "text": [
      "<ipython-input-13-83caa3bf9fe7>:71: RuntimeWarning: Concatenation of Annotations within Epochs is not supported yet. All annotations will be dropped.\n",
      "  epochs = mne.concatenate_epochs(ep_list, on_mismatch='ignore')\n"
     ]
    },
    {
     "name": "stdout",
     "output_type": "stream",
     "text": [
      "[OK] S074 → /root/Proyecto/EEG_Clasificador/data/processed/S074_MI-epo.fif | n_epochs=85 | ch=8\n",
      "[QC] PSD → /root/Proyecto/EEG_Clasificador/data/processed/qc_figs/S074_PSD.png\n"
     ]
    },
    {
     "name": "stderr",
     "output_type": "stream",
     "text": [
      "<ipython-input-13-83caa3bf9fe7>:71: RuntimeWarning: Concatenation of Annotations within Epochs is not supported yet. All annotations will be dropped.\n",
      "  epochs = mne.concatenate_epochs(ep_list, on_mismatch='ignore')\n"
     ]
    },
    {
     "name": "stdout",
     "output_type": "stream",
     "text": [
      "[OK] S075 → /root/Proyecto/EEG_Clasificador/data/processed/S075_MI-epo.fif | n_epochs=84 | ch=8\n",
      "[QC] PSD → /root/Proyecto/EEG_Clasificador/data/processed/qc_figs/S075_PSD.png\n"
     ]
    },
    {
     "name": "stderr",
     "output_type": "stream",
     "text": [
      "<ipython-input-13-83caa3bf9fe7>:71: RuntimeWarning: Concatenation of Annotations within Epochs is not supported yet. All annotations will be dropped.\n",
      "  epochs = mne.concatenate_epochs(ep_list, on_mismatch='ignore')\n"
     ]
    },
    {
     "name": "stdout",
     "output_type": "stream",
     "text": [
      "[OK] S076 → /root/Proyecto/EEG_Clasificador/data/processed/S076_MI-epo.fif | n_epochs=84 | ch=8\n",
      "[QC] PSD → /root/Proyecto/EEG_Clasificador/data/processed/qc_figs/S076_PSD.png\n"
     ]
    },
    {
     "name": "stderr",
     "output_type": "stream",
     "text": [
      "<ipython-input-13-83caa3bf9fe7>:71: RuntimeWarning: Concatenation of Annotations within Epochs is not supported yet. All annotations will be dropped.\n",
      "  epochs = mne.concatenate_epochs(ep_list, on_mismatch='ignore')\n"
     ]
    },
    {
     "name": "stdout",
     "output_type": "stream",
     "text": [
      "[OK] S077 → /root/Proyecto/EEG_Clasificador/data/processed/S077_MI-epo.fif | n_epochs=84 | ch=8\n",
      "[QC] PSD → /root/Proyecto/EEG_Clasificador/data/processed/qc_figs/S077_PSD.png\n"
     ]
    },
    {
     "name": "stderr",
     "output_type": "stream",
     "text": [
      "<ipython-input-13-83caa3bf9fe7>:71: RuntimeWarning: Concatenation of Annotations within Epochs is not supported yet. All annotations will be dropped.\n",
      "  epochs = mne.concatenate_epochs(ep_list, on_mismatch='ignore')\n"
     ]
    },
    {
     "name": "stdout",
     "output_type": "stream",
     "text": [
      "[OK] S078 → /root/Proyecto/EEG_Clasificador/data/processed/S078_MI-epo.fif | n_epochs=84 | ch=8\n",
      "[QC] PSD → /root/Proyecto/EEG_Clasificador/data/processed/qc_figs/S078_PSD.png\n"
     ]
    },
    {
     "name": "stderr",
     "output_type": "stream",
     "text": [
      "<ipython-input-13-83caa3bf9fe7>:71: RuntimeWarning: Concatenation of Annotations within Epochs is not supported yet. All annotations will be dropped.\n",
      "  epochs = mne.concatenate_epochs(ep_list, on_mismatch='ignore')\n"
     ]
    },
    {
     "name": "stdout",
     "output_type": "stream",
     "text": [
      "[OK] S079 → /root/Proyecto/EEG_Clasificador/data/processed/S079_MI-epo.fif | n_epochs=90 | ch=8\n",
      "[QC] PSD → /root/Proyecto/EEG_Clasificador/data/processed/qc_figs/S079_PSD.png\n"
     ]
    },
    {
     "name": "stderr",
     "output_type": "stream",
     "text": [
      "<ipython-input-13-83caa3bf9fe7>:71: RuntimeWarning: Concatenation of Annotations within Epochs is not supported yet. All annotations will be dropped.\n",
      "  epochs = mne.concatenate_epochs(ep_list, on_mismatch='ignore')\n"
     ]
    },
    {
     "name": "stdout",
     "output_type": "stream",
     "text": [
      "[OK] S080 → /root/Proyecto/EEG_Clasificador/data/processed/S080_MI-epo.fif | n_epochs=84 | ch=8\n",
      "[QC] PSD → /root/Proyecto/EEG_Clasificador/data/processed/qc_figs/S080_PSD.png\n"
     ]
    },
    {
     "name": "stderr",
     "output_type": "stream",
     "text": [
      "<ipython-input-13-83caa3bf9fe7>:71: RuntimeWarning: Concatenation of Annotations within Epochs is not supported yet. All annotations will be dropped.\n",
      "  epochs = mne.concatenate_epochs(ep_list, on_mismatch='ignore')\n"
     ]
    },
    {
     "name": "stdout",
     "output_type": "stream",
     "text": [
      "[OK] S081 → /root/Proyecto/EEG_Clasificador/data/processed/S081_MI-epo.fif | n_epochs=84 | ch=8\n",
      "[QC] PSD → /root/Proyecto/EEG_Clasificador/data/processed/qc_figs/S081_PSD.png\n"
     ]
    },
    {
     "name": "stderr",
     "output_type": "stream",
     "text": [
      "<ipython-input-13-83caa3bf9fe7>:71: RuntimeWarning: Concatenation of Annotations within Epochs is not supported yet. All annotations will be dropped.\n",
      "  epochs = mne.concatenate_epochs(ep_list, on_mismatch='ignore')\n"
     ]
    },
    {
     "name": "stdout",
     "output_type": "stream",
     "text": [
      "[OK] S082 → /root/Proyecto/EEG_Clasificador/data/processed/S082_MI-epo.fif | n_epochs=84 | ch=8\n",
      "[QC] PSD → /root/Proyecto/EEG_Clasificador/data/processed/qc_figs/S082_PSD.png\n"
     ]
    },
    {
     "name": "stderr",
     "output_type": "stream",
     "text": [
      "<ipython-input-13-83caa3bf9fe7>:71: RuntimeWarning: Concatenation of Annotations within Epochs is not supported yet. All annotations will be dropped.\n",
      "  epochs = mne.concatenate_epochs(ep_list, on_mismatch='ignore')\n"
     ]
    },
    {
     "name": "stdout",
     "output_type": "stream",
     "text": [
      "[OK] S083 → /root/Proyecto/EEG_Clasificador/data/processed/S083_MI-epo.fif | n_epochs=90 | ch=8\n",
      "[QC] PSD → /root/Proyecto/EEG_Clasificador/data/processed/qc_figs/S083_PSD.png\n"
     ]
    },
    {
     "name": "stderr",
     "output_type": "stream",
     "text": [
      "<ipython-input-13-83caa3bf9fe7>:71: RuntimeWarning: Concatenation of Annotations within Epochs is not supported yet. All annotations will be dropped.\n",
      "  epochs = mne.concatenate_epochs(ep_list, on_mismatch='ignore')\n"
     ]
    },
    {
     "name": "stdout",
     "output_type": "stream",
     "text": [
      "[OK] S084 → /root/Proyecto/EEG_Clasificador/data/processed/S084_MI-epo.fif | n_epochs=84 | ch=8\n",
      "[QC] PSD → /root/Proyecto/EEG_Clasificador/data/processed/qc_figs/S084_PSD.png\n"
     ]
    },
    {
     "name": "stderr",
     "output_type": "stream",
     "text": [
      "<ipython-input-13-83caa3bf9fe7>:71: RuntimeWarning: Concatenation of Annotations within Epochs is not supported yet. All annotations will be dropped.\n",
      "  epochs = mne.concatenate_epochs(ep_list, on_mismatch='ignore')\n"
     ]
    },
    {
     "name": "stdout",
     "output_type": "stream",
     "text": [
      "[OK] S085 → /root/Proyecto/EEG_Clasificador/data/processed/S085_MI-epo.fif | n_epochs=84 | ch=8\n",
      "[QC] PSD → /root/Proyecto/EEG_Clasificador/data/processed/qc_figs/S085_PSD.png\n"
     ]
    },
    {
     "name": "stderr",
     "output_type": "stream",
     "text": [
      "<ipython-input-13-83caa3bf9fe7>:71: RuntimeWarning: Concatenation of Annotations within Epochs is not supported yet. All annotations will be dropped.\n",
      "  epochs = mne.concatenate_epochs(ep_list, on_mismatch='ignore')\n"
     ]
    },
    {
     "name": "stdout",
     "output_type": "stream",
     "text": [
      "[OK] S086 → /root/Proyecto/EEG_Clasificador/data/processed/S086_MI-epo.fif | n_epochs=90 | ch=8\n",
      "[QC] PSD → /root/Proyecto/EEG_Clasificador/data/processed/qc_figs/S086_PSD.png\n"
     ]
    },
    {
     "name": "stderr",
     "output_type": "stream",
     "text": [
      "<ipython-input-13-83caa3bf9fe7>:71: RuntimeWarning: Concatenation of Annotations within Epochs is not supported yet. All annotations will be dropped.\n",
      "  epochs = mne.concatenate_epochs(ep_list, on_mismatch='ignore')\n"
     ]
    },
    {
     "name": "stdout",
     "output_type": "stream",
     "text": [
      "[OK] S087 → /root/Proyecto/EEG_Clasificador/data/processed/S087_MI-epo.fif | n_epochs=84 | ch=8\n",
      "[QC] PSD → /root/Proyecto/EEG_Clasificador/data/processed/qc_figs/S087_PSD.png\n"
     ]
    },
    {
     "name": "stderr",
     "output_type": "stream",
     "text": [
      "<ipython-input-13-83caa3bf9fe7>:71: RuntimeWarning: Concatenation of Annotations within Epochs is not supported yet. All annotations will be dropped.\n",
      "  epochs = mne.concatenate_epochs(ep_list, on_mismatch='ignore')\n"
     ]
    },
    {
     "name": "stdout",
     "output_type": "stream",
     "text": [
      "[OK] S090 → /root/Proyecto/EEG_Clasificador/data/processed/S090_MI-epo.fif | n_epochs=84 | ch=8\n",
      "[QC] PSD → /root/Proyecto/EEG_Clasificador/data/processed/qc_figs/S090_PSD.png\n"
     ]
    },
    {
     "name": "stderr",
     "output_type": "stream",
     "text": [
      "<ipython-input-13-83caa3bf9fe7>:71: RuntimeWarning: Concatenation of Annotations within Epochs is not supported yet. All annotations will be dropped.\n",
      "  epochs = mne.concatenate_epochs(ep_list, on_mismatch='ignore')\n"
     ]
    },
    {
     "name": "stdout",
     "output_type": "stream",
     "text": [
      "[OK] S091 → /root/Proyecto/EEG_Clasificador/data/processed/S091_MI-epo.fif | n_epochs=84 | ch=8\n",
      "[QC] PSD → /root/Proyecto/EEG_Clasificador/data/processed/qc_figs/S091_PSD.png\n"
     ]
    },
    {
     "name": "stderr",
     "output_type": "stream",
     "text": [
      "<ipython-input-13-83caa3bf9fe7>:71: RuntimeWarning: Concatenation of Annotations within Epochs is not supported yet. All annotations will be dropped.\n",
      "  epochs = mne.concatenate_epochs(ep_list, on_mismatch='ignore')\n"
     ]
    },
    {
     "name": "stdout",
     "output_type": "stream",
     "text": [
      "[OK] S093 → /root/Proyecto/EEG_Clasificador/data/processed/S093_MI-epo.fif | n_epochs=84 | ch=8\n",
      "[QC] PSD → /root/Proyecto/EEG_Clasificador/data/processed/qc_figs/S093_PSD.png\n"
     ]
    },
    {
     "name": "stderr",
     "output_type": "stream",
     "text": [
      "<ipython-input-13-83caa3bf9fe7>:71: RuntimeWarning: Concatenation of Annotations within Epochs is not supported yet. All annotations will be dropped.\n",
      "  epochs = mne.concatenate_epochs(ep_list, on_mismatch='ignore')\n"
     ]
    },
    {
     "name": "stdout",
     "output_type": "stream",
     "text": [
      "[OK] S094 → /root/Proyecto/EEG_Clasificador/data/processed/S094_MI-epo.fif | n_epochs=84 | ch=8\n",
      "[QC] PSD → /root/Proyecto/EEG_Clasificador/data/processed/qc_figs/S094_PSD.png\n"
     ]
    },
    {
     "name": "stderr",
     "output_type": "stream",
     "text": [
      "<ipython-input-13-83caa3bf9fe7>:71: RuntimeWarning: Concatenation of Annotations within Epochs is not supported yet. All annotations will be dropped.\n",
      "  epochs = mne.concatenate_epochs(ep_list, on_mismatch='ignore')\n"
     ]
    },
    {
     "name": "stdout",
     "output_type": "stream",
     "text": [
      "[OK] S095 → /root/Proyecto/EEG_Clasificador/data/processed/S095_MI-epo.fif | n_epochs=90 | ch=8\n",
      "[QC] PSD → /root/Proyecto/EEG_Clasificador/data/processed/qc_figs/S095_PSD.png\n"
     ]
    },
    {
     "name": "stderr",
     "output_type": "stream",
     "text": [
      "<ipython-input-13-83caa3bf9fe7>:71: RuntimeWarning: Concatenation of Annotations within Epochs is not supported yet. All annotations will be dropped.\n",
      "  epochs = mne.concatenate_epochs(ep_list, on_mismatch='ignore')\n"
     ]
    },
    {
     "name": "stdout",
     "output_type": "stream",
     "text": [
      "[OK] S096 → /root/Proyecto/EEG_Clasificador/data/processed/S096_MI-epo.fif | n_epochs=90 | ch=8\n",
      "[QC] PSD → /root/Proyecto/EEG_Clasificador/data/processed/qc_figs/S096_PSD.png\n"
     ]
    },
    {
     "name": "stderr",
     "output_type": "stream",
     "text": [
      "<ipython-input-13-83caa3bf9fe7>:71: RuntimeWarning: Concatenation of Annotations within Epochs is not supported yet. All annotations will be dropped.\n",
      "  epochs = mne.concatenate_epochs(ep_list, on_mismatch='ignore')\n"
     ]
    },
    {
     "name": "stdout",
     "output_type": "stream",
     "text": [
      "[OK] S097 → /root/Proyecto/EEG_Clasificador/data/processed/S097_MI-epo.fif | n_epochs=84 | ch=8\n",
      "[QC] PSD → /root/Proyecto/EEG_Clasificador/data/processed/qc_figs/S097_PSD.png\n"
     ]
    },
    {
     "name": "stderr",
     "output_type": "stream",
     "text": [
      "<ipython-input-13-83caa3bf9fe7>:71: RuntimeWarning: Concatenation of Annotations within Epochs is not supported yet. All annotations will be dropped.\n",
      "  epochs = mne.concatenate_epochs(ep_list, on_mismatch='ignore')\n"
     ]
    },
    {
     "name": "stdout",
     "output_type": "stream",
     "text": [
      "[OK] S098 → /root/Proyecto/EEG_Clasificador/data/processed/S098_MI-epo.fif | n_epochs=84 | ch=8\n",
      "[QC] PSD → /root/Proyecto/EEG_Clasificador/data/processed/qc_figs/S098_PSD.png\n"
     ]
    },
    {
     "name": "stderr",
     "output_type": "stream",
     "text": [
      "<ipython-input-13-83caa3bf9fe7>:71: RuntimeWarning: Concatenation of Annotations within Epochs is not supported yet. All annotations will be dropped.\n",
      "  epochs = mne.concatenate_epochs(ep_list, on_mismatch='ignore')\n"
     ]
    },
    {
     "name": "stdout",
     "output_type": "stream",
     "text": [
      "[OK] S099 → /root/Proyecto/EEG_Clasificador/data/processed/S099_MI-epo.fif | n_epochs=84 | ch=8\n",
      "[QC] PSD → /root/Proyecto/EEG_Clasificador/data/processed/qc_figs/S099_PSD.png\n"
     ]
    },
    {
     "name": "stderr",
     "output_type": "stream",
     "text": [
      "<ipython-input-13-83caa3bf9fe7>:71: RuntimeWarning: Concatenation of Annotations within Epochs is not supported yet. All annotations will be dropped.\n",
      "  epochs = mne.concatenate_epochs(ep_list, on_mismatch='ignore')\n"
     ]
    },
    {
     "name": "stdout",
     "output_type": "stream",
     "text": [
      "[OK] S101 → /root/Proyecto/EEG_Clasificador/data/processed/S101_MI-epo.fif | n_epochs=90 | ch=8\n",
      "[QC] PSD → /root/Proyecto/EEG_Clasificador/data/processed/qc_figs/S101_PSD.png\n"
     ]
    },
    {
     "name": "stderr",
     "output_type": "stream",
     "text": [
      "<ipython-input-13-83caa3bf9fe7>:71: RuntimeWarning: Concatenation of Annotations within Epochs is not supported yet. All annotations will be dropped.\n",
      "  epochs = mne.concatenate_epochs(ep_list, on_mismatch='ignore')\n"
     ]
    },
    {
     "name": "stdout",
     "output_type": "stream",
     "text": [
      "[OK] S102 → /root/Proyecto/EEG_Clasificador/data/processed/S102_MI-epo.fif | n_epochs=85 | ch=8\n",
      "[QC] PSD → /root/Proyecto/EEG_Clasificador/data/processed/qc_figs/S102_PSD.png\n"
     ]
    },
    {
     "name": "stderr",
     "output_type": "stream",
     "text": [
      "<ipython-input-13-83caa3bf9fe7>:71: RuntimeWarning: Concatenation of Annotations within Epochs is not supported yet. All annotations will be dropped.\n",
      "  epochs = mne.concatenate_epochs(ep_list, on_mismatch='ignore')\n"
     ]
    },
    {
     "name": "stdout",
     "output_type": "stream",
     "text": [
      "[OK] S103 → /root/Proyecto/EEG_Clasificador/data/processed/S103_MI-epo.fif | n_epochs=90 | ch=8\n",
      "[QC] PSD → /root/Proyecto/EEG_Clasificador/data/processed/qc_figs/S103_PSD.png\n"
     ]
    },
    {
     "name": "stderr",
     "output_type": "stream",
     "text": [
      "<ipython-input-13-83caa3bf9fe7>:71: RuntimeWarning: Concatenation of Annotations within Epochs is not supported yet. All annotations will be dropped.\n",
      "  epochs = mne.concatenate_epochs(ep_list, on_mismatch='ignore')\n"
     ]
    },
    {
     "name": "stdout",
     "output_type": "stream",
     "text": [
      "[OK] S105 → /root/Proyecto/EEG_Clasificador/data/processed/S105_MI-epo.fif | n_epochs=84 | ch=8\n",
      "[QC] PSD → /root/Proyecto/EEG_Clasificador/data/processed/qc_figs/S105_PSD.png\n"
     ]
    },
    {
     "name": "stderr",
     "output_type": "stream",
     "text": [
      "<ipython-input-13-83caa3bf9fe7>:71: RuntimeWarning: Concatenation of Annotations within Epochs is not supported yet. All annotations will be dropped.\n",
      "  epochs = mne.concatenate_epochs(ep_list, on_mismatch='ignore')\n"
     ]
    },
    {
     "name": "stdout",
     "output_type": "stream",
     "text": [
      "[OK] S106 → /root/Proyecto/EEG_Clasificador/data/processed/S106_MI-epo.fif | n_epochs=90 | ch=8\n",
      "[QC] PSD → /root/Proyecto/EEG_Clasificador/data/processed/qc_figs/S106_PSD.png\n"
     ]
    },
    {
     "name": "stderr",
     "output_type": "stream",
     "text": [
      "<ipython-input-13-83caa3bf9fe7>:71: RuntimeWarning: Concatenation of Annotations within Epochs is not supported yet. All annotations will be dropped.\n",
      "  epochs = mne.concatenate_epochs(ep_list, on_mismatch='ignore')\n"
     ]
    },
    {
     "name": "stdout",
     "output_type": "stream",
     "text": [
      "[OK] S107 → /root/Proyecto/EEG_Clasificador/data/processed/S107_MI-epo.fif | n_epochs=90 | ch=8\n",
      "[QC] PSD → /root/Proyecto/EEG_Clasificador/data/processed/qc_figs/S107_PSD.png\n"
     ]
    },
    {
     "name": "stderr",
     "output_type": "stream",
     "text": [
      "<ipython-input-13-83caa3bf9fe7>:71: RuntimeWarning: Concatenation of Annotations within Epochs is not supported yet. All annotations will be dropped.\n",
      "  epochs = mne.concatenate_epochs(ep_list, on_mismatch='ignore')\n"
     ]
    },
    {
     "name": "stdout",
     "output_type": "stream",
     "text": [
      "[OK] S108 → /root/Proyecto/EEG_Clasificador/data/processed/S108_MI-epo.fif | n_epochs=84 | ch=8\n",
      "[QC] PSD → /root/Proyecto/EEG_Clasificador/data/processed/qc_figs/S108_PSD.png\n",
      "[OK] S109 → /root/Proyecto/EEG_Clasificador/data/processed/S109_MI-epo.fif | n_epochs=84 | ch=8\n",
      "[QC] PSD → /root/Proyecto/EEG_Clasificador/data/processed/qc_figs/S109_PSD.png\n",
      "[RESUMEN] sujetos OK=103/103 | CSV → /root/Proyecto/EEG_Clasificador/data/processed/preproc_summary.csv\n"
     ]
    },
    {
     "name": "stderr",
     "output_type": "stream",
     "text": [
      "<ipython-input-13-83caa3bf9fe7>:71: RuntimeWarning: Concatenation of Annotations within Epochs is not supported yet. All annotations will be dropped.\n",
      "  epochs = mne.concatenate_epochs(ep_list, on_mismatch='ignore')\n"
     ]
    },
    {
     "data": {
      "text/html": [
       "\n",
       "  <div id=\"df-9207bad8-ad42-4525-91fb-a2cbda44c059\" class=\"colab-df-container\">\n",
       "    <div>\n",
       "<style scoped>\n",
       "    .dataframe tbody tr th:only-of-type {\n",
       "        vertical-align: middle;\n",
       "    }\n",
       "\n",
       "    .dataframe tbody tr th {\n",
       "        vertical-align: top;\n",
       "    }\n",
       "\n",
       "    .dataframe thead th {\n",
       "        text-align: right;\n",
       "    }\n",
       "</style>\n",
       "<table border=\"1\" class=\"dataframe\">\n",
       "  <thead>\n",
       "    <tr style=\"text-align: right;\">\n",
       "      <th></th>\n",
       "      <th>subject</th>\n",
       "      <th>n_epochs</th>\n",
       "      <th>n_ch</th>\n",
       "      <th>left</th>\n",
       "      <th>right</th>\n",
       "      <th>both_hands</th>\n",
       "      <th>both_feet</th>\n",
       "    </tr>\n",
       "  </thead>\n",
       "  <tbody>\n",
       "    <tr>\n",
       "      <th>0</th>\n",
       "      <td>S001</td>\n",
       "      <td>90</td>\n",
       "      <td>8</td>\n",
       "      <td>23</td>\n",
       "      <td>22</td>\n",
       "      <td>21</td>\n",
       "      <td>24</td>\n",
       "    </tr>\n",
       "    <tr>\n",
       "      <th>1</th>\n",
       "      <td>S002</td>\n",
       "      <td>84</td>\n",
       "      <td>8</td>\n",
       "      <td>21</td>\n",
       "      <td>21</td>\n",
       "      <td>21</td>\n",
       "      <td>21</td>\n",
       "    </tr>\n",
       "    <tr>\n",
       "      <th>2</th>\n",
       "      <td>S003</td>\n",
       "      <td>90</td>\n",
       "      <td>8</td>\n",
       "      <td>23</td>\n",
       "      <td>22</td>\n",
       "      <td>21</td>\n",
       "      <td>24</td>\n",
       "    </tr>\n",
       "    <tr>\n",
       "      <th>3</th>\n",
       "      <td>S004</td>\n",
       "      <td>84</td>\n",
       "      <td>8</td>\n",
       "      <td>21</td>\n",
       "      <td>21</td>\n",
       "      <td>21</td>\n",
       "      <td>21</td>\n",
       "    </tr>\n",
       "    <tr>\n",
       "      <th>4</th>\n",
       "      <td>S005</td>\n",
       "      <td>84</td>\n",
       "      <td>8</td>\n",
       "      <td>21</td>\n",
       "      <td>21</td>\n",
       "      <td>21</td>\n",
       "      <td>21</td>\n",
       "    </tr>\n",
       "    <tr>\n",
       "      <th>5</th>\n",
       "      <td>S006</td>\n",
       "      <td>84</td>\n",
       "      <td>8</td>\n",
       "      <td>21</td>\n",
       "      <td>21</td>\n",
       "      <td>21</td>\n",
       "      <td>21</td>\n",
       "    </tr>\n",
       "    <tr>\n",
       "      <th>6</th>\n",
       "      <td>S007</td>\n",
       "      <td>90</td>\n",
       "      <td>8</td>\n",
       "      <td>23</td>\n",
       "      <td>22</td>\n",
       "      <td>22</td>\n",
       "      <td>23</td>\n",
       "    </tr>\n",
       "    <tr>\n",
       "      <th>7</th>\n",
       "      <td>S008</td>\n",
       "      <td>84</td>\n",
       "      <td>8</td>\n",
       "      <td>21</td>\n",
       "      <td>21</td>\n",
       "      <td>21</td>\n",
       "      <td>21</td>\n",
       "    </tr>\n",
       "    <tr>\n",
       "      <th>8</th>\n",
       "      <td>S009</td>\n",
       "      <td>84</td>\n",
       "      <td>8</td>\n",
       "      <td>21</td>\n",
       "      <td>21</td>\n",
       "      <td>21</td>\n",
       "      <td>21</td>\n",
       "    </tr>\n",
       "    <tr>\n",
       "      <th>9</th>\n",
       "      <td>S010</td>\n",
       "      <td>84</td>\n",
       "      <td>8</td>\n",
       "      <td>21</td>\n",
       "      <td>21</td>\n",
       "      <td>21</td>\n",
       "      <td>21</td>\n",
       "    </tr>\n",
       "  </tbody>\n",
       "</table>\n",
       "</div>\n",
       "    <div class=\"colab-df-buttons\">\n",
       "      \n",
       "  <div class=\"colab-df-container\">\n",
       "    <button class=\"colab-df-convert\" onclick=\"convertToInteractive('df-9207bad8-ad42-4525-91fb-a2cbda44c059')\"\n",
       "            title=\"Convert this dataframe to an interactive table.\"\n",
       "            style=\"display:none;\">\n",
       "      \n",
       "  <svg xmlns=\"http://www.w3.org/2000/svg\" height=\"24px\" viewBox=\"0 -960 960 960\">\n",
       "    <path d=\"M120-120v-720h720v720H120Zm60-500h600v-160H180v160Zm220 220h160v-160H400v160Zm0 220h160v-160H400v160ZM180-400h160v-160H180v160Zm440 0h160v-160H620v160ZM180-180h160v-160H180v160Zm440 0h160v-160H620v160Z\"/>\n",
       "  </svg>\n",
       "    </button>\n",
       "    \n",
       "  <style>\n",
       "    .colab-df-container {\n",
       "      display:flex;\n",
       "      gap: 12px;\n",
       "    }\n",
       "\n",
       "    .colab-df-convert {\n",
       "      background-color: #E8F0FE;\n",
       "      border: none;\n",
       "      border-radius: 50%;\n",
       "      cursor: pointer;\n",
       "      display: none;\n",
       "      fill: #1967D2;\n",
       "      height: 32px;\n",
       "      padding: 0 0 0 0;\n",
       "      width: 32px;\n",
       "    }\n",
       "\n",
       "    .colab-df-convert:hover {\n",
       "      background-color: #E2EBFA;\n",
       "      box-shadow: 0px 1px 2px rgba(60, 64, 67, 0.3), 0px 1px 3px 1px rgba(60, 64, 67, 0.15);\n",
       "      fill: #174EA6;\n",
       "    }\n",
       "\n",
       "    .colab-df-buttons div {\n",
       "      margin-bottom: 4px;\n",
       "    }\n",
       "\n",
       "    [theme=dark] .colab-df-convert {\n",
       "      background-color: #3B4455;\n",
       "      fill: #D2E3FC;\n",
       "    }\n",
       "\n",
       "    [theme=dark] .colab-df-convert:hover {\n",
       "      background-color: #434B5C;\n",
       "      box-shadow: 0px 1px 3px 1px rgba(0, 0, 0, 0.15);\n",
       "      filter: drop-shadow(0px 1px 2px rgba(0, 0, 0, 0.3));\n",
       "      fill: #FFFFFF;\n",
       "    }\n",
       "  </style>\n",
       "\n",
       "    <script>\n",
       "      const buttonEl =\n",
       "        document.querySelector('#df-9207bad8-ad42-4525-91fb-a2cbda44c059 button.colab-df-convert');\n",
       "      buttonEl.style.display =\n",
       "        google.colab.kernel.accessAllowed ? 'block' : 'none';\n",
       "\n",
       "      async function convertToInteractive(key) {\n",
       "        const element = document.querySelector('#df-9207bad8-ad42-4525-91fb-a2cbda44c059');\n",
       "        const dataTable =\n",
       "          await google.colab.kernel.invokeFunction('convertToInteractive',\n",
       "                                                    [key], {});\n",
       "        if (!dataTable) return;\n",
       "\n",
       "        const docLinkHtml = 'Like what you see? Visit the ' +\n",
       "          '<a target=\"_blank\" href=https://colab.research.google.com/notebooks/data_table.ipynb>data table notebook</a>'\n",
       "          + ' to learn more about interactive tables.';\n",
       "        element.innerHTML = '';\n",
       "        dataTable['output_type'] = 'display_data';\n",
       "        await google.colab.output.renderOutput(dataTable, element);\n",
       "        const docLink = document.createElement('div');\n",
       "        docLink.innerHTML = docLinkHtml;\n",
       "        element.appendChild(docLink);\n",
       "      }\n",
       "    </script>\n",
       "  </div>\n",
       "  \n",
       "    </div>\n",
       "  </div>\n",
       "  "
      ],
      "text/plain": [
       "  subject  n_epochs  n_ch  left  right  both_hands  both_feet\n",
       "0    S001        90     8    23     22          21         24\n",
       "1    S002        84     8    21     21          21         21\n",
       "2    S003        90     8    23     22          21         24\n",
       "3    S004        84     8    21     21          21         21\n",
       "4    S005        84     8    21     21          21         21\n",
       "5    S006        84     8    21     21          21         21\n",
       "6    S007        90     8    23     22          22         23\n",
       "7    S008        84     8    21     21          21         21\n",
       "8    S009        84     8    21     21          21         21\n",
       "9    S010        84     8    21     21          21         21"
      ]
     },
     "metadata": {},
     "output_type": "display_data"
    }
   ],
   "source": [
    "def preprocess_all(cfg=CFG, raw_dir: Path = DATA_RAW, out_dir: Path = DATA_PROC, do_qc=True):\n",
    "    subs = list_subjects(raw_dir)\n",
    "    rows = []\n",
    "    for sid in subs:\n",
    "        out = preprocess_subject(sid, cfg=cfg, raw_dir=raw_dir, out_dir=out_dir)\n",
    "        if out is None: \n",
    "            continue\n",
    "        ep = mne.read_epochs(str(out), preload=False, verbose=False)\n",
    "        inv = {v:k for v,k in enumerate([])}  # placeholder no usado\n",
    "\n",
    "        # QC (ligero)\n",
    "        if do_qc:\n",
    "            ep.load_data()\n",
    "            qc_quick(ep, sid, fig_dir=FIG_DIR)\n",
    "\n",
    "        inv = {v:k for k,v in ep.event_id.items()}\n",
    "        labels = [inv[e[-1]] for e in ep.events]\n",
    "        cnt = pd.Series(labels).value_counts().reindex(TARGET_CLASSES, fill_value=0)\n",
    "\n",
    "        rows.append(dict(subject=sid, n_epochs=len(ep), n_ch=len(ep.ch_names),\n",
    "                         left=int(cnt['left']), right=int(cnt['right']),\n",
    "                         both_hands=int(cnt['both_hands']), both_feet=int(cnt['both_feet'])))\n",
    "\n",
    "    df = pd.DataFrame(rows).sort_values('subject')\n",
    "    out_csv = out_dir / \"preproc_summary.csv\"\n",
    "    df.to_csv(out_csv, index=False)\n",
    "    print(f\"[RESUMEN] sujetos OK={len(df)}/{len(subs)} | CSV → {out_csv}\")\n",
    "    try:\n",
    "        display(df.head(10))\n",
    "    except:\n",
    "        pass\n",
    "    return df\n",
    "\n",
    "# Ejecuta cuando quieras:\n",
    "df_summary = preprocess_all(CFG, DATA_RAW, DATA_PROC, do_qc=True)\n"
   ]
  },
  {
   "cell_type": "code",
   "execution_count": 17,
   "id": "138ec532",
   "metadata": {},
   "outputs": [
    {
     "name": "stdout",
     "output_type": "stream",
     "text": [
      "S001_MI-epo.fif {'right': 22, 'left': 23, 'both_feet': 24, 'both_hands': 21}\n",
      "S002_MI-epo.fif {'left': 21, 'right': 21, 'both_hands': 21, 'both_feet': 21}\n",
      "S003_MI-epo.fif {'right': 22, 'left': 23, 'both_feet': 24, 'both_hands': 21}\n",
      "S004_MI-epo.fif {'left': 21, 'right': 21, 'both_hands': 21, 'both_feet': 21}\n",
      "S005_MI-epo.fif {'right': 21, 'left': 21, 'both_hands': 21, 'both_feet': 21}\n",
      "S006_MI-epo.fif {'left': 21, 'right': 21, 'both_feet': 21, 'both_hands': 21}\n",
      "S007_MI-epo.fif {'left': 23, 'right': 22, 'both_hands': 22, 'both_feet': 23}\n",
      "S008_MI-epo.fif {'left': 21, 'right': 21, 'both_feet': 21, 'both_hands': 21}\n",
      "S009_MI-epo.fif {'right': 21, 'left': 21, 'both_feet': 21, 'both_hands': 21}\n",
      "S010_MI-epo.fif {'left': 21, 'right': 21, 'both_hands': 21, 'both_feet': 21}\n",
      "S011_MI-epo.fif {'left': 21, 'right': 21, 'both_feet': 21, 'both_hands': 21}\n"
     ]
    },
    {
     "name": "stdout",
     "output_type": "stream",
     "text": [
      "S012_MI-epo.fif {'left': 21, 'right': 21, 'both_feet': 21, 'both_hands': 21}\n",
      "S013_MI-epo.fif {'right': 21, 'left': 21, 'both_feet': 21, 'both_hands': 21}\n",
      "S014_MI-epo.fif {'left': 21, 'right': 21, 'both_feet': 21, 'both_hands': 21}\n",
      "S015_MI-epo.fif {'left': 21, 'right': 21, 'both_hands': 21, 'both_feet': 21}\n",
      "S016_MI-epo.fif {'left': 21, 'right': 21, 'both_hands': 21, 'both_feet': 21}\n",
      "S017_MI-epo.fif {'right': 21, 'left': 21, 'both_hands': 21, 'both_feet': 21}\n",
      "S018_MI-epo.fif {'right': 21, 'left': 21, 'both_feet': 21, 'both_hands': 21}\n",
      "S019_MI-epo.fif {'right': 21, 'left': 21, 'both_hands': 21, 'both_feet': 21}\n",
      "S020_MI-epo.fif {'left': 21, 'right': 21, 'both_hands': 21, 'both_feet': 21}\n",
      "S021_MI-epo.fif {'right': 21, 'left': 24, 'both_feet': 21, 'both_hands': 24}\n",
      "S022_MI-epo.fif {'left': 22, 'right': 23, 'both_hands': 21, 'both_feet': 24}\n",
      "S023_MI-epo.fif {'right': 21, 'left': 21, 'both_hands': 21, 'both_feet': 21}\n",
      "S024_MI-epo.fif {'right': 21, 'left': 21, 'both_hands': 21, 'both_feet': 21}\n",
      "S025_MI-epo.fif {'right': 21, 'left': 21, 'both_hands': 21, 'both_feet': 21}\n",
      "S026_MI-epo.fif {'right': 21, 'left': 21, 'both_hands': 21, 'both_feet': 21}\n",
      "S027_MI-epo.fif {'left': 21, 'right': 21, 'both_feet': 21, 'both_hands': 21}\n",
      "S028_MI-epo.fif {'left': 21, 'right': 21, 'both_hands': 21, 'both_feet': 21}\n",
      "S029_MI-epo.fif {'right': 22, 'left': 23, 'both_feet': 23, 'both_hands': 22}\n",
      "S030_MI-epo.fif {'right': 21, 'left': 24, 'both_feet': 21, 'both_hands': 24}\n",
      "S031_MI-epo.fif {'left': 21, 'right': 21, 'both_hands': 21, 'both_feet': 21}\n",
      "S032_MI-epo.fif {'right': 24, 'left': 21, 'both_feet': 23, 'both_hands': 22}\n",
      "S033_MI-epo.fif {'left': 21, 'right': 21, 'both_feet': 21, 'both_hands': 21}\n",
      "S034_MI-epo.fif {'left': 21, 'right': 22, 'both_feet': 21, 'both_hands': 21}\n",
      "S035_MI-epo.fif {'left': 22, 'right': 23, 'both_hands': 24, 'both_feet': 21}\n",
      "S036_MI-epo.fif {'right': 21, 'left': 21, 'both_hands': 21, 'both_feet': 21}\n",
      "S037_MI-epo.fif {'right': 21, 'left': 22, 'both_hands': 21, 'both_feet': 21}\n",
      "S039_MI-epo.fif {'right': 21, 'left': 21, 'both_feet': 21, 'both_hands': 21}\n",
      "S040_MI-epo.fif {'right': 21, 'left': 21, 'both_hands': 21, 'both_feet': 21}\n",
      "S041_MI-epo.fif {'left': 23, 'right': 21, 'both_hands': 22, 'both_feet': 22}\n",
      "S042_MI-epo.fif {'left': 21, 'right': 21, 'both_feet': 21, 'both_hands': 21}\n",
      "S043_MI-epo.fif {'left': 21, 'right': 21, 'both_feet': 21, 'both_hands': 21}\n",
      "S044_MI-epo.fif {'right': 21, 'left': 21, 'both_hands': 21, 'both_feet': 21}\n",
      "S045_MI-epo.fif {'left': 21, 'right': 21, 'both_feet': 21, 'both_hands': 21}\n",
      "S046_MI-epo.fif {'left': 23, 'right': 22, 'both_feet': 23, 'both_hands': 22}\n",
      "S047_MI-epo.fif {'left': 21, 'right': 21, 'both_feet': 21, 'both_hands': 21}\n",
      "S048_MI-epo.fif {'right': 21, 'left': 21, 'both_hands': 21, 'both_feet': 21}\n",
      "S049_MI-epo.fif {'left': 21, 'right': 21, 'both_hands': 21, 'both_feet': 21}\n",
      "S050_MI-epo.fif {'right': 21, 'left': 21, 'both_feet': 21, 'both_hands': 21}\n",
      "S051_MI-epo.fif {'left': 24, 'right': 21, 'both_feet': 24, 'both_hands': 21}\n",
      "S052_MI-epo.fif {'left': 21, 'right': 21, 'both_feet': 21, 'both_hands': 21}\n",
      "S053_MI-epo.fif {'left': 21, 'right': 21, 'both_feet': 21, 'both_hands': 21}\n",
      "S054_MI-epo.fif {'right': 21, 'left': 21, 'both_feet': 21, 'both_hands': 21}\n",
      "S055_MI-epo.fif {'left': 21, 'right': 21, 'both_hands': 21, 'both_feet': 21}\n",
      "S056_MI-epo.fif {'right': 21, 'left': 21, 'both_hands': 21, 'both_feet': 21}\n",
      "S057_MI-epo.fif {'right': 21, 'left': 24, 'both_hands': 22, 'both_feet': 23}\n",
      "S058_MI-epo.fif {'left': 21, 'right': 21, 'both_feet': 21, 'both_hands': 21}\n",
      "S059_MI-epo.fif {'left': 21, 'right': 21, 'both_hands': 21, 'both_feet': 21}\n",
      "S060_MI-epo.fif {'left': 21, 'right': 21, 'both_feet': 21, 'both_hands': 21}\n",
      "S061_MI-epo.fif {'right': 23, 'left': 22, 'both_hands': 24, 'both_feet': 21}\n",
      "S062_MI-epo.fif {'left': 21, 'right': 21, 'both_feet': 21, 'both_hands': 21}\n",
      "S063_MI-epo.fif {'right': 21, 'left': 21, 'both_feet': 21, 'both_hands': 21}\n",
      "S064_MI-epo.fif {'right': 21, 'left': 23, 'both_feet': 22, 'both_hands': 21}\n",
      "S065_MI-epo.fif {'right': 21, 'left': 24, 'both_feet': 23, 'both_hands': 22}\n",
      "S066_MI-epo.fif {'left': 22, 'right': 23, 'both_hands': 22, 'both_feet': 23}\n",
      "S067_MI-epo.fif {'left': 21, 'right': 21, 'both_hands': 21, 'both_feet': 21}\n",
      "S068_MI-epo.fif {'right': 21, 'left': 21, 'both_feet': 21, 'both_hands': 21}\n",
      "S069_MI-epo.fif {'left': 21, 'right': 21, 'both_feet': 21, 'both_hands': 21}\n",
      "S070_MI-epo.fif {'right': 21, 'left': 21, 'both_hands': 21, 'both_feet': 21}\n",
      "S071_MI-epo.fif {'left': 22, 'right': 23, 'both_feet': 22, 'both_hands': 23}\n",
      "S072_MI-epo.fif {'right': 21, 'left': 22, 'both_hands': 21, 'both_feet': 21}\n",
      "S073_MI-epo.fif {'left': 21, 'right': 21, 'both_feet': 21, 'both_hands': 21}\n",
      "S074_MI-epo.fif {'right': 21, 'left': 22, 'both_hands': 21, 'both_feet': 21}\n",
      "S075_MI-epo.fif {'left': 21, 'right': 21, 'both_feet': 21, 'both_hands': 21}\n",
      "S076_MI-epo.fif {'right': 21, 'left': 21, 'both_hands': 21, 'both_feet': 21}\n",
      "S077_MI-epo.fif {'right': 21, 'left': 21, 'both_feet': 21, 'both_hands': 21}\n",
      "S078_MI-epo.fif {'left': 21, 'right': 21, 'both_feet': 21, 'both_hands': 21}\n",
      "S079_MI-epo.fif {'left': 22, 'right': 23, 'both_feet': 24, 'both_hands': 21}\n",
      "S080_MI-epo.fif {'left': 21, 'right': 21, 'both_hands': 21, 'both_feet': 21}\n",
      "S081_MI-epo.fif {'left': 21, 'right': 21, 'both_hands': 21, 'both_feet': 21}\n",
      "S082_MI-epo.fif {'left': 21, 'right': 21, 'both_feet': 21, 'both_hands': 21}\n",
      "S083_MI-epo.fif {'left': 22, 'right': 23, 'both_hands': 22, 'both_feet': 23}\n",
      "S084_MI-epo.fif {'right': 21, 'left': 21, 'both_feet': 21, 'both_hands': 21}\n",
      "S085_MI-epo.fif {'right': 21, 'left': 21, 'both_hands': 21, 'both_feet': 21}\n",
      "S086_MI-epo.fif {'left': 22, 'right': 23, 'both_hands': 21, 'both_feet': 24}\n",
      "S087_MI-epo.fif {'right': 21, 'left': 21, 'both_feet': 21, 'both_hands': 21}\n",
      "S090_MI-epo.fif {'left': 21, 'right': 21, 'both_feet': 21, 'both_hands': 21}\n",
      "S091_MI-epo.fif {'left': 21, 'right': 21, 'both_hands': 21, 'both_feet': 21}\n",
      "S093_MI-epo.fif {'right': 21, 'left': 21, 'both_feet': 21, 'both_hands': 21}\n",
      "S094_MI-epo.fif {'left': 21, 'right': 21, 'both_hands': 21, 'both_feet': 21}\n",
      "S095_MI-epo.fif {'left': 23, 'right': 22, 'both_hands': 22, 'both_feet': 23}\n",
      "S096_MI-epo.fif {'right': 22, 'left': 23, 'both_feet': 24, 'both_hands': 21}\n",
      "S097_MI-epo.fif {'left': 21, 'right': 21, 'both_feet': 21, 'both_hands': 21}\n",
      "S098_MI-epo.fif {'left': 21, 'right': 21, 'both_feet': 21, 'both_hands': 21}\n",
      "S099_MI-epo.fif {'right': 21, 'left': 21, 'both_feet': 21, 'both_hands': 21}\n",
      "S101_MI-epo.fif {'left': 22, 'right': 23, 'both_hands': 24, 'both_feet': 21}\n",
      "S102_MI-epo.fif {'right': 21, 'left': 21, 'both_hands': 21, 'both_feet': 22}\n",
      "S103_MI-epo.fif {'left': 22, 'right': 23, 'both_feet': 23, 'both_hands': 22}\n",
      "S105_MI-epo.fif {'left': 21, 'right': 21, 'both_feet': 21, 'both_hands': 21}\n",
      "S106_MI-epo.fif {'left': 24, 'right': 21, 'both_feet': 22, 'both_hands': 23}\n",
      "S107_MI-epo.fif {'right': 21, 'left': 24, 'both_feet': 23, 'both_hands': 22}\n",
      "S108_MI-epo.fif {'left': 21, 'right': 21, 'both_hands': 21, 'both_feet': 21}\n",
      "S109_MI-epo.fif {'left': 21, 'right': 21, 'both_feet': 21, 'both_hands': 21}\n"
     ]
    }
   ],
   "source": [
    "def quick_count_subject_epochs(fif_path: Path):\n",
    "    ep = mne.read_epochs(str(fif_path), preload=False, verbose=False)\n",
    "    inv = {v:k for k,v in ep.event_id.items()}\n",
    "    y = [inv[e[-1]] for e in ep.events]\n",
    "    from collections import Counter\n",
    "    return Counter(y)\n",
    "\n",
    "# Ejemplo de uso:\n",
    "for fif in sorted(DATA_PROC.glob(\"S???_MI-epo.fif\")):\n",
    "    print(fif.name, dict(quick_count_subject_epochs(fif)))\n"
   ]
  },
  {
   "cell_type": "code",
   "execution_count": 18,
   "id": "c6338733",
   "metadata": {},
   "outputs": [
    {
     "name": "stdout",
     "output_type": "stream",
     "text": [
      "[Quick check] S065_MI-epo.fif → n_ch=8 | ok_len=True | ok_set=True\n",
      "Channels: ['FC3', 'FC4', 'C3', 'CZ', 'C4', 'CP3', 'CPZ', 'CP4']\n",
      "QC canales → ../data/processed/qc_channels_report.csv\n",
      "exact_8  match_expected\n",
      "True     True              103\n",
      "Name: count, dtype: int64\n"
     ]
    }
   ],
   "source": [
    "from pathlib import Path\n",
    "import mne, pandas as pd\n",
    "\n",
    "# Ajusta esta ruta a tu carpeta processed\n",
    "DATA_PROC = Path(\"../data/processed\")\n",
    "\n",
    "# Los 8 canales esperados (ajusta si tu lista MOTOR_8 es distinta)\n",
    "EXPECTED_8 = ['C3', 'CZ', 'C4', 'FC3', 'FC4', 'CP3', 'CPZ', 'CP4']\n",
    "EXPECTED_8_UP = [c.upper() for c in EXPECTED_8]\n",
    "\n",
    "def check_one(fif_path: Path):\n",
    "    ep = mne.read_epochs(str(fif_path), preload=False, verbose=False)\n",
    "    chs = ep.info[\"ch_names\"]\n",
    "    ok_len = (len(chs) == 8)\n",
    "    ok_set = ([c.upper() for c in chs] == EXPECTED_8_UP) or (set([c.upper() for c in chs]) == set(EXPECTED_8_UP))\n",
    "    return chs, ok_len, ok_set\n",
    "\n",
    "# 1) Muestra rápida en un archivo (por ejemplo S001)\n",
    "one = next(DATA_PROC.glob(\"S???_MI-epo.fif\"), None)\n",
    "if one:\n",
    "    chs, ok_len, ok_set = check_one(one)\n",
    "    print(f\"[Quick check] {one.name} → n_ch={len(chs)} | ok_len={ok_len} | ok_set={ok_set}\")\n",
    "    print(\"Channels:\", chs)\n",
    "else:\n",
    "    print(\"No se encontraron FIFs en\", DATA_PROC)\n",
    "\n",
    "# 2) Revisión masiva y reporte CSV\n",
    "rows = []\n",
    "for fif in sorted(DATA_PROC.glob(\"S???_MI-epo.fif\")):\n",
    "    chs, ok_len, ok_set = check_one(fif)\n",
    "    rows.append(dict(\n",
    "        subject=fif.stem.split(\"_\")[0],\n",
    "        file=fif.name,\n",
    "        n_channels=len(chs),\n",
    "        exact_8=ok_len,\n",
    "        match_expected=ok_set,\n",
    "        channels=\",\".join(chs)\n",
    "    ))\n",
    "\n",
    "df = pd.DataFrame(rows).sort_values(\"subject\")\n",
    "out_csv = DATA_PROC / \"qc_channels_report.csv\"\n",
    "df.to_csv(out_csv, index=False)\n",
    "print(\"QC canales →\", out_csv)\n",
    "\n",
    "# 3) Resumen rápido\n",
    "print(df.groupby([\"exact_8\",\"match_expected\"]).size().rename(\"count\"))\n",
    "\n",
    "\n"
   ]
  }
 ],
 "metadata": {
  "kernelspec": {
   "display_name": "Python 3 (ipykernel)",
   "language": "python",
   "name": "python3"
  },
  "language_info": {
   "codemirror_mode": {
    "name": "ipython",
    "version": 3
   },
   "file_extension": ".py",
   "mimetype": "text/x-python",
   "name": "python",
   "nbconvert_exporter": "python",
   "pygments_lexer": "ipython3",
   "version": "3.11.12"
  }
 },
 "nbformat": 4,
 "nbformat_minor": 5
}
